{
 "cells": [
  {
   "cell_type": "code",
   "execution_count": 1,
   "id": "979941a3",
   "metadata": {},
   "outputs": [],
   "source": [
    "import pandas as pd\n",
    "import numpy as np\n",
    "import matplotlib as plt\n",
    "%matplotlib inline"
   ]
  },
  {
   "cell_type": "code",
   "execution_count": 2,
   "id": "9ec752d3",
   "metadata": {},
   "outputs": [],
   "source": [
    "# Simple linear equation\n",
    "# y = ax1 + bx2\n",
    "# x1 = 3 x2 = 4\n",
    "# a = 3 b = 8\n",
    "# y = 3*3 + 8*4 = 41"
   ]
  },
  {
   "cell_type": "code",
   "execution_count": 3,
   "id": "c1b35967",
   "metadata": {},
   "outputs": [],
   "source": [
    "# What if we don't know value of a(how to find)\n",
    "x1 = 3\n",
    "x2 = 4\n",
    "y = 41\n",
    "x= np.array([x1,x2])"
   ]
  },
  {
   "cell_type": "code",
   "execution_count": 4,
   "id": "ee9339cb",
   "metadata": {},
   "outputs": [
    {
     "data": {
      "text/plain": [
       "578.0"
      ]
     },
     "execution_count": 4,
     "metadata": {},
     "output_type": "execute_result"
    }
   ],
   "source": [
    "w1 = 1\n",
    "w2 = 1\n",
    "y_hat = w1*x1 + w2*x2\n",
    "cost = .5*(y - y_hat)**2\n",
    "cost"
   ]
  },
  {
   "cell_type": "code",
   "execution_count": 5,
   "id": "d8dee155",
   "metadata": {},
   "outputs": [
    {
     "name": "stdout",
     "output_type": "stream",
     "text": [
      "epoch: 0 w1: 2.020000 w2: 2.360000 cost: 578.000000\n",
      "epoch: 1 w1: 2.785000 w2: 3.380000 cost: 325.125000\n",
      "epoch: 2 w1: 3.358750 w2: 4.145000 cost: 182.882812\n",
      "epoch: 3 w1: 3.789062 w2: 4.718750 cost: 102.871582\n",
      "epoch: 4 w1: 4.111797 w2: 5.149063 cost: 57.865265\n",
      "epoch: 5 w1: 4.353848 w2: 5.471797 cost: 32.549212\n",
      "epoch: 6 w1: 4.535386 w2: 5.713848 cost: 18.308931\n",
      "epoch: 7 w1: 4.671539 w2: 5.895386 cost: 10.298774\n",
      "epoch: 8 w1: 4.773654 w2: 6.031539 cost: 5.793060\n",
      "epoch: 9 w1: 4.850241 w2: 6.133654 cost: 3.258596\n"
     ]
    }
   ],
   "source": [
    "w1 = 1\n",
    "w2 = 1\n",
    "lr = .01\n",
    "for epoch in range(10):\n",
    "    y_hat = w1*x1 + w2*x2\n",
    "    cost = .5*(y - y_hat)**2\n",
    "    dcostdw1 = 2.0 * .5 *(y - y_hat)*(-x1)\n",
    "    dcostdw2 = 2.0 * .5 *(y - y_hat)*(-x2)\n",
    "    w1 = w1 - lr*dcostdw1\n",
    "    w2 = w2 - lr*dcostdw2\n",
    "    print(\"epoch: {:d} w1: {:f} w2: {:f} cost: {:f}\".format(epoch, w1,w2,cost))"
   ]
  },
  {
   "cell_type": "code",
   "execution_count": 6,
   "id": "3f98eadf",
   "metadata": {},
   "outputs": [
    {
     "name": "stdout",
     "output_type": "stream",
     "text": [
      "epoch: 0 w1: 0.200000 w2: 2.600000 cost: 800.000000\n",
      "epoch: 1 w1: 1.100000 w2: 3.800000 cost: 450.000000\n",
      "epoch: 2 w1: 1.775000 w2: 4.700000 cost: 253.125000\n",
      "epoch: 3 w1: 2.281250 w2: 5.375000 cost: 142.382812\n",
      "epoch: 4 w1: 2.660938 w2: 5.881250 cost: 80.090332\n",
      "epoch: 5 w1: 2.945703 w2: 6.260937 cost: 45.050812\n",
      "epoch: 6 w1: 3.159277 w2: 6.545703 cost: 25.341082\n",
      "epoch: 7 w1: 3.319458 w2: 6.759277 cost: 14.254358\n",
      "epoch: 8 w1: 3.439594 w2: 6.919458 cost: 8.018077\n",
      "epoch: 9 w1: 3.529695 w2: 7.039594 cost: 4.510168\n",
      "epoch: 10 w1: 3.597271 w2: 7.129695 cost: 2.536970\n",
      "epoch: 11 w1: 3.647954 w2: 7.197271 cost: 1.427045\n",
      "epoch: 12 w1: 3.685965 w2: 7.247954 cost: 0.802713\n",
      "epoch: 13 w1: 3.714474 w2: 7.285965 cost: 0.451526\n",
      "epoch: 14 w1: 3.735855 w2: 7.314474 cost: 0.253983\n",
      "epoch: 15 w1: 3.751892 w2: 7.335855 cost: 0.142866\n",
      "epoch: 16 w1: 3.763919 w2: 7.351892 cost: 0.080362\n",
      "epoch: 17 w1: 3.772939 w2: 7.363919 cost: 0.045204\n",
      "epoch: 18 w1: 3.779704 w2: 7.372939 cost: 0.025427\n",
      "epoch: 19 w1: 3.784778 w2: 7.379704 cost: 0.014303\n",
      "epoch: 20 w1: 3.788584 w2: 7.384778 cost: 0.008045\n",
      "epoch: 21 w1: 3.791438 w2: 7.388584 cost: 0.004525\n",
      "epoch: 22 w1: 3.793578 w2: 7.391438 cost: 0.002546\n",
      "epoch: 23 w1: 3.795184 w2: 7.393578 cost: 0.001432\n",
      "epoch: 24 w1: 3.796388 w2: 7.395184 cost: 0.000805\n",
      "epoch: 25 w1: 3.797291 w2: 7.396388 cost: 0.000453\n",
      "epoch: 26 w1: 3.797968 w2: 7.397291 cost: 0.000255\n",
      "epoch: 27 w1: 3.798476 w2: 7.397968 cost: 0.000143\n",
      "epoch: 28 w1: 3.798857 w2: 7.398476 cost: 0.000081\n",
      "epoch: 29 w1: 3.799143 w2: 7.398857 cost: 0.000045\n",
      "epoch: 30 w1: 3.799357 w2: 7.399143 cost: 0.000026\n",
      "epoch: 31 w1: 3.799518 w2: 7.399357 cost: 0.000014\n",
      "epoch: 32 w1: 3.799638 w2: 7.399518 cost: 0.000008\n",
      "epoch: 33 w1: 3.799729 w2: 7.399638 cost: 0.000005\n",
      "epoch: 34 w1: 3.799797 w2: 7.399729 cost: 0.000003\n",
      "epoch: 35 w1: 3.799847 w2: 7.399797 cost: 0.000001\n",
      "epoch: 36 w1: 3.799886 w2: 7.399847 cost: 0.000001\n",
      "epoch: 37 w1: 3.799914 w2: 7.399886 cost: 0.000000\n",
      "epoch: 38 w1: 3.799936 w2: 7.399914 cost: 0.000000\n",
      "epoch: 39 w1: 3.799952 w2: 7.399936 cost: 0.000000\n",
      "epoch: 40 w1: 3.799964 w2: 7.399952 cost: 0.000000\n",
      "epoch: 41 w1: 3.799973 w2: 7.399964 cost: 0.000000\n",
      "epoch: 42 w1: 3.799980 w2: 7.399973 cost: 0.000000\n",
      "epoch: 43 w1: 3.799985 w2: 7.399980 cost: 0.000000\n",
      "epoch: 44 w1: 3.799989 w2: 7.399985 cost: 0.000000\n",
      "epoch: 45 w1: 3.799991 w2: 7.399989 cost: 0.000000\n",
      "epoch: 46 w1: 3.799994 w2: 7.399991 cost: 0.000000\n",
      "epoch: 47 w1: 3.799995 w2: 7.399994 cost: 0.000000\n",
      "epoch: 48 w1: 3.799996 w2: 7.399995 cost: 0.000000\n",
      "epoch: 49 w1: 3.799997 w2: 7.399996 cost: 0.000000\n"
     ]
    }
   ],
   "source": [
    "# Increase the iterations to 50 and change w1 to -1\n",
    "w1 = -1\n",
    "w2 = 1\n",
    "lr = .01\n",
    "cost_list = []    # saving the cost parameters so we can plot them later\n",
    "for epoch in range(50):\n",
    "    y_hat = w1*x1 + w2*x2\n",
    "    cost = .5*(y - y_hat)**2\n",
    "    dcostdw1 = 2.0 * .5 *(y - y_hat)*(-x1)\n",
    "    dcostdw2 = 2.0 * .5 *(y - y_hat)*(-x2)\n",
    "    w1 = w1 - lr*dcostdw1\n",
    "    w2 = w2 - lr*dcostdw2\n",
    "    print(\"epoch: {:d} w1: {:f} w2: {:f} cost: {:f}\".format(epoch, w1,w2,cost))\n",
    "    cost_list.append([epoch, cost])\n",
    "    \n",
    "cost_list = pd.DataFrame(cost_list, columns = [\"epoch\", \"cost\"])"
   ]
  },
  {
   "cell_type": "code",
   "execution_count": 7,
   "id": "d79ac09b",
   "metadata": {},
   "outputs": [
    {
     "data": {
      "text/html": [
       "<div>\n",
       "<style scoped>\n",
       "    .dataframe tbody tr th:only-of-type {\n",
       "        vertical-align: middle;\n",
       "    }\n",
       "\n",
       "    .dataframe tbody tr th {\n",
       "        vertical-align: top;\n",
       "    }\n",
       "\n",
       "    .dataframe thead th {\n",
       "        text-align: right;\n",
       "    }\n",
       "</style>\n",
       "<table border=\"1\" class=\"dataframe\">\n",
       "  <thead>\n",
       "    <tr style=\"text-align: right;\">\n",
       "      <th></th>\n",
       "      <th>epoch</th>\n",
       "      <th>cost</th>\n",
       "    </tr>\n",
       "  </thead>\n",
       "  <tbody>\n",
       "    <tr>\n",
       "      <th>0</th>\n",
       "      <td>0</td>\n",
       "      <td>800.000000</td>\n",
       "    </tr>\n",
       "    <tr>\n",
       "      <th>1</th>\n",
       "      <td>1</td>\n",
       "      <td>450.000000</td>\n",
       "    </tr>\n",
       "    <tr>\n",
       "      <th>2</th>\n",
       "      <td>2</td>\n",
       "      <td>253.125000</td>\n",
       "    </tr>\n",
       "    <tr>\n",
       "      <th>3</th>\n",
       "      <td>3</td>\n",
       "      <td>142.382812</td>\n",
       "    </tr>\n",
       "    <tr>\n",
       "      <th>4</th>\n",
       "      <td>4</td>\n",
       "      <td>80.090332</td>\n",
       "    </tr>\n",
       "  </tbody>\n",
       "</table>\n",
       "</div>"
      ],
      "text/plain": [
       "   epoch        cost\n",
       "0      0  800.000000\n",
       "1      1  450.000000\n",
       "2      2  253.125000\n",
       "3      3  142.382812\n",
       "4      4   80.090332"
      ]
     },
     "execution_count": 7,
     "metadata": {},
     "output_type": "execute_result"
    }
   ],
   "source": [
    "cost_list.head()"
   ]
  },
  {
   "cell_type": "code",
   "execution_count": 8,
   "id": "7a3f8f7e",
   "metadata": {},
   "outputs": [
    {
     "data": {
      "text/plain": [
       "<AxesSubplot:>"
      ]
     },
     "execution_count": 8,
     "metadata": {},
     "output_type": "execute_result"
    },
    {
     "data": {
      "image/png": "[encoded data removed]",
      "text/plain": [
       "<Figure size 432x288 with 1 Axes>"
      ]
     },
     "metadata": {
      "needs_background": "light"
     },
     "output_type": "display_data"
    }
   ],
   "source": [
    "import matplotlib.pyplot as plt\n",
    "%matplotlib inline\n",
    "cost_list.plot()"
   ]
  },
  {
   "cell_type": "code",
   "execution_count": 9,
   "id": "a6b0578b",
   "metadata": {},
   "outputs": [
    {
     "name": "stdout",
     "output_type": "stream",
     "text": [
      "epoch: 0 w1: 0.200000 w2: 2.600000 cost: 800.000000\n",
      "epoch: 1 w1: 1.100000 w2: 3.800000 cost: 450.000000\n",
      "epoch: 2 w1: 1.775000 w2: 4.700000 cost: 253.125000\n",
      "epoch: 3 w1: 2.281250 w2: 5.375000 cost: 142.382812\n",
      "epoch: 4 w1: 2.660938 w2: 5.881250 cost: 80.090332\n",
      "epoch: 5 w1: 2.945703 w2: 6.260937 cost: 45.050812\n",
      "epoch: 6 w1: 3.159277 w2: 6.545703 cost: 25.341082\n",
      "epoch: 7 w1: 3.319458 w2: 6.759277 cost: 14.254358\n",
      "epoch: 8 w1: 3.439594 w2: 6.919458 cost: 8.018077\n",
      "epoch: 9 w1: 3.529695 w2: 7.039594 cost: 4.510168\n",
      "epoch: 10 w1: 3.597271 w2: 7.129695 cost: 2.536970\n",
      "epoch: 11 w1: 3.647954 w2: 7.197271 cost: 1.427045\n",
      "epoch: 12 w1: 3.685965 w2: 7.247954 cost: 0.802713\n",
      "epoch: 13 w1: 3.714474 w2: 7.285965 cost: 0.451526\n",
      "epoch: 14 w1: 3.735855 w2: 7.314474 cost: 0.253983\n",
      "epoch: 15 w1: 3.751892 w2: 7.335855 cost: 0.142866\n",
      "epoch: 16 w1: 3.763919 w2: 7.351892 cost: 0.080362\n",
      "epoch: 17 w1: 3.772939 w2: 7.363919 cost: 0.045204\n",
      "epoch: 18 w1: 3.779704 w2: 7.372939 cost: 0.025427\n",
      "epoch: 19 w1: 3.784778 w2: 7.379704 cost: 0.014303\n",
      "epoch: 20 w1: 3.788584 w2: 7.384778 cost: 0.008045\n",
      "epoch: 21 w1: 3.791438 w2: 7.388584 cost: 0.004525\n",
      "epoch: 22 w1: 3.793578 w2: 7.391438 cost: 0.002546\n",
      "epoch: 23 w1: 3.795184 w2: 7.393578 cost: 0.001432\n",
      "epoch: 24 w1: 3.796388 w2: 7.395184 cost: 0.000805\n"
     ]
    }
   ],
   "source": [
    "# Fifty seems to overfit the model, so we'll do a loop break\n",
    "w1 = -1\n",
    "w2 = 1\n",
    "lr = .01\n",
    "cost_list = [] \n",
    "for epoch in range(50):\n",
    "    y_hat = w1*x1 + w2*x2\n",
    "    cost = .5*(y - y_hat)**2\n",
    "    dcostdw1 = 2.0 * .5 *(y - y_hat)*(-x1)\n",
    "    dcostdw2 = 2.0 * .5 *(y - y_hat)*(-x2)\n",
    "    w1 = w1 - lr*dcostdw1\n",
    "    w2 = w2 - lr*dcostdw2\n",
    "    print(\"epoch: {:d} w1: {:f} w2: {:f} cost: {:f}\".format(epoch, w1,w2,cost))\n",
    "    cost_list.append([epoch, cost])\n",
    "    if cost <= .001:\n",
    "        break\n",
    "        \n",
    "cost_list = pd.DataFrame(cost_list, columns = [\"epoch\", \"cost\"])"
   ]
  },
  {
   "cell_type": "code",
   "execution_count": 10,
   "id": "70459f72",
   "metadata": {},
   "outputs": [
    {
     "data": {
      "text/plain": [
       "<AxesSubplot:>"
      ]
     },
     "execution_count": 10,
     "metadata": {},
     "output_type": "execute_result"
    },
    {
     "data": {
      "image/png": "[encoded data removed]",
      "text/plain": [
       "<Figure size 432x288 with 1 Axes>"
      ]
     },
     "metadata": {
      "needs_background": "light"
     },
     "output_type": "display_data"
    }
   ],
   "source": [
    "cost_list.plot()"
   ]
  },
  {
   "cell_type": "code",
   "execution_count": 11,
   "id": "9d194e1d",
   "metadata": {},
   "outputs": [],
   "source": [
    "# This is an example of a very basic neural network. "
   ]
  },
  {
   "cell_type": "code",
   "execution_count": 12,
   "id": "9b74b4cc",
   "metadata": {},
   "outputs": [],
   "source": [
    "# Making above code into a function to do other analysis\n",
    "w1 = -1\n",
    "w2 = 1\n",
    "lr = .01\n",
    "def nn(w1,w2,x1,x2,y,lr):\n",
    "    cost_list = []\n",
    "    for epoch in range(50):\n",
    "        y_hat = w1*x1 + w2*x2\n",
    "        cost = .5*(y - y_hat)**2\n",
    "        dcostdw1 = 2.0 * .5 *(y - y_hat)*(-x1)\n",
    "        dcostdw2 = 2.0 * .5 *(y - y_hat)*(-x2)\n",
    "        w1 = w1 - lr*dcostdw1\n",
    "        w2 = w2 - lr*dcostdw2\n",
    "        print(\"epoch: {:d} w1: {:f} w2: {:f} cost: {:f}\".format(epoch, w1,w2,cost))\n",
    "        cost_list.append([epoch, cost])\n",
    "        if cost <= .001:\n",
    "            break\n",
    "    \n",
    "    cost_list = pd.DataFrame(cost_list, columns = [\"epoch\", \"cost\"])\n",
    "    return w1,w2,cost_list"
   ]
  },
  {
   "cell_type": "code",
   "execution_count": 13,
   "id": "fec44091",
   "metadata": {},
   "outputs": [
    {
     "name": "stdout",
     "output_type": "stream",
     "text": [
      "epoch: 0 w1: 0.200000 w2: 2.600000 cost: 800.000000\n",
      "epoch: 1 w1: 1.100000 w2: 3.800000 cost: 450.000000\n",
      "epoch: 2 w1: 1.775000 w2: 4.700000 cost: 253.125000\n",
      "epoch: 3 w1: 2.281250 w2: 5.375000 cost: 142.382812\n",
      "epoch: 4 w1: 2.660938 w2: 5.881250 cost: 80.090332\n",
      "epoch: 5 w1: 2.945703 w2: 6.260937 cost: 45.050812\n",
      "epoch: 6 w1: 3.159277 w2: 6.545703 cost: 25.341082\n",
      "epoch: 7 w1: 3.319458 w2: 6.759277 cost: 14.254358\n",
      "epoch: 8 w1: 3.439594 w2: 6.919458 cost: 8.018077\n",
      "epoch: 9 w1: 3.529695 w2: 7.039594 cost: 4.510168\n",
      "epoch: 10 w1: 3.597271 w2: 7.129695 cost: 2.536970\n",
      "epoch: 11 w1: 3.647954 w2: 7.197271 cost: 1.427045\n",
      "epoch: 12 w1: 3.685965 w2: 7.247954 cost: 0.802713\n",
      "epoch: 13 w1: 3.714474 w2: 7.285965 cost: 0.451526\n",
      "epoch: 14 w1: 3.735855 w2: 7.314474 cost: 0.253983\n",
      "epoch: 15 w1: 3.751892 w2: 7.335855 cost: 0.142866\n",
      "epoch: 16 w1: 3.763919 w2: 7.351892 cost: 0.080362\n",
      "epoch: 17 w1: 3.772939 w2: 7.363919 cost: 0.045204\n",
      "epoch: 18 w1: 3.779704 w2: 7.372939 cost: 0.025427\n",
      "epoch: 19 w1: 3.784778 w2: 7.379704 cost: 0.014303\n",
      "epoch: 20 w1: 3.788584 w2: 7.384778 cost: 0.008045\n",
      "epoch: 21 w1: 3.791438 w2: 7.388584 cost: 0.004525\n",
      "epoch: 22 w1: 3.793578 w2: 7.391438 cost: 0.002546\n",
      "epoch: 23 w1: 3.795184 w2: 7.393578 cost: 0.001432\n",
      "epoch: 24 w1: 3.796388 w2: 7.395184 cost: 0.000805\n"
     ]
    }
   ],
   "source": [
    "w1,w2,cost_list = nn(w1,w2,x1,x2,y,lr)"
   ]
  },
  {
   "cell_type": "code",
   "execution_count": 14,
   "id": "4529dd02",
   "metadata": {},
   "outputs": [
    {
     "name": "stdout",
     "output_type": "stream",
     "text": [
      "3.796387791400808 7.395183721867744\n"
     ]
    }
   ],
   "source": [
    "print (w1,w2)"
   ]
  },
  {
   "cell_type": "code",
   "execution_count": 15,
   "id": "8091b15c",
   "metadata": {},
   "outputs": [
    {
     "name": "stdout",
     "output_type": "stream",
     "text": [
      "epoch: 0 w1: 4.880000 w2: 11.200000 cost: 2592.000000\n",
      "epoch: 1 w1: 4.419200 w2: 10.048000 cost: 66.355200\n",
      "epoch: 2 w1: 4.492928 w2: 10.232320 cost: 1.698693\n",
      "epoch: 3 w1: 4.481132 w2: 10.202829 cost: 0.043487\n",
      "epoch: 4 w1: 4.483019 w2: 10.207547 cost: 0.001113\n",
      "epoch: 5 w1: 4.482717 w2: 10.206792 cost: 0.000028\n"
     ]
    }
   ],
   "source": [
    "# Standardizing the function and changing input values\n",
    "x1 = 4\n",
    "x2 = 10\n",
    "y = 120\n",
    "w1 = 2\n",
    "w2 = 4\n",
    "lr = .01\n",
    "w1,w2,cost_list = nn(w1,w2,x1,x2,y,lr)\n",
    "# Makes the whole process way easier"
   ]
  },
  {
   "cell_type": "code",
   "execution_count": 16,
   "id": "2fd5ae1d",
   "metadata": {},
   "outputs": [
    {
     "name": "stdout",
     "output_type": "stream",
     "text": [
      "4.482716966911999 10.20679241728\n"
     ]
    }
   ],
   "source": [
    "print(w1,w2)"
   ]
  },
  {
   "cell_type": "code",
   "execution_count": 17,
   "id": "8a22550d",
   "metadata": {},
   "outputs": [],
   "source": [
    "# What if you have more than one equation?\n",
    "# We can do matrix multiplication\n",
    "x1 = 3   # The x values are your variables\n",
    "x2 = 8\n",
    "x3 = 10\n",
    "x4 = 9\n",
    "y1 = 41   # The y values are our target variables\n",
    "y2 = 102\n",
    "w1 = 1   #  The w values are our weight values\n",
    "w2 = 1   #  The higher the weight value is, the lower the learning rate has to be.\n",
    "# Make these values a column matrix\n",
    "x = np.array([[x1,x2],\n",
    "             [x3,x4]])  # x1,x3 are our first column, x2,x4 are our second column\n",
    "y = np.array([[y1],[y2]])  # target variables for our first and second columns\n",
    "w = np.array([[w1],[w2]])  # or use np.ones((2,1))"
   ]
  },
  {
   "cell_type": "code",
   "execution_count": 18,
   "id": "b01af86e",
   "metadata": {},
   "outputs": [
    {
     "name": "stdout",
     "output_type": "stream",
     "text": [
      "(2, 2)\n",
      "(2, 1)\n",
      "(2, 1)\n"
     ]
    }
   ],
   "source": [
    "# See the shape of the matrix\n",
    "print(x.shape)\n",
    "print(y.shape)\n",
    "print(w.shape)"
   ]
  },
  {
   "cell_type": "code",
   "execution_count": 19,
   "id": "35e2936c",
   "metadata": {},
   "outputs": [
    {
     "name": "stdout",
     "output_type": "stream",
     "text": [
      "(2, 1)\n",
      "[[11]\n",
      " [19]]\n"
     ]
    }
   ],
   "source": [
    "# Calculating y_hat \n",
    "# np.dot is the function that returns the product of two arrays\n",
    "# For 2-D vectors, it is the equivalent to matrix multiplication\n",
    "y_hat = np.dot(x,w)\n",
    "print(y_hat.shape)\n",
    "print(y_hat)"
   ]
  },
  {
   "cell_type": "code",
   "execution_count": 20,
   "id": "0912d2c9",
   "metadata": {},
   "outputs": [
    {
     "name": "stdout",
     "output_type": "stream",
     "text": [
      "epoch: 0 w1: 1.500000 w2: 1.527000 cost: 1290.500000\n",
      "epoch: 1 w1: 1.895962 w2: 1.947449 cost: 816.856688\n",
      "epoch: 2 w1: 2.209242 w2: 2.283167 cost: 517.475466\n",
      "epoch: 3 w1: 2.456817 w2: 2.551500 cost: 328.227788\n",
      "epoch: 4 w1: 2.652183 w2: 2.766240 cost: 208.584931\n",
      "epoch: 5 w1: 2.806068 w2: 2.938350 cost: 132.933054\n",
      "epoch: 6 w1: 2.927002 w2: 3.076546 cost: 85.084389\n",
      "epoch: 7 w1: 3.021764 w2: 3.187758 cost: 54.808365\n",
      "epoch: 8 w1: 3.095742 w2: 3.277495 cost: 35.639312\n",
      "epoch: 9 w1: 3.153222 w2: 3.350139 cost: 23.490940\n",
      "epoch: 10 w1: 3.197607 w2: 3.409170 cost: 15.780711\n",
      "epoch: 11 w1: 3.231606 w2: 3.457359 cost: 10.876445\n",
      "epoch: 12 w1: 3.257369 w2: 3.496906 cost: 7.746583\n",
      "epoch: 13 w1: 3.276607 w2: 3.529563 cost: 5.739153\n",
      "epoch: 14 w1: 3.290678 w2: 3.556722 cost: 4.442079\n",
      "epoch: 15 w1: 3.300662 w2: 3.579488 cost: 3.594900\n",
      "epoch: 16 w1: 3.307418 w2: 3.598744 cost: 3.032974\n",
      "epoch: 17 w1: 3.311628 w2: 3.615188 cost: 2.652218\n",
      "epoch: 18 w1: 3.313832 w2: 3.629379 cost: 2.386824\n",
      "epoch: 19 w1: 3.314463 w2: 3.641759 cost: 2.195170\n",
      "epoch: 20 w1: 3.313861 w2: 3.652681 cost: 2.050925\n",
      "epoch: 21 w1: 3.312298 w2: 3.662425 cost: 1.937421\n",
      "epoch: 22 w1: 3.309990 w2: 3.671215 cost: 1.844097\n",
      "epoch: 23 w1: 3.307107 w2: 3.679229 cost: 1.764253\n",
      "epoch: 24 w1: 3.303785 w2: 3.686608 cost: 1.693632\n",
      "epoch: 25 w1: 3.300131 w2: 3.693465 cost: 1.629517\n",
      "epoch: 26 w1: 3.296231 w2: 3.699891 cost: 1.570171\n",
      "epoch: 27 w1: 3.292152 w2: 3.705958 cost: 1.514472\n",
      "epoch: 28 w1: 3.287947 w2: 3.711722 cost: 1.461691\n",
      "epoch: 29 w1: 3.283659 w2: 3.717231 cost: 1.411346\n",
      "epoch: 30 w1: 3.279321 w2: 3.722520 cost: 1.363112\n",
      "epoch: 31 w1: 3.274958 w2: 3.727619 cost: 1.316765\n",
      "epoch: 32 w1: 3.270591 w2: 3.732552 cost: 1.272146\n",
      "epoch: 33 w1: 3.266237 w2: 3.737338 cost: 1.229133\n",
      "epoch: 34 w1: 3.261907 w2: 3.741992 cost: 1.187635\n",
      "epoch: 35 w1: 3.257612 w2: 3.746528 cost: 1.147576\n",
      "epoch: 36 w1: 3.253359 w2: 3.750955 cost: 1.108893\n",
      "epoch: 37 w1: 3.249153 w2: 3.755281 cost: 1.071528\n",
      "epoch: 38 w1: 3.244999 w2: 3.759514 cost: 1.035433\n",
      "epoch: 39 w1: 3.240900 w2: 3.763659 cost: 1.000559\n",
      "epoch: 40 w1: 3.236858 w2: 3.767721 cost: 0.966864\n",
      "epoch: 41 w1: 3.232874 w2: 3.771704 cost: 0.934306\n",
      "epoch: 42 w1: 3.228951 w2: 3.775611 cost: 0.902846\n",
      "epoch: 43 w1: 3.225088 w2: 3.779446 cost: 0.872446\n",
      "epoch: 44 w1: 3.221285 w2: 3.783210 cost: 0.843070\n",
      "epoch: 45 w1: 3.217544 w2: 3.786907 cost: 0.814684\n",
      "epoch: 46 w1: 3.213862 w2: 3.790537 cost: 0.787254\n",
      "epoch: 47 w1: 3.210241 w2: 3.794103 cost: 0.760747\n",
      "epoch: 48 w1: 3.206679 w2: 3.797607 cost: 0.735133\n",
      "epoch: 49 w1: 3.203176 w2: 3.801050 cost: 0.710382\n",
      "epoch: 50 w1: 3.199731 w2: 3.804432 cost: 0.686464\n",
      "epoch: 51 w1: 3.196344 w2: 3.807757 cost: 0.663351\n",
      "epoch: 52 w1: 3.193013 w2: 3.811024 cost: 0.641016\n",
      "epoch: 53 w1: 3.189738 w2: 3.814235 cost: 0.619434\n",
      "epoch: 54 w1: 3.186519 w2: 3.817391 cost: 0.598578\n",
      "epoch: 55 w1: 3.183353 w2: 3.820493 cost: 0.578424\n",
      "epoch: 56 w1: 3.180241 w2: 3.823542 cost: 0.558949\n",
      "epoch: 57 w1: 3.177182 w2: 3.826539 cost: 0.540130\n",
      "epoch: 58 w1: 3.174175 w2: 3.829485 cost: 0.521944\n",
      "epoch: 59 w1: 3.171218 w2: 3.832381 cost: 0.504371\n",
      "epoch: 60 w1: 3.168311 w2: 3.835227 cost: 0.487389\n",
      "epoch: 61 w1: 3.165454 w2: 3.838025 cost: 0.470979\n",
      "epoch: 62 w1: 3.162645 w2: 3.840776 cost: 0.455122\n",
      "epoch: 63 w1: 3.159884 w2: 3.843480 cost: 0.439798\n",
      "epoch: 64 w1: 3.157170 w2: 3.846137 cost: 0.424990\n",
      "epoch: 65 w1: 3.154501 w2: 3.848750 cost: 0.410681\n",
      "epoch: 66 w1: 3.151878 w2: 3.851318 cost: 0.396854\n",
      "epoch: 67 w1: 3.149299 w2: 3.853843 cost: 0.383492\n",
      "epoch: 68 w1: 3.146765 w2: 3.856324 cost: 0.370580\n",
      "epoch: 69 w1: 3.144273 w2: 3.858764 cost: 0.358103\n",
      "epoch: 70 w1: 3.141823 w2: 3.861162 cost: 0.346046\n",
      "epoch: 71 w1: 3.139415 w2: 3.863519 cost: 0.334395\n",
      "epoch: 72 w1: 3.137048 w2: 3.865836 cost: 0.323136\n",
      "epoch: 73 w1: 3.134721 w2: 3.868114 cost: 0.312257\n",
      "epoch: 74 w1: 3.132434 w2: 3.870354 cost: 0.301743\n",
      "epoch: 75 w1: 3.130185 w2: 3.872555 cost: 0.291584\n",
      "epoch: 76 w1: 3.127975 w2: 3.874719 cost: 0.281766\n",
      "epoch: 77 w1: 3.125802 w2: 3.876846 cost: 0.272280\n",
      "epoch: 78 w1: 3.123666 w2: 3.878937 cost: 0.263112\n",
      "epoch: 79 w1: 3.121567 w2: 3.880992 cost: 0.254253\n",
      "epoch: 80 w1: 3.119503 w2: 3.883013 cost: 0.245693\n",
      "epoch: 81 w1: 3.117474 w2: 3.884999 cost: 0.237421\n",
      "epoch: 82 w1: 3.115479 w2: 3.886952 cost: 0.229427\n",
      "epoch: 83 w1: 3.113518 w2: 3.888871 cost: 0.221702\n",
      "epoch: 84 w1: 3.111591 w2: 3.890758 cost: 0.214238\n",
      "epoch: 85 w1: 3.109696 w2: 3.892613 cost: 0.207024\n",
      "epoch: 86 w1: 3.107834 w2: 3.894436 cost: 0.200054\n",
      "epoch: 87 w1: 3.106003 w2: 3.896228 cost: 0.193318\n",
      "epoch: 88 w1: 3.104203 w2: 3.897990 cost: 0.186810\n",
      "epoch: 89 w1: 3.102434 w2: 3.899722 cost: 0.180520\n",
      "epoch: 90 w1: 3.100695 w2: 3.901425 cost: 0.174442\n",
      "epoch: 91 w1: 3.098985 w2: 3.903099 cost: 0.168569\n",
      "epoch: 92 w1: 3.097304 w2: 3.904744 cost: 0.162893\n",
      "epoch: 93 w1: 3.095652 w2: 3.906361 cost: 0.157409\n",
      "epoch: 94 w1: 3.094028 w2: 3.907951 cost: 0.152109\n",
      "epoch: 95 w1: 3.092432 w2: 3.909514 cost: 0.146987\n",
      "epoch: 96 w1: 3.090862 w2: 3.911050 cost: 0.142038\n",
      "epoch: 97 w1: 3.089320 w2: 3.912561 cost: 0.137256\n",
      "epoch: 98 w1: 3.087803 w2: 3.914045 cost: 0.132635\n",
      "epoch: 99 w1: 3.086312 w2: 3.915505 cost: 0.128169\n",
      "epoch: 100 w1: 3.084847 w2: 3.916939 cost: 0.123854\n",
      "epoch: 101 w1: 3.083406 w2: 3.918349 cost: 0.119684\n",
      "epoch: 102 w1: 3.081990 w2: 3.919736 cost: 0.115654\n",
      "epoch: 103 w1: 3.080598 w2: 3.921099 cost: 0.111760\n",
      "epoch: 104 w1: 3.079230 w2: 3.922438 cost: 0.107997\n",
      "epoch: 105 w1: 3.077884 w2: 3.923755 cost: 0.104361\n",
      "epoch: 106 w1: 3.076562 w2: 3.925050 cost: 0.100847\n",
      "epoch: 107 w1: 3.075262 w2: 3.926322 cost: 0.097452\n",
      "epoch: 108 w1: 3.073984 w2: 3.927573 cost: 0.094171\n",
      "epoch: 109 w1: 3.072728 w2: 3.928803 cost: 0.091000\n",
      "epoch: 110 w1: 3.071493 w2: 3.930012 cost: 0.087936\n",
      "epoch: 111 w1: 3.070279 w2: 3.931200 cost: 0.084975\n",
      "epoch: 112 w1: 3.069086 w2: 3.932368 cost: 0.082114\n",
      "epoch: 113 w1: 3.067913 w2: 3.933516 cost: 0.079350\n",
      "epoch: 114 w1: 3.066760 w2: 3.934645 cost: 0.076678\n",
      "epoch: 115 w1: 3.065627 w2: 3.935755 cost: 0.074096\n",
      "epoch: 116 w1: 3.064512 w2: 3.936846 cost: 0.071602\n",
      "epoch: 117 w1: 3.063417 w2: 3.937918 cost: 0.069191\n",
      "epoch: 118 w1: 3.062340 w2: 3.938972 cost: 0.066861\n",
      "epoch: 119 w1: 3.061282 w2: 3.940008 cost: 0.064610\n",
      "epoch: 120 w1: 3.060241 w2: 3.941027 cost: 0.062435\n",
      "epoch: 121 w1: 3.059218 w2: 3.942028 cost: 0.060333\n",
      "epoch: 122 w1: 3.058213 w2: 3.943012 cost: 0.058301\n",
      "epoch: 123 w1: 3.057225 w2: 3.943980 cost: 0.056338\n",
      "epoch: 124 w1: 3.056253 w2: 3.944931 cost: 0.054441\n",
      "epoch: 125 w1: 3.055298 w2: 3.945866 cost: 0.052608\n",
      "epoch: 126 w1: 3.054359 w2: 3.946785 cost: 0.050837\n",
      "epoch: 127 w1: 3.053436 w2: 3.947689 cost: 0.049125\n",
      "epoch: 128 w1: 3.052529 w2: 3.948577 cost: 0.047471\n",
      "epoch: 129 w1: 3.051637 w2: 3.949450 cost: 0.045873\n",
      "epoch: 130 w1: 3.050760 w2: 3.950308 cost: 0.044329\n",
      "epoch: 131 w1: 3.049898 w2: 3.951152 cost: 0.042836\n",
      "epoch: 132 w1: 3.049051 w2: 3.951981 cost: 0.041394\n",
      "epoch: 133 w1: 3.048218 w2: 3.952797 cost: 0.040000\n",
      "epoch: 134 w1: 3.047400 w2: 3.953598 cost: 0.038653\n",
      "epoch: 135 w1: 3.046595 w2: 3.954386 cost: 0.037352\n",
      "epoch: 136 w1: 3.045804 w2: 3.955160 cost: 0.036094\n",
      "epoch: 137 w1: 3.045026 w2: 3.955922 cost: 0.034879\n",
      "epoch: 138 w1: 3.044262 w2: 3.956670 cost: 0.033705\n",
      "epoch: 139 w1: 3.043510 w2: 3.957406 cost: 0.032570\n",
      "epoch: 140 w1: 3.042771 w2: 3.958129 cost: 0.031473\n",
      "epoch: 141 w1: 3.042045 w2: 3.958840 cost: 0.030414\n",
      "epoch: 142 w1: 3.041331 w2: 3.959539 cost: 0.029390\n",
      "epoch: 143 w1: 3.040629 w2: 3.960226 cost: 0.028400\n",
      "epoch: 144 w1: 3.039940 w2: 3.960901 cost: 0.027444\n",
      "epoch: 145 w1: 3.039261 w2: 3.961565 cost: 0.026520\n",
      "epoch: 146 w1: 3.038595 w2: 3.962218 cost: 0.025627\n",
      "epoch: 147 w1: 3.037940 w2: 3.962859 cost: 0.024764\n",
      "epoch: 148 w1: 3.037295 w2: 3.963490 cost: 0.023930\n",
      "epoch: 149 w1: 3.036662 w2: 3.964110 cost: 0.023125\n",
      "epoch: 150 w1: 3.036040 w2: 3.964719 cost: 0.022346\n",
      "epoch: 151 w1: 3.035428 w2: 3.965318 cost: 0.021594\n",
      "epoch: 152 w1: 3.034826 w2: 3.965907 cost: 0.020867\n",
      "epoch: 153 w1: 3.034235 w2: 3.966486 cost: 0.020164\n",
      "epoch: 154 w1: 3.033654 w2: 3.967055 cost: 0.019485\n",
      "epoch: 155 w1: 3.033082 w2: 3.967614 cost: 0.018829\n",
      "epoch: 156 w1: 3.032521 w2: 3.968164 cost: 0.018195\n",
      "epoch: 157 w1: 3.031968 w2: 3.968704 cost: 0.017583\n",
      "epoch: 158 w1: 3.031426 w2: 3.969236 cost: 0.016991\n",
      "epoch: 159 w1: 3.030892 w2: 3.969758 cost: 0.016418\n",
      "epoch: 160 w1: 3.030368 w2: 3.970272 cost: 0.015866\n",
      "epoch: 161 w1: 3.029852 w2: 3.970776 cost: 0.015332\n",
      "epoch: 162 w1: 3.029345 w2: 3.971273 cost: 0.014815\n",
      "epoch: 163 w1: 3.028847 w2: 3.971760 cost: 0.014316\n",
      "epoch: 164 w1: 3.028357 w2: 3.972240 cost: 0.013834\n",
      "epoch: 165 w1: 3.027876 w2: 3.972711 cost: 0.013369\n",
      "epoch: 166 w1: 3.027402 w2: 3.973174 cost: 0.012919\n",
      "epoch: 167 w1: 3.026937 w2: 3.973630 cost: 0.012484\n",
      "epoch: 168 w1: 3.026480 w2: 3.974078 cost: 0.012063\n",
      "epoch: 169 w1: 3.026030 w2: 3.974518 cost: 0.011657\n",
      "epoch: 170 w1: 3.025588 w2: 3.974950 cost: 0.011265\n",
      "epoch: 171 w1: 3.025154 w2: 3.975376 cost: 0.010885\n",
      "epoch: 172 w1: 3.024727 w2: 3.975794 cost: 0.010519\n",
      "epoch: 173 w1: 3.024307 w2: 3.976205 cost: 0.010165\n",
      "epoch: 174 w1: 3.023894 w2: 3.976609 cost: 0.009822\n"
     ]
    }
   ],
   "source": [
    "# Calculating cost\n",
    "x1,x2,x3,x4 = 3,8,10,7\n",
    "y1,y2 = 41,58\n",
    "w1,w2 = 1,1\n",
    "x = np.array([[x1,x2],\n",
    "             [x3,x4]]) \n",
    "y = np.array([[y1],[y2]])  \n",
    "w = np.array([[w1],[w2]])\n",
    "cost_list = []\n",
    "lr = .001  # if cost rate is too high, decrease the learning rate\n",
    "for epoch in range(1500):\n",
    "    y_hat = np.dot(x,w)\n",
    "    cost = .5 * np.sum((y - y_hat)**2)\n",
    "    dcostdw1 = 2  * .5 * np.dot(((y - y_hat).T),-x[:,0])\n",
    "    dcostdw2 = 2  * .5 * np.dot(((y - y_hat).T),-x[:,1])\n",
    "    w1 = w1 - lr*dcostdw1\n",
    "    w2 = w2 - lr*dcostdw2\n",
    "    w = np.array([[w1[0]],[w2[0]]])\n",
    "    print(\"epoch: {:d} w1: {:f} w2: {:f} cost: {:f}\".format(epoch, w1[0],w2[0],cost))\n",
    "    cost_list.append([epoch, cost])\n",
    "    if cost <= .01: # increase or decrease cost level to decrease cost rate\n",
    "        break"
   ]
  },
  {
   "cell_type": "code",
   "execution_count": 25,
   "id": "4f707e8e",
   "metadata": {},
   "outputs": [],
   "source": [
    "# Generalized neural network equation (solving multiple equations)\n",
    "def nn_batch_generalized(x,y,w,lr,n_epoch):\n",
    "    cost_list = []\n",
    "    for epoch in range(n_epoch):\n",
    "        dydw = 2*lr*np.dot((y-np.dot(x,w)),-x.T)\n",
    "        w = w - dydw\n",
    "        cost = np.sum((y-np.dot(x,w))**2)\n",
    "        cost_list.append([epoch,cost])\n",
    "        if epoch%100==0:\n",
    "            print(\"epoch: {:d} cost: {:f}\".format(epoch,cost))\n",
    "        if cost <= .0001:\n",
    "            print(\"epoch: {:d} cost: {:f}\".format(epoch,cost))\n",
    "            break\n",
    "            \n",
    "    cost_list = pd.DataFrame(cost_list, columns = [\"epoch\", \"cost\"])\n",
    "    return w ,cost_list"
   ]
  },
  {
   "cell_type": "code",
   "execution_count": 26,
   "id": "a59340d6",
   "metadata": {},
   "outputs": [
    {
     "name": "stdout",
     "output_type": "stream",
     "text": [
      "epoch: 0 cost: 305.212104\n",
      "epoch: 100 cost: 3.248604\n",
      "epoch: 200 cost: 0.806950\n",
      "epoch: 300 cost: 0.299156\n",
      "epoch: 400 cost: 0.112977\n",
      "epoch: 500 cost: 0.042700\n",
      "epoch: 600 cost: 0.016139\n",
      "epoch: 700 cost: 0.006100\n",
      "epoch: 800 cost: 0.002306\n",
      "epoch: 900 cost: 0.000871\n",
      "epoch: 1000 cost: 0.000329\n",
      "epoch: 1100 cost: 0.000124\n",
      "epoch: 1123 cost: 0.000100\n",
      "[51.00570936 59.99254219 57.00336409]\n",
      "[2.99633477 4.00478767 0.99784037]\n"
     ]
    }
   ],
   "source": [
    "# Generalized neural network equation(cont'd)\n",
    "x = np.array([[3,8,10],[10,7,2],[2,9,15]])  #3x3 matrix, can be 4x4,5x5,etc.\n",
    "y = [51,60,57]\n",
    "w = np.ones((x.shape[1]))  # Inserting the shape of the x matrix into the weight value\n",
    "lr = .001\n",
    "n_epoch = 10000  # Number of iterations you want to run\n",
    "w, cost_list = nn_batch_generalized(x,y,w,lr,n_epoch)\n",
    "print(np.dot(x,w))\n",
    "print(w)"
   ]
  },
  {
   "cell_type": "code",
   "execution_count": 27,
   "id": "de46625a",
   "metadata": {},
   "outputs": [],
   "source": [
    "# Sigmoid function\n",
    "# z = E(w1x1)\n",
    "# g(z) = 1 / 1 + e^-z    Result will be between 0 and 1\n",
    "# For two outputs, use sigmoid\n",
    "# For more than two outputs, sigmoid is called softmax"
   ]
  },
  {
   "cell_type": "code",
   "execution_count": 41,
   "id": "9f498304",
   "metadata": {},
   "outputs": [],
   "source": [
    "def sigmoid(x):\n",
    "    return 1/(1+np.exp(-x))\n",
    "def sigmoid_deriv(x):\n",
    "    return x*(1-x)"
   ]
  },
  {
   "cell_type": "code",
   "execution_count": 44,
   "id": "f04b5522",
   "metadata": {},
   "outputs": [],
   "source": [
    "# Function with the sigmoid derivative\n",
    "def nn_batch_generalized(x,y,w,lr,n_epoch):\n",
    "    cost_list = []\n",
    "    for epoch in range(n_epoch):\n",
    "        y_hat = sigmoid(np.dot(x,w))  # applying the sigmoid function on y_hat(activation function)\n",
    "        cost = np.sum(y-y_hat)**2\n",
    "        dydw = 2 * np.dot(-x.T,np.multiply((y-y_hat),sigmoid_deriv(y_hat)))\n",
    "        # print dydw.shape\n",
    "        w = w - lr*dydw  # this updates the weights   \n",
    "        # y_hat, cost, dydw and w are all gradient descent\n",
    "        cost_list.append([epoch, cost])\n",
    "        if epoch%100 == 0:\n",
    "            print(\"epoch: {:d} cost: {:f}\".format(epoch, cost))\n",
    "        if cost <= 0.0001:\n",
    "            print(\"epoch: {:d} cost: {:f}\".format(epoch, cost))\n",
    "            break\n",
    "            \n",
    "    cost_list = pd.DataFrame(cost_list, columns = [\"epoch\", \"cost\"])\n",
    "    return w, cost_list"
   ]
  },
  {
   "cell_type": "code",
   "execution_count": 45,
   "id": "6b8e7b48",
   "metadata": {},
   "outputs": [
    {
     "name": "stdout",
     "output_type": "stream",
     "text": [
      "epoch: 0 cost: 2.088681\n",
      "epoch: 100 cost: 1.338564\n",
      "epoch: 200 cost: 0.586677\n",
      "epoch: 300 cost: 0.192356\n",
      "epoch: 400 cost: 0.068667\n",
      "epoch: 500 cost: 0.032834\n",
      "epoch: 600 cost: 0.020541\n",
      "epoch: 700 cost: 0.015263\n",
      "epoch: 800 cost: 0.012471\n",
      "epoch: 900 cost: 0.010723\n",
      "epoch: 1000 cost: 0.009487\n",
      "epoch: 1100 cost: 0.008539\n",
      "epoch: 1200 cost: 0.007775\n",
      "epoch: 1300 cost: 0.007137\n",
      "epoch: 1400 cost: 0.006593\n",
      "epoch: 1500 cost: 0.006122\n",
      "epoch: 1600 cost: 0.005710\n",
      "epoch: 1700 cost: 0.005346\n",
      "epoch: 1800 cost: 0.005021\n",
      "epoch: 1900 cost: 0.004731\n",
      "epoch: 2000 cost: 0.004469\n",
      "epoch: 2100 cost: 0.004232\n",
      "epoch: 2200 cost: 0.004017\n",
      "epoch: 2300 cost: 0.003821\n",
      "epoch: 2400 cost: 0.003641\n",
      "epoch: 2500 cost: 0.003476\n",
      "epoch: 2600 cost: 0.003324\n",
      "epoch: 2700 cost: 0.003184\n",
      "epoch: 2800 cost: 0.003054\n",
      "epoch: 2900 cost: 0.002933\n",
      "epoch: 3000 cost: 0.002821\n",
      "epoch: 3100 cost: 0.002716\n",
      "epoch: 3200 cost: 0.002618\n",
      "epoch: 3300 cost: 0.002527\n",
      "epoch: 3400 cost: 0.002441\n",
      "epoch: 3500 cost: 0.002360\n",
      "epoch: 3600 cost: 0.002284\n",
      "epoch: 3700 cost: 0.002213\n",
      "epoch: 3800 cost: 0.002145\n",
      "epoch: 3900 cost: 0.002081\n",
      "epoch: 4000 cost: 0.002021\n",
      "epoch: 4100 cost: 0.001963\n",
      "epoch: 4200 cost: 0.001909\n",
      "epoch: 4300 cost: 0.001857\n",
      "epoch: 4400 cost: 0.001808\n",
      "epoch: 4500 cost: 0.001761\n",
      "epoch: 4600 cost: 0.001717\n",
      "epoch: 4700 cost: 0.001674\n",
      "epoch: 4800 cost: 0.001633\n",
      "epoch: 4900 cost: 0.001595\n",
      "epoch: 5000 cost: 0.001557\n",
      "epoch: 5100 cost: 0.001522\n",
      "epoch: 5200 cost: 0.001488\n",
      "epoch: 5300 cost: 0.001455\n",
      "epoch: 5400 cost: 0.001424\n",
      "epoch: 5500 cost: 0.001394\n",
      "epoch: 5600 cost: 0.001365\n",
      "epoch: 5700 cost: 0.001337\n",
      "epoch: 5800 cost: 0.001310\n",
      "epoch: 5900 cost: 0.001284\n",
      "epoch: 6000 cost: 0.001259\n",
      "epoch: 6100 cost: 0.001235\n",
      "epoch: 6200 cost: 0.001212\n",
      "epoch: 6300 cost: 0.001190\n",
      "epoch: 6400 cost: 0.001168\n",
      "epoch: 6500 cost: 0.001147\n",
      "epoch: 6600 cost: 0.001127\n",
      "epoch: 6700 cost: 0.001107\n",
      "epoch: 6800 cost: 0.001088\n",
      "epoch: 6900 cost: 0.001070\n",
      "epoch: 7000 cost: 0.001052\n",
      "epoch: 7100 cost: 0.001035\n",
      "epoch: 7200 cost: 0.001019\n",
      "epoch: 7300 cost: 0.001002\n",
      "epoch: 7400 cost: 0.000987\n",
      "epoch: 7500 cost: 0.000971\n",
      "epoch: 7600 cost: 0.000957\n",
      "epoch: 7700 cost: 0.000942\n",
      "epoch: 7800 cost: 0.000928\n",
      "epoch: 7900 cost: 0.000915\n",
      "epoch: 8000 cost: 0.000902\n",
      "epoch: 8100 cost: 0.000889\n",
      "epoch: 8200 cost: 0.000876\n",
      "epoch: 8300 cost: 0.000864\n",
      "epoch: 8400 cost: 0.000852\n",
      "epoch: 8500 cost: 0.000841\n",
      "epoch: 8600 cost: 0.000829\n",
      "epoch: 8700 cost: 0.000818\n",
      "epoch: 8800 cost: 0.000808\n",
      "epoch: 8900 cost: 0.000797\n",
      "epoch: 9000 cost: 0.000787\n",
      "epoch: 9100 cost: 0.000777\n",
      "epoch: 9200 cost: 0.000767\n",
      "epoch: 9300 cost: 0.000758\n",
      "epoch: 9400 cost: 0.000748\n",
      "epoch: 9500 cost: 0.000739\n",
      "epoch: 9600 cost: 0.000731\n",
      "epoch: 9700 cost: 0.000722\n",
      "epoch: 9800 cost: 0.000713\n",
      "epoch: 9900 cost: 0.000705\n"
     ]
    }
   ],
   "source": [
    "x = np.array([[0,0,1],\n",
    "              [0,1,1],\n",
    "              [1,0,1],\n",
    "              [1,1,1]])\n",
    "y = [0,0,1,1]\n",
    "w = np.ones((x.shape[1]))\n",
    "lr = 0.01\n",
    "n_epoch = 10000\n",
    "w, cost_list = nn_batch_generalized(x,y,w,lr,n_epoch)"
   ]
  },
  {
   "cell_type": "code",
   "execution_count": 46,
   "id": "2673345f",
   "metadata": {},
   "outputs": [
    {
     "data": {
      "text/plain": [
       "array([0.07635238, 0.06166193, 0.95021749, 0.93817072])"
      ]
     },
     "execution_count": 46,
     "metadata": {},
     "output_type": "execute_result"
    }
   ],
   "source": [
    "sigmoid(np.dot(x,w))"
   ]
  },
  {
   "cell_type": "code",
   "execution_count": 48,
   "id": "4294fe34",
   "metadata": {},
   "outputs": [
    {
     "data": {
      "text/plain": [
       "array([False, False,  True,  True])"
      ]
     },
     "execution_count": 48,
     "metadata": {},
     "output_type": "execute_result"
    }
   ],
   "source": [
    "sigmoid(np.dot(x,w)) >=0.5 #outputs for x array values(all values are between 0 and 1)"
   ]
  },
  {
   "cell_type": "code",
   "execution_count": 49,
   "id": "6a166537",
   "metadata": {},
   "outputs": [
    {
     "name": "stdout",
     "output_type": "stream",
     "text": [
      "epoch: 0 cost: 2.088681\n",
      "epoch: 100 cost: 0.009411\n",
      "epoch: 200 cost: 0.004454\n",
      "epoch: 300 cost: 0.002813\n",
      "epoch: 400 cost: 0.002015\n",
      "epoch: 500 cost: 0.001554\n",
      "epoch: 600 cost: 0.001257\n",
      "epoch: 700 cost: 0.001050\n",
      "epoch: 800 cost: 0.000900\n",
      "epoch: 900 cost: 0.000786\n",
      "epoch: 1000 cost: 0.000696\n",
      "epoch: 1100 cost: 0.000624\n",
      "epoch: 1200 cost: 0.000565\n",
      "epoch: 1300 cost: 0.000516\n",
      "epoch: 1400 cost: 0.000474\n",
      "epoch: 1500 cost: 0.000439\n",
      "epoch: 1600 cost: 0.000408\n",
      "epoch: 1700 cost: 0.000381\n",
      "epoch: 1800 cost: 0.000358\n",
      "epoch: 1900 cost: 0.000337\n",
      "epoch: 2000 cost: 0.000318\n",
      "epoch: 2100 cost: 0.000301\n",
      "epoch: 2200 cost: 0.000286\n",
      "epoch: 2300 cost: 0.000272\n",
      "epoch: 2400 cost: 0.000260\n",
      "epoch: 2500 cost: 0.000248\n",
      "epoch: 2600 cost: 0.000238\n",
      "epoch: 2700 cost: 0.000228\n",
      "epoch: 2800 cost: 0.000219\n",
      "epoch: 2900 cost: 0.000211\n",
      "epoch: 3000 cost: 0.000203\n",
      "epoch: 3100 cost: 0.000196\n",
      "epoch: 3200 cost: 0.000189\n",
      "epoch: 3300 cost: 0.000183\n",
      "epoch: 3400 cost: 0.000177\n",
      "epoch: 3500 cost: 0.000172\n",
      "epoch: 3600 cost: 0.000166\n",
      "epoch: 3700 cost: 0.000161\n",
      "epoch: 3800 cost: 0.000157\n",
      "epoch: 3900 cost: 0.000153\n",
      "epoch: 4000 cost: 0.000148\n",
      "epoch: 4100 cost: 0.000144\n",
      "epoch: 4200 cost: 0.000141\n",
      "epoch: 4300 cost: 0.000137\n",
      "epoch: 4400 cost: 0.000134\n",
      "epoch: 4500 cost: 0.000131\n",
      "epoch: 4600 cost: 0.000128\n",
      "epoch: 4700 cost: 0.000125\n",
      "epoch: 4800 cost: 0.000122\n",
      "epoch: 4900 cost: 0.000119\n",
      "epoch: 5000 cost: 0.000117\n",
      "epoch: 5100 cost: 0.000114\n",
      "epoch: 5200 cost: 0.000112\n",
      "epoch: 5300 cost: 0.000110\n",
      "epoch: 5400 cost: 0.000107\n",
      "epoch: 5500 cost: 0.000105\n",
      "epoch: 5600 cost: 0.000103\n",
      "epoch: 5700 cost: 0.000101\n",
      "epoch: 5769 cost: 0.000100\n"
     ]
    }
   ],
   "source": [
    "x = np.array([[0,0,1],\n",
    "              [0,1,1],\n",
    "              [1,0,1],\n",
    "              [1,1,1]])\n",
    "y = [0,0,1,1]\n",
    "w = np.ones((x.shape[1]))\n",
    "lr = 0.1  # Increase the step value and cost goes too high, too fast(does not optimize)\n",
    "n_epoch = 10000\n",
    "w, cost_list = nn_batch_generalized(x,y,w,lr,n_epoch)"
   ]
  },
  {
   "cell_type": "code",
   "execution_count": null,
   "id": "17d99393",
   "metadata": {},
   "outputs": [],
   "source": []
  }
 ],
 "metadata": {
  "kernelspec": {
   "display_name": "Python 3 (ipykernel)",
   "language": "python",
   "name": "python3"
  },
  "language_info": {
   "codemirror_mode": {
    "name": "ipython",
    "version": 3
   },
   "file_extension": ".py",
   "mimetype": "text/x-python",
   "name": "python",
   "nbconvert_exporter": "python",
   "pygments_lexer": "ipython3",
   "version": "3.9.7"
  }
 },
 "nbformat": 4,
 "nbformat_minor": 5
}
