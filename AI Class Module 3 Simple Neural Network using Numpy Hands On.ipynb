{
 "cells": [
  {
   "cell_type": "code",
   "execution_count": 1,
   "id": "9761e51d",
   "metadata": {},
   "outputs": [],
   "source": [
    "import numpy as np \n",
    "import matplotlib.pyplot as plt\n",
    "import pandas as pd"
   ]
  },
  {
   "cell_type": "code",
   "execution_count": 5,
   "id": "b8902908",
   "metadata": {},
   "outputs": [],
   "source": [
    "# y = w1x1 + w2x2"
   ]
  },
  {
   "cell_type": "code",
   "execution_count": 2,
   "id": "3503073e",
   "metadata": {},
   "outputs": [],
   "source": [
    "x1 = 2\n",
    "x2 = 5\n",
    "y = 31"
   ]
  },
  {
   "cell_type": "code",
   "execution_count": 3,
   "id": "1d3513b0",
   "metadata": {},
   "outputs": [
    {
     "name": "stdout",
     "output_type": "stream",
     "text": [
      "Value of w1 -  2.6 Value of w2 -  6.0 Error is:  100\n",
      "Value of w1 -  2.432 Value of w2 -  5.58 Error is:  17.640000000000025\n",
      "Value of w1 -  2.36144 Value of w2 -  5.403600000000001 Error is:  3.111695999999985\n",
      "Value of w1 -  2.3318048 Value of w2 -  5.329512 Error is:  0.5489031744000062\n",
      "Value of w1 -  2.319358016 Value of w2 -  5.29839504 Error is:  0.09682651996416189\n",
      "Value of w1 -  2.3141303667199997 Value of w2 -  5.285325916800001 Error is:  0.01708019812167695\n",
      "Value of w1 -  2.3119347540223996 Value of w2 -  5.2798368850560005 Error is:  0.0030129469486645474\n",
      "Value of w1 -  2.3110125966894075 Value of w2 -  5.27753149172352 Error is:  0.0005314838417443082\n",
      "Value of w1 -  2.310625290609551 Value of w2 -  5.276563226523878 Error is:  9.375374968372762e-05\n",
      "Value of w1 -  2.3104626220560114 Value of w2 -  5.276156555140029 Error is:  1.6538161444169675e-05\n",
      "Value of w1 -  2.3103943012635244 Value of w2 -  5.275985753158812 Error is:  2.9173316787665796e-06\n",
      "Value of w1 -  2.31036560653068 Value of w2 -  5.275914016326701 Error is:  5.146173081352403e-07\n",
      "Value of w1 -  2.3103535547428855 Value of w2 -  5.275883886857215 Error is:  9.077849315342935e-08\n",
      "Value of w1 -  2.3103484929920115 Value of w2 -  5.27587123248003 Error is:  1.6013326192804426e-08\n",
      "Value of w1 -  2.3103463670566446 Value of w2 -  5.275865917641613 Error is:  2.8247507400859285e-09\n",
      "Value of w1 -  2.3103454741637903 Value of w2 -  5.275863685409477 Error is:  4.982860307510059e-10\n",
      "Value of w1 -  2.3103450991487917 Value of w2 -  5.27586274787198 Error is:  8.78976557392089e-11\n",
      "Value of w1 -  2.310344941642492 Value of w2 -  5.2758623541062315 Error is:  1.550514647239645e-11\n",
      "Value of w1 -  2.3103448754898466 Value of w2 -  5.275862188724617 Error is:  2.735107830915113e-12\n",
      "Value of w1 -  2.3103448477057356 Value of w2 -  5.27586211926434 Error is:  4.82473020386336e-13\n",
      "Value of w1 -  2.3103448360364087 Value of w2 -  5.275862090091023 Error is:  8.51082419984252e-14\n",
      "Value of w1 -  2.3103448311352914 Value of w2 -  5.275862077838229 Error is:  1.5013094289004332e-14\n",
      "Value of w1 -  2.3103448290768225 Value of w2 -  5.275862072692056 Error is:  2.6483095619937496e-15\n",
      "Value of w1 -  2.3103448282122656 Value of w2 -  5.275862070530663 Error is:  4.671617483767498e-16\n",
      "Value of w1 -  2.3103448278491516 Value of w2 -  5.275862069622878 Error is:  8.24073208033004e-17\n",
      "Value of w1 -  2.310344827696644 Value of w2 -  5.275862069241609 Error is:  1.4536636760654957e-17\n",
      "Value of w1 -  2.3103448276325906 Value of w2 -  5.275862069081476 Error is:  2.5642654553350578e-18\n",
      "Value of w1 -  2.310344827605688 Value of w2 -  5.275862069014219 Error is:  4.523378599692717e-19\n",
      "Value of w1 -  2.310344827594389 Value of w2 -  5.275862068985972 Error is:  7.979083296121927e-20\n",
      "Value of w1 -  2.3103448275896437 Value of w2 -  5.275862068974107 Error is:  1.407528839002451e-20\n",
      "Value of w1 -  2.3103448275876506 Value of w2 -  5.275862068969125 Error is:  2.482356901368132e-21\n",
      "Value of w1 -  2.3103448275868135 Value of w2 -  5.275862068967032 Error is:  4.378758625602858e-22\n",
      "Value of w1 -  2.3103448275864618 Value of w2 -  5.275862068966153 Error is:  7.725379215879235e-23\n",
      "Value of w1 -  2.3103448275863143 Value of w2 -  5.275862068965784 Error is:  1.3599255186639165e-23\n",
      "Value of w1 -  2.310344827586252 Value of w2 -  5.275862068965629 Error is:  2.4103676513464225e-24\n",
      "Value of w1 -  2.310344827586226 Value of w2 -  5.275862068965564 Error is:  4.226906056791434e-25\n",
      "Value of w1 -  2.310344827586215 Value of w2 -  5.2758620689655364 Error is:  7.483450091288606e-26\n",
      "Value of w1 -  2.3103448275862104 Value of w2 -  5.275862068965525 Error is:  1.2924697071141057e-26\n",
      "Value of w1 -  2.3103448275862086 Value of w2 -  5.2758620689655205 Error is:  1.8175355256292112e-27\n",
      "Value of w1 -  2.3103448275862077 Value of w2 -  5.275862068965519 Error is:  3.155443620884047e-28\n",
      "Value of w1 -  2.3103448275862073 Value of w2 -  5.275862068965518 Error is:  1.135959703518257e-28\n",
      "Value of w1 -  2.3103448275862073 Value of w2 -  5.275862068965518 Error is:  0.0\n",
      "Value of w1 -  2.3103448275862073 Value of w2 -  5.275862068965518 Error is:  0.0\n",
      "Value of w1 -  2.3103448275862073 Value of w2 -  5.275862068965518 Error is:  0.0\n",
      "Value of w1 -  2.3103448275862073 Value of w2 -  5.275862068965518 Error is:  0.0\n",
      "Value of w1 -  2.3103448275862073 Value of w2 -  5.275862068965518 Error is:  0.0\n",
      "Value of w1 -  2.3103448275862073 Value of w2 -  5.275862068965518 Error is:  0.0\n",
      "Value of w1 -  2.3103448275862073 Value of w2 -  5.275862068965518 Error is:  0.0\n",
      "Value of w1 -  2.3103448275862073 Value of w2 -  5.275862068965518 Error is:  0.0\n",
      "Value of w1 -  2.3103448275862073 Value of w2 -  5.275862068965518 Error is:  0.0\n"
     ]
    }
   ],
   "source": [
    "lr = .01\n",
    "w1 = 3  # Random value\n",
    "w2 = 7  # Random value\n",
    "for epoch in range(50):  # One epoch is one pass of the ENTIRE dataset through the algorithm\n",
    "    y_pred = w1*x1 + w2*x2\n",
    "    error = (y - y_pred)**2 # Once we find out the error, backpropogation begins\n",
    "    dEw1 = 2*(y - y_pred)*(-x1)  # Change in error with respect to w1\n",
    "    dEw2 = 2*(y - y_pred)*(-x2)  # Change in error with respect to w2\n",
    "    \n",
    "    w1 = w1 - lr*dEw1  # Updating the weight values\n",
    "    w2 = w2 - lr*dEw2  # These updated values are fed back into the algorithm\n",
    "    "
   ]
  },
  {
   "cell_type": "code",
   "execution_count": 4,
   "id": "9eeb7eca",
   "metadata": {},
   "outputs": [
    {
     "name": "stdout",
     "output_type": "stream",
     "text": [
      "2.3103448275862073 5.275862068965518\n"
     ]
    }
   ],
   "source": [
    "print(w1,w2)  # These are the weight values after 50 iterations "
   ]
  },
  {
   "cell_type": "code",
   "execution_count": 6,
   "id": "d2176b59",
   "metadata": {},
   "outputs": [
    {
     "data": {
      "text/plain": [
       "31.0"
      ]
     },
     "execution_count": 6,
     "metadata": {},
     "output_type": "execute_result"
    }
   ],
   "source": [
    "x1*w1 + x2*w2  # This is equal to the original output value"
   ]
  },
  {
   "cell_type": "code",
   "execution_count": null,
   "id": "a04760ee",
   "metadata": {},
   "outputs": [],
   "source": []
  }
 ],
 "metadata": {
  "kernelspec": {
   "display_name": "Python 3 (ipykernel)",
   "language": "python",
   "name": "python3"
  },
  "language_info": {
   "codemirror_mode": {
    "name": "ipython",
    "version": 3
   },
   "file_extension": ".py",
   "mimetype": "text/x-python",
   "name": "python",
   "nbconvert_exporter": "python",
   "pygments_lexer": "ipython3",
   "version": "3.9.7"
  }
 },
 "nbformat": 4,
 "nbformat_minor": 5
}
