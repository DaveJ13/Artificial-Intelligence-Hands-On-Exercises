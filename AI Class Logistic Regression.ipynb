{
 "cells": [
  {
   "cell_type": "code",
   "execution_count": 1,
   "id": "406de7ea",
   "metadata": {},
   "outputs": [],
   "source": [
    "from sklearn import datasets\n",
    "import pandas as pd"
   ]
  },
  {
   "cell_type": "code",
   "execution_count": 2,
   "id": "ab1109eb",
   "metadata": {},
   "outputs": [],
   "source": [
    "data = pd.read_csv(\"winequality-red.csv\")"
   ]
  },
  {
   "cell_type": "code",
   "execution_count": 3,
   "id": "b11da2f6",
   "metadata": {},
   "outputs": [
    {
     "data": {
      "text/html": [
       "<div>\n",
       "<style scoped>\n",
       "    .dataframe tbody tr th:only-of-type {\n",
       "        vertical-align: middle;\n",
       "    }\n",
       "\n",
       "    .dataframe tbody tr th {\n",
       "        vertical-align: top;\n",
       "    }\n",
       "\n",
       "    .dataframe thead th {\n",
       "        text-align: right;\n",
       "    }\n",
       "</style>\n",
       "<table border=\"1\" class=\"dataframe\">\n",
       "  <thead>\n",
       "    <tr style=\"text-align: right;\">\n",
       "      <th></th>\n",
       "      <th>fixed acidity</th>\n",
       "      <th>volatile acidity</th>\n",
       "      <th>citric acid</th>\n",
       "      <th>residual sugar</th>\n",
       "      <th>chlorides</th>\n",
       "      <th>free sulfur dioxide</th>\n",
       "      <th>total sulfur dioxide</th>\n",
       "      <th>density</th>\n",
       "      <th>pH</th>\n",
       "      <th>sulphates</th>\n",
       "      <th>alcohol</th>\n",
       "      <th>quality</th>\n",
       "    </tr>\n",
       "  </thead>\n",
       "  <tbody>\n",
       "    <tr>\n",
       "      <th>0</th>\n",
       "      <td>7.4</td>\n",
       "      <td>0.70</td>\n",
       "      <td>0.00</td>\n",
       "      <td>1.9</td>\n",
       "      <td>0.076</td>\n",
       "      <td>11.0</td>\n",
       "      <td>34.0</td>\n",
       "      <td>0.9978</td>\n",
       "      <td>3.51</td>\n",
       "      <td>0.56</td>\n",
       "      <td>9.4</td>\n",
       "      <td>5</td>\n",
       "    </tr>\n",
       "    <tr>\n",
       "      <th>1</th>\n",
       "      <td>7.8</td>\n",
       "      <td>0.88</td>\n",
       "      <td>0.00</td>\n",
       "      <td>2.6</td>\n",
       "      <td>0.098</td>\n",
       "      <td>25.0</td>\n",
       "      <td>67.0</td>\n",
       "      <td>0.9968</td>\n",
       "      <td>3.20</td>\n",
       "      <td>0.68</td>\n",
       "      <td>9.8</td>\n",
       "      <td>5</td>\n",
       "    </tr>\n",
       "    <tr>\n",
       "      <th>2</th>\n",
       "      <td>7.8</td>\n",
       "      <td>0.76</td>\n",
       "      <td>0.04</td>\n",
       "      <td>2.3</td>\n",
       "      <td>0.092</td>\n",
       "      <td>15.0</td>\n",
       "      <td>54.0</td>\n",
       "      <td>0.9970</td>\n",
       "      <td>3.26</td>\n",
       "      <td>0.65</td>\n",
       "      <td>9.8</td>\n",
       "      <td>5</td>\n",
       "    </tr>\n",
       "    <tr>\n",
       "      <th>3</th>\n",
       "      <td>11.2</td>\n",
       "      <td>0.28</td>\n",
       "      <td>0.56</td>\n",
       "      <td>1.9</td>\n",
       "      <td>0.075</td>\n",
       "      <td>17.0</td>\n",
       "      <td>60.0</td>\n",
       "      <td>0.9980</td>\n",
       "      <td>3.16</td>\n",
       "      <td>0.58</td>\n",
       "      <td>9.8</td>\n",
       "      <td>6</td>\n",
       "    </tr>\n",
       "    <tr>\n",
       "      <th>4</th>\n",
       "      <td>7.4</td>\n",
       "      <td>0.70</td>\n",
       "      <td>0.00</td>\n",
       "      <td>1.9</td>\n",
       "      <td>0.076</td>\n",
       "      <td>11.0</td>\n",
       "      <td>34.0</td>\n",
       "      <td>0.9978</td>\n",
       "      <td>3.51</td>\n",
       "      <td>0.56</td>\n",
       "      <td>9.4</td>\n",
       "      <td>5</td>\n",
       "    </tr>\n",
       "  </tbody>\n",
       "</table>\n",
       "</div>"
      ],
      "text/plain": [
       "   fixed acidity  volatile acidity  citric acid  residual sugar  chlorides  \\\n",
       "0            7.4              0.70         0.00             1.9      0.076   \n",
       "1            7.8              0.88         0.00             2.6      0.098   \n",
       "2            7.8              0.76         0.04             2.3      0.092   \n",
       "3           11.2              0.28         0.56             1.9      0.075   \n",
       "4            7.4              0.70         0.00             1.9      0.076   \n",
       "\n",
       "   free sulfur dioxide  total sulfur dioxide  density    pH  sulphates  \\\n",
       "0                 11.0                  34.0   0.9978  3.51       0.56   \n",
       "1                 25.0                  67.0   0.9968  3.20       0.68   \n",
       "2                 15.0                  54.0   0.9970  3.26       0.65   \n",
       "3                 17.0                  60.0   0.9980  3.16       0.58   \n",
       "4                 11.0                  34.0   0.9978  3.51       0.56   \n",
       "\n",
       "   alcohol  quality  \n",
       "0      9.4        5  \n",
       "1      9.8        5  \n",
       "2      9.8        5  \n",
       "3      9.8        6  \n",
       "4      9.4        5  "
      ]
     },
     "execution_count": 3,
     "metadata": {},
     "output_type": "execute_result"
    }
   ],
   "source": [
    "data.head()"
   ]
  },
  {
   "cell_type": "code",
   "execution_count": 4,
   "id": "61db71b3",
   "metadata": {},
   "outputs": [
    {
     "data": {
      "text/plain": [
       "(1596, 12)"
      ]
     },
     "execution_count": 4,
     "metadata": {},
     "output_type": "execute_result"
    }
   ],
   "source": [
    "data.shape"
   ]
  },
  {
   "cell_type": "code",
   "execution_count": 5,
   "id": "bf8cbeaf",
   "metadata": {},
   "outputs": [
    {
     "data": {
      "text/plain": [
       "5    680\n",
       "6    637\n",
       "7    199\n",
       "4     52\n",
       "8     18\n",
       "3     10\n",
       "Name: quality, dtype: int64"
      ]
     },
     "execution_count": 5,
     "metadata": {},
     "output_type": "execute_result"
    }
   ],
   "source": [
    "data[\"quality\"]  # Dependent variable\n",
    "# or data.quality (same as above code)\n",
    "data.quality.unique()\n",
    "data.quality.value_counts() # Gives value counts for later analysis for why model works the way it does\n",
    "# Lower count numbers could become outliers(In this case, quality values of 4, 8 and 3)"
   ]
  },
  {
   "cell_type": "code",
   "execution_count": 6,
   "id": "f7b1d2c3",
   "metadata": {},
   "outputs": [],
   "source": [
    "from sklearn.model_selection import train_test_split"
   ]
  },
  {
   "cell_type": "code",
   "execution_count": 7,
   "id": "26de99a4",
   "metadata": {},
   "outputs": [],
   "source": [
    "X = data.drop(\"quality\", axis = 1) # X equals all data except target variable\n",
    "y = data.quality  # y equals target variable\n",
    "\n",
    "X_train, X_test, y_train,y_test = train_test_split(X, y, test_size = .2)"
   ]
  },
  {
   "cell_type": "code",
   "execution_count": 8,
   "id": "b17042a9",
   "metadata": {},
   "outputs": [
    {
     "name": "stdout",
     "output_type": "stream",
     "text": [
      "(1276, 11)\n",
      "(320, 11)\n",
      "(1276,)\n",
      "(320,)\n"
     ]
    }
   ],
   "source": [
    "print(X_train.shape)\n",
    "print(X_test.shape)\n",
    "print(y_train.shape)\n",
    "print(y_test.shape)"
   ]
  },
  {
   "cell_type": "code",
   "execution_count": 9,
   "id": "80b39e75",
   "metadata": {},
   "outputs": [
    {
     "data": {
      "text/plain": [
       "LinearRegression()"
      ]
     },
     "execution_count": 9,
     "metadata": {},
     "output_type": "execute_result"
    }
   ],
   "source": [
    "# Create linear regression model for comparison\n",
    "from sklearn import linear_model\n",
    "lm = linear_model.LinearRegression()\n",
    "lm.fit(X_train, y_train)"
   ]
  },
  {
   "cell_type": "code",
   "execution_count": 10,
   "id": "3e8d7d9d",
   "metadata": {},
   "outputs": [
    {
     "data": {
      "text/plain": [
       "array([5.77919561, 5.51701753, 5.33155851, 6.39776458, 5.16864298,\n",
       "       5.1387681 , 5.3213804 , 5.33155851, 5.73565546, 6.28386536,\n",
       "       5.47663672, 5.85100221, 5.10092427, 5.59543582, 5.49913724,\n",
       "       5.33804165, 5.37863088, 5.47755483, 4.8989854 , 5.09299791,\n",
       "       6.13516703, 6.25085797, 6.54390699, 6.48565963, 4.93402045,\n",
       "       5.55379904, 4.95441384, 5.27693768, 5.01697827, 5.78186255,\n",
       "       5.13294351, 5.67281142, 5.34893993, 5.1497423 , 5.75846024,\n",
       "       5.58503798, 5.92679643, 5.6719115 , 5.55766407, 5.5013491 ,\n",
       "       5.68192734, 4.95676408, 4.79776865, 6.03313065, 6.19462794,\n",
       "       6.64110367, 5.12496712, 5.896918  , 5.32916895, 5.45808176,\n",
       "       5.87254609, 6.34999999, 5.72581614, 5.43995834, 5.81024378,\n",
       "       5.45315835, 5.48248516, 5.30554975, 5.09724341, 5.3383933 ,\n",
       "       6.07991486, 5.11022658, 6.1391426 , 5.4196178 , 5.92642813,\n",
       "       4.66375395, 5.26228259, 5.72608379, 6.41867883, 6.02215549,\n",
       "       5.179136  , 5.17657179, 5.72384449, 5.89764149, 5.2165632 ,\n",
       "       6.11646559, 5.75289367, 5.7674408 , 4.75797473, 5.55838249,\n",
       "       6.23706702, 5.15192427, 6.35972637, 5.69638056, 5.81356733,\n",
       "       5.14925602, 5.70923446, 5.13377283, 4.72963472, 5.66696899,\n",
       "       5.73980136, 5.58202279, 5.6290898 , 5.36892823, 5.8053082 ,\n",
       "       6.37410882, 5.72946411, 5.73839345, 5.13309001, 5.68428577,\n",
       "       5.7005929 , 6.02594232, 4.89040841, 5.94985957, 5.54993999,\n",
       "       6.46402421, 5.99310976, 5.83669026, 4.82076242, 4.91865796,\n",
       "       5.28027189, 5.45315835, 5.26627411, 5.43810816, 5.99712181,\n",
       "       5.06123985, 4.97406245, 6.19859618, 5.22832853, 5.40313498,\n",
       "       5.11558701, 5.35391144, 5.13475623, 5.47663672, 5.48208592,\n",
       "       5.68783439, 4.79776865, 5.30721069, 6.59308478, 5.59119374,\n",
       "       5.40892284, 5.21069675, 5.26933541, 6.01515728, 5.32528346,\n",
       "       4.95352947, 5.18798133, 5.9204871 , 5.4109905 , 5.59054539,\n",
       "       5.97729059, 5.71670111, 6.6534842 , 5.39536134, 5.8625979 ,\n",
       "       5.95817288, 6.09882992, 5.86734388, 5.51730164, 5.39489324,\n",
       "       5.98168316, 5.60550245, 5.35041141, 5.66236314, 5.54052507,\n",
       "       5.69862998, 4.99022099, 5.61890162, 5.89764149, 6.09275584,\n",
       "       6.08501655, 5.07809403, 5.75307244, 5.9726249 , 6.4197717 ,\n",
       "       6.29219607, 6.19830161, 5.34172842, 5.50621864, 5.22782733,\n",
       "       5.36388687, 6.50034794, 5.78644948, 5.74494959, 6.30630358,\n",
       "       5.35682049, 5.95211313, 5.59101653, 5.45711526, 5.15184111,\n",
       "       4.96948675, 5.9481479 , 5.896918  , 6.16058539, 5.38285546,\n",
       "       5.76549323, 5.42739617, 5.77736399, 4.77126317, 5.75319565,\n",
       "       5.25310991, 5.49783422, 5.24244365, 5.34923959, 4.8522268 ,\n",
       "       6.61056377, 5.57252092, 5.31966419, 5.267225  , 5.45467475,\n",
       "       5.38092872, 5.74937879, 6.141437  , 6.39509322, 5.33084925,\n",
       "       5.07200287, 5.09926994, 5.45948038, 5.75307244, 5.01554364,\n",
       "       5.25136596, 6.12588244, 5.90936664, 5.24842362, 5.48333723,\n",
       "       5.9932121 , 6.51261267, 5.83675027, 4.89604667, 5.01832439,\n",
       "       6.17357655, 5.55445946, 5.18511521, 5.36960589, 6.46402421,\n",
       "       6.23519946, 5.34923959, 6.18589638, 4.28671759, 6.31509933,\n",
       "       5.20992218, 5.55047131, 5.02264611, 5.67925627, 6.18651024,\n",
       "       5.98190085, 5.91294586, 5.31814391, 5.55298832, 5.61863068,\n",
       "       4.26300803, 5.5746492 , 5.27168715, 4.99907591, 5.40711887,\n",
       "       5.08641733, 5.74236878, 5.20925676, 5.05033686, 6.47308531,\n",
       "       5.63446049, 5.99617361, 5.69872733, 5.79275659, 6.27957772,\n",
       "       5.56772938, 5.09275917, 5.81221762, 6.01285541, 5.59860224,\n",
       "       4.98850934, 4.97002426, 5.73866959, 5.4572689 , 6.23302002,\n",
       "       5.60237039, 4.72226749, 5.43814406, 5.34902568, 5.15886576,\n",
       "       5.72975214, 5.21109411, 5.30684255, 6.23519946, 5.75753425,\n",
       "       5.52100959, 6.57490008, 5.15192427, 5.19787782, 5.14054594,\n",
       "       5.12492231, 5.20326141, 5.08274766, 6.04180402, 4.81762451,\n",
       "       5.35186017, 5.08929658, 5.25328341, 4.99664819, 5.23750103,\n",
       "       4.99662576, 5.51177404, 4.96262878, 6.45454842, 5.25945791,\n",
       "       6.40612885, 5.89868491, 6.14263651, 5.31508848, 6.39066098,\n",
       "       6.7731357 , 5.23612602, 6.12411926, 6.39443421, 4.74620239,\n",
       "       5.7958007 , 5.09978267, 5.57329421, 6.10990598, 6.57333278,\n",
       "       5.29575739, 5.71107608, 6.21610543, 5.51779551, 5.70006383,\n",
       "       5.56720981, 5.37593997, 5.33604129, 6.4101745 , 5.48774005])"
      ]
     },
     "execution_count": 10,
     "metadata": {},
     "output_type": "execute_result"
    }
   ],
   "source": [
    "y_test_pred = lm.predict(X_test)\n",
    "y_test_pred"
   ]
  },
  {
   "cell_type": "code",
   "execution_count": 11,
   "id": "a73ec9fe",
   "metadata": {},
   "outputs": [
    {
     "name": "stderr",
     "output_type": "stream",
     "text": [
      "C:\\Users\\Administrator\\anaconda3\\lib\\site-packages\\sklearn\\linear_model\\_logistic.py:763: ConvergenceWarning: lbfgs failed to converge (status=1):\n",
      "STOP: TOTAL NO. of ITERATIONS REACHED LIMIT.\n",
      "\n",
      "Increase the number of iterations (max_iter) or scale the data as shown in:\n",
      "    https://scikit-learn.org/stable/modules/preprocessing.html\n",
      "Please also refer to the documentation for alternative solver options:\n",
      "    https://scikit-learn.org/stable/modules/linear_model.html#logistic-regression\n",
      "  n_iter_i = _check_optimize_result(\n"
     ]
    },
    {
     "data": {
      "text/plain": [
       "LogisticRegression()"
      ]
     },
     "execution_count": 11,
     "metadata": {},
     "output_type": "execute_result"
    }
   ],
   "source": [
    "# Import necessary packages (already done: sklearn linear_model)\n",
    "logReg = linear_model.LogisticRegression()\n",
    "logReg.fit(X_train, y_train)"
   ]
  },
  {
   "cell_type": "code",
   "execution_count": 12,
   "id": "7d60f461",
   "metadata": {},
   "outputs": [
    {
     "data": {
      "text/plain": [
       "array([6, 5, 5, 6, 5, 5, 5, 5, 6, 6, 5, 5, 5, 6, 5, 6, 6, 6, 5, 5, 6, 6,\n",
       "       6, 6, 5, 5, 5, 5, 5, 6, 5, 6, 5, 5, 5, 6, 6, 6, 5, 5, 6, 5, 5, 6,\n",
       "       6, 6, 5, 6, 5, 6, 6, 6, 6, 5, 6, 5, 6, 5, 5, 5, 6, 5, 6, 5, 6, 5,\n",
       "       5, 6, 6, 6, 5, 5, 6, 6, 5, 6, 5, 6, 5, 6, 6, 5, 6, 6, 6, 5, 6, 5,\n",
       "       5, 6, 6, 6, 5, 5, 5, 6, 5, 5, 5, 5, 6, 6, 5, 6, 5, 6, 6, 6, 5, 5,\n",
       "       5, 5, 5, 5, 6, 5, 5, 5, 5, 5, 5, 5, 5, 5, 6, 6, 5, 5, 6, 5, 5, 5,\n",
       "       5, 5, 5, 5, 5, 6, 5, 6, 5, 6, 6, 5, 6, 6, 6, 6, 6, 5, 6, 6, 5, 6,\n",
       "       5, 6, 5, 5, 6, 6, 6, 5, 6, 6, 6, 6, 6, 5, 5, 5, 6, 6, 6, 5, 6, 5,\n",
       "       6, 6, 5, 5, 5, 6, 6, 6, 5, 6, 5, 6, 5, 6, 5, 6, 5, 5, 5, 6, 5, 5,\n",
       "       5, 6, 5, 6, 6, 6, 5, 5, 5, 5, 6, 5, 5, 6, 6, 5, 5, 6, 6, 5, 5, 5,\n",
       "       6, 5, 5, 5, 6, 6, 5, 6, 5, 6, 5, 6, 5, 6, 6, 6, 6, 5, 5, 6, 5, 5,\n",
       "       5, 5, 6, 5, 6, 5, 5, 6, 6, 6, 6, 5, 6, 6, 5, 6, 6, 6, 5, 5, 6, 5,\n",
       "       6, 5, 5, 5, 6, 5, 6, 5, 5, 6, 6, 6, 6, 5, 5, 5, 5, 5, 5, 6, 5, 5,\n",
       "       5, 5, 5, 5, 5, 5, 5, 6, 5, 6, 6, 6, 5, 6, 6, 5, 6, 7, 5, 6, 5, 5,\n",
       "       6, 6, 5, 6, 6, 5, 6, 6, 5, 5, 6, 5], dtype=int64)"
      ]
     },
     "execution_count": 12,
     "metadata": {},
     "output_type": "execute_result"
    }
   ],
   "source": [
    "y_test_pred = logReg.predict(X_test)\n",
    "y_test_pred"
   ]
  },
  {
   "cell_type": "code",
   "execution_count": 13,
   "id": "650d3529",
   "metadata": {},
   "outputs": [
    {
     "data": {
      "text/html": [
       "<div>\n",
       "<style scoped>\n",
       "    .dataframe tbody tr th:only-of-type {\n",
       "        vertical-align: middle;\n",
       "    }\n",
       "\n",
       "    .dataframe tbody tr th {\n",
       "        vertical-align: top;\n",
       "    }\n",
       "\n",
       "    .dataframe thead th {\n",
       "        text-align: right;\n",
       "    }\n",
       "</style>\n",
       "<table border=\"1\" class=\"dataframe\">\n",
       "  <thead>\n",
       "    <tr style=\"text-align: right;\">\n",
       "      <th></th>\n",
       "      <th>actual</th>\n",
       "      <th>predicted</th>\n",
       "    </tr>\n",
       "  </thead>\n",
       "  <tbody>\n",
       "    <tr>\n",
       "      <th>0</th>\n",
       "      <td>5</td>\n",
       "      <td>6</td>\n",
       "    </tr>\n",
       "    <tr>\n",
       "      <th>1</th>\n",
       "      <td>6</td>\n",
       "      <td>5</td>\n",
       "    </tr>\n",
       "    <tr>\n",
       "      <th>2</th>\n",
       "      <td>5</td>\n",
       "      <td>5</td>\n",
       "    </tr>\n",
       "    <tr>\n",
       "      <th>3</th>\n",
       "      <td>6</td>\n",
       "      <td>6</td>\n",
       "    </tr>\n",
       "    <tr>\n",
       "      <th>4</th>\n",
       "      <td>5</td>\n",
       "      <td>5</td>\n",
       "    </tr>\n",
       "  </tbody>\n",
       "</table>\n",
       "</div>"
      ],
      "text/plain": [
       "   actual  predicted\n",
       "0       5          6\n",
       "1       6          5\n",
       "2       5          5\n",
       "3       6          6\n",
       "4       5          5"
      ]
     },
     "execution_count": 13,
     "metadata": {},
     "output_type": "execute_result"
    }
   ],
   "source": [
    "data_test_pred = pd.DataFrame(zip(y_test, y_test_pred), columns = [\"actual\", \"predicted\"])\n",
    "data_test_pred.head()"
   ]
  },
  {
   "cell_type": "code",
   "execution_count": 14,
   "id": "f7b8be87",
   "metadata": {},
   "outputs": [
    {
     "data": {
      "text/plain": [
       "1485    False\n",
       "132     False\n",
       "819      True\n",
       "965      True\n",
       "1302     True\n",
       "        ...  \n",
       "723      True\n",
       "60       True\n",
       "883     False\n",
       "1581    False\n",
       "218     False\n",
       "Name: quality, Length: 320, dtype: bool"
      ]
     },
     "execution_count": 14,
     "metadata": {},
     "output_type": "execute_result"
    }
   ],
   "source": [
    "# Comparing test numbers to predicted numbers for accuracy\n",
    "# Import packages\n",
    "import numpy as np\n",
    "y_test == y_test_pred"
   ]
  },
  {
   "cell_type": "code",
   "execution_count": 15,
   "id": "44a26336",
   "metadata": {},
   "outputs": [
    {
     "data": {
      "text/plain": [
       "0.578125"
      ]
     },
     "execution_count": 15,
     "metadata": {},
     "output_type": "execute_result"
    }
   ],
   "source": [
    "np.mean(y_test == y_test_pred) # How often model was correct"
   ]
  },
  {
   "cell_type": "code",
   "execution_count": 16,
   "id": "b66b5a51",
   "metadata": {},
   "outputs": [
    {
     "name": "stdout",
     "output_type": "stream",
     "text": [
      "Accuracy of the model: 0.578125\n"
     ]
    }
   ],
   "source": [
    "print(\"Accuracy of the model:\", np.mean(y_test == y_test_pred))"
   ]
  },
  {
   "cell_type": "code",
   "execution_count": 17,
   "id": "f2f55a40",
   "metadata": {},
   "outputs": [
    {
     "name": "stdout",
     "output_type": "stream",
     "text": [
      "[[  0   0   1   1   0   0]\n",
      " [  0   0   9   2   0   0]\n",
      " [  0   0 108  34   0   0]\n",
      " [  0   0  51  76   0   0]\n",
      " [  0   0   2  31   1   0]\n",
      " [  0   0   0   4   0   0]]\n"
     ]
    }
   ],
   "source": [
    "# Confusion matrix\n",
    "# Import package\n",
    "from sklearn.metrics import confusion_matrix\n",
    "print(confusion_matrix(y_test, y_test_pred)) #The error is called cross entropy\n",
    "# Sigmoid is a function that decides which value to pass as output and what not to pass\n",
    "# Sigmoid basically:\n",
    "# Y1 = a1x1 + b1x2 + c1x3\n",
    "# Y2 = a2x1 + b2x2 + c2x3\n",
    "# Sigmoid:\n",
    "# P1 = e^Y1/(e^Y1 + e^Y2)\n",
    "# P2 = e^Y2/(e^Y1 + e^Y2)\n",
    "# or P2 = 1 - P1\n",
    "# Softmax is sigmoid for more than two categories"
   ]
  },
  {
   "cell_type": "code",
   "execution_count": 18,
   "id": "a70ee0b5",
   "metadata": {},
   "outputs": [
    {
     "data": {
      "text/plain": [
       "array([ 0.00106507,  0.03172857,  0.50865471, -0.08293937, -0.39794337,\n",
       "       -0.06056562])"
      ]
     },
     "execution_count": 18,
     "metadata": {},
     "output_type": "execute_result"
    }
   ],
   "source": [
    "# Find the intercepts\n",
    "logReg.intercept_"
   ]
  },
  {
   "cell_type": "code",
   "execution_count": 19,
   "id": "2f827320",
   "metadata": {},
   "outputs": [
    {
     "data": {
      "text/plain": [
       "array([[ 8.53511134e-03,  1.21604202e-01, -3.04849191e-02,\n",
       "        -9.48745830e-04,  1.12803795e-02, -5.96344983e-03,\n",
       "        -1.57994685e-02,  1.45381740e-03,  2.70963079e-02,\n",
       "        -2.85156260e-02, -1.72244867e-01],\n",
       "       [-3.01786677e-01,  2.62702625e-01, -1.40134581e-01,\n",
       "         3.08106168e-01, -8.56522957e-03, -5.25249081e-02,\n",
       "         4.57967752e-03,  3.14999317e-02,  1.91822924e-01,\n",
       "        -8.18286965e-02,  6.92541865e-02],\n",
       "       [ 2.35006728e-01,  9.33534934e-01, -5.09008612e-01,\n",
       "        -1.29520573e-01,  1.04228982e-01, -1.10790528e-02,\n",
       "         2.90463788e-02,  5.06468399e-01,  1.79866974e+00,\n",
       "        -3.83354169e-01, -7.48837560e-01],\n",
       "       [ 1.27257230e-01, -3.38548067e-01,  8.37199496e-02,\n",
       "        -1.88964606e-01, -2.40130535e-03,  1.81566073e-02,\n",
       "         9.16699719e-03, -8.18336980e-02, -3.03235841e-01,\n",
       "         2.01893175e-01,  1.99800490e-01],\n",
       "       [ 9.75083504e-02, -8.75972232e-01,  5.24832705e-01,\n",
       "         3.00849593e-03, -9.11627774e-02,  1.02402251e-02,\n",
       "         4.37468985e-03, -3.97284361e-01, -1.47112931e+00,\n",
       "         2.61502966e-01,  5.21806796e-01],\n",
       "       [-1.66520743e-01, -1.03321461e-01,  7.10754579e-02,\n",
       "         8.31926054e-03, -1.33800489e-02,  4.11705784e-02,\n",
       "        -3.13682749e-02, -6.03040890e-02, -2.43223813e-01,\n",
       "         3.03023503e-02,  1.30220956e-01]])"
      ]
     },
     "execution_count": 19,
     "metadata": {},
     "output_type": "execute_result"
    }
   ],
   "source": [
    "# Find the coefficients\n",
    "logReg.coef_"
   ]
  },
  {
   "cell_type": "code",
   "execution_count": 22,
   "id": "200910f7",
   "metadata": {},
   "outputs": [],
   "source": [
    "# Plot the model\n",
    "import matplotlib.pyplot as plt\n",
    "%matplotlib inline"
   ]
  },
  {
   "cell_type": "code",
   "execution_count": 23,
   "id": "914953d8",
   "metadata": {},
   "outputs": [
    {
     "data": {
      "text/plain": [
       "<matplotlib.legend.Legend at 0x28fd92bbc70>"
      ]
     },
     "execution_count": 23,
     "metadata": {},
     "output_type": "execute_result"
    },
    {
     "data": {
      "image/png": "[encoded data removed]",
      "text/plain": [
       "<Figure size 720x360 with 1 Axes>"
      ]
     },
     "metadata": {
      "needs_background": "light"
     },
     "output_type": "display_data"
    }
   ],
   "source": [
    "plt.figure(figsize = (10,5))\n",
    "plt.scatter(data_test_pred.index, data_test_pred.actual, label = \"actual\")\n",
    "plt.scatter(data_test_pred.index, data_test_pred.predicted, label = \"predicted\")\n",
    "plt.legend()"
   ]
  },
  {
   "cell_type": "code",
   "execution_count": null,
   "id": "fedfeb96",
   "metadata": {},
   "outputs": [],
   "source": []
  }
 ],
 "metadata": {
  "kernelspec": {
   "display_name": "Python 3 (ipykernel)",
   "language": "python",
   "name": "python3"
  },
  "language_info": {
   "codemirror_mode": {
    "name": "ipython",
    "version": 3
   },
   "file_extension": ".py",
   "mimetype": "text/x-python",
   "name": "python",
   "nbconvert_exporter": "python",
   "pygments_lexer": "ipython3",
   "version": "3.9.7"
  }
 },
 "nbformat": 4,
 "nbformat_minor": 5
}
