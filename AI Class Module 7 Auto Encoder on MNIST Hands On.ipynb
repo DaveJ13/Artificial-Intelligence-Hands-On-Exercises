{
 "cells": [
  {
   "cell_type": "code",
   "execution_count": 1,
   "id": "5693994c",
   "metadata": {},
   "outputs": [],
   "source": [
    "# Import libraries\n",
    "import keras\n",
    "from keras import layers\n",
    "from keras.datasets import mnist\n",
    "import numpy as np"
   ]
  },
  {
   "cell_type": "markdown",
   "id": "96b9c685",
   "metadata": {},
   "source": [
    "### Add the layers (Encoder model)"
   ]
  },
  {
   "cell_type": "code",
   "execution_count": 23,
   "id": "dd607693",
   "metadata": {},
   "outputs": [],
   "source": [
    "encoding_dim = 32    # Compression ratio\n",
    "\n",
    "# size 784 image down to size 32(compression ratio of 24.5)"
   ]
  },
  {
   "cell_type": "code",
   "execution_count": 24,
   "id": "01358369",
   "metadata": {},
   "outputs": [],
   "source": [
    "input_img = keras.Input(shape=(784, ))  # This is our input placeholder"
   ]
  },
  {
   "cell_type": "code",
   "execution_count": 25,
   "id": "e6763735",
   "metadata": {},
   "outputs": [],
   "source": [
    "encoded = layers.Dense(encoding_dim, activation = \"relu\")(input_img)  # Encoded is the encoded representation of the input"
   ]
  },
  {
   "cell_type": "code",
   "execution_count": 26,
   "id": "300913a4",
   "metadata": {},
   "outputs": [],
   "source": [
    "decoded = layers.Dense(784, activation = \"sigmoid\")(encoded)   # Decoded is the \"lossy\" reconstruction of the input"
   ]
  },
  {
   "cell_type": "code",
   "execution_count": 27,
   "id": "3b3bb821",
   "metadata": {},
   "outputs": [],
   "source": [
    "autoencoder = keras.Model(input_img, decoded)   # This model maps an input to it's reconstruction"
   ]
  },
  {
   "cell_type": "code",
   "execution_count": 28,
   "id": "53342fb8",
   "metadata": {},
   "outputs": [],
   "source": [
    "encoder = keras.Model(input_img, encoded)   # This model maps an input to it's encoded representation"
   ]
  },
  {
   "cell_type": "markdown",
   "id": "dffe1d47",
   "metadata": {},
   "source": [
    "### Create a separate decoder model for the output"
   ]
  },
  {
   "cell_type": "code",
   "execution_count": 29,
   "id": "af7adbb5",
   "metadata": {},
   "outputs": [],
   "source": [
    "encoded_input = keras.Input(shape = (encoding_dim, ))  # Create a placeholder for an encoded(32-Dimensional) input"
   ]
  },
  {
   "cell_type": "code",
   "execution_count": 30,
   "id": "c9a2e9f9",
   "metadata": {},
   "outputs": [],
   "source": [
    "decoder_layer = autoencoder.layers[-1]   # Retrieve the last layer of the encoded model"
   ]
  },
  {
   "cell_type": "code",
   "execution_count": 31,
   "id": "79ef9df7",
   "metadata": {},
   "outputs": [],
   "source": [
    "decoder = keras.Model(encoded_input, decoder_layer(encoded_input))  # Create the decoder model"
   ]
  },
  {
   "cell_type": "markdown",
   "id": "8ad85afd",
   "metadata": {},
   "source": [
    "### Fine tune the model"
   ]
  },
  {
   "cell_type": "code",
   "execution_count": 32,
   "id": "510f7654",
   "metadata": {},
   "outputs": [],
   "source": [
    "autoencoder.compile(optimizer = \"adam\", loss = \"binary_crossentropy\")"
   ]
  },
  {
   "cell_type": "code",
   "execution_count": 33,
   "id": "89729fb8",
   "metadata": {},
   "outputs": [],
   "source": [
    "# Train the data (This model doesn't require labels, so we just load (x) values)\n",
    "(x_train,_),(x_test,_) = mnist.load_data()"
   ]
  },
  {
   "cell_type": "code",
   "execution_count": 34,
   "id": "68b22342",
   "metadata": {},
   "outputs": [
    {
     "data": {
      "text/plain": [
       "(60000, 28, 28)"
      ]
     },
     "execution_count": 34,
     "metadata": {},
     "output_type": "execute_result"
    }
   ],
   "source": [
    "x_train.shape"
   ]
  },
  {
   "cell_type": "code",
   "execution_count": 35,
   "id": "fd1f8bc4",
   "metadata": {},
   "outputs": [
    {
     "data": {
      "text/plain": [
       "(10000, 28, 28)"
      ]
     },
     "execution_count": 35,
     "metadata": {},
     "output_type": "execute_result"
    }
   ],
   "source": [
    "x_test.shape"
   ]
  },
  {
   "cell_type": "markdown",
   "id": "c88351ab",
   "metadata": {},
   "source": [
    "### Normalize the data to a range of 0 to 1"
   ]
  },
  {
   "cell_type": "code",
   "execution_count": 36,
   "id": "2fd10199",
   "metadata": {},
   "outputs": [],
   "source": [
    "x_train = x_train.astype(\"float32\") / 255."
   ]
  },
  {
   "cell_type": "code",
   "execution_count": 37,
   "id": "95b8d44d",
   "metadata": {},
   "outputs": [],
   "source": [
    "x_test = x_test.astype(\"float32\") / 255."
   ]
  },
  {
   "cell_type": "markdown",
   "id": "2dfbf73a",
   "metadata": {},
   "source": [
    "### Reshape the 28x28 matrix to a vector of 784 values"
   ]
  },
  {
   "cell_type": "code",
   "execution_count": 38,
   "id": "e9cf7a7c",
   "metadata": {},
   "outputs": [],
   "source": [
    "x_train = x_train.reshape((len(x_train), np.prod(x_train.shape[1:])))"
   ]
  },
  {
   "cell_type": "code",
   "execution_count": 47,
   "id": "c599ed2b",
   "metadata": {},
   "outputs": [],
   "source": [
    "x_test = x_test.reshape((len(x_test), np.prod(x_test.shape[1:])))"
   ]
  },
  {
   "cell_type": "code",
   "execution_count": 40,
   "id": "c09afe99",
   "metadata": {},
   "outputs": [
    {
     "data": {
      "text/plain": [
       "(60000, 784)"
      ]
     },
     "execution_count": 40,
     "metadata": {},
     "output_type": "execute_result"
    }
   ],
   "source": [
    "x_train.shape  # 60,000 images each with 784 pixels"
   ]
  },
  {
   "cell_type": "code",
   "execution_count": 41,
   "id": "36cb47c9",
   "metadata": {},
   "outputs": [
    {
     "data": {
      "text/plain": [
       "(10000, 784)"
      ]
     },
     "execution_count": 41,
     "metadata": {},
     "output_type": "execute_result"
    }
   ],
   "source": [
    "x_test.shape  # 10,000 images each with 784 pixels"
   ]
  },
  {
   "cell_type": "markdown",
   "id": "ef4a8495",
   "metadata": {},
   "source": [
    "### Fitting the model"
   ]
  },
  {
   "cell_type": "code",
   "execution_count": 42,
   "id": "a7d4c908",
   "metadata": {},
   "outputs": [
    {
     "name": "stdout",
     "output_type": "stream",
     "text": [
      "Epoch 1/50\n",
      "235/235 [==============================] - 4s 13ms/step - loss: 0.2759 - val_loss: 0.1911\n",
      "Epoch 2/50\n",
      "235/235 [==============================] - 3s 11ms/step - loss: 0.1716 - val_loss: 0.1532\n",
      "Epoch 3/50\n",
      "235/235 [==============================] - 3s 13ms/step - loss: 0.1436 - val_loss: 0.1329\n",
      "Epoch 4/50\n",
      "235/235 [==============================] - 3s 14ms/step - loss: 0.1283 - val_loss: 0.1213\n",
      "Epoch 5/50\n",
      "235/235 [==============================] - 3s 12ms/step - loss: 0.1186 - val_loss: 0.1132\n",
      "Epoch 6/50\n",
      "235/235 [==============================] - 3s 12ms/step - loss: 0.1117 - val_loss: 0.1077\n",
      "Epoch 7/50\n",
      "235/235 [==============================] - 3s 12ms/step - loss: 0.1067 - val_loss: 0.1032\n",
      "Epoch 8/50\n",
      "235/235 [==============================] - 3s 14ms/step - loss: 0.1029 - val_loss: 0.1000\n",
      "Epoch 9/50\n",
      "235/235 [==============================] - 3s 12ms/step - loss: 0.1001 - val_loss: 0.0976\n",
      "Epoch 10/50\n",
      "235/235 [==============================] - 3s 14ms/step - loss: 0.0981 - val_loss: 0.0960\n",
      "Epoch 11/50\n",
      "235/235 [==============================] - 3s 12ms/step - loss: 0.0967 - val_loss: 0.0947\n",
      "Epoch 12/50\n",
      "235/235 [==============================] - 3s 12ms/step - loss: 0.0957 - val_loss: 0.0941\n",
      "Epoch 13/50\n",
      "235/235 [==============================] - 3s 12ms/step - loss: 0.0951 - val_loss: 0.0937\n",
      "Epoch 14/50\n",
      "235/235 [==============================] - 3s 13ms/step - loss: 0.0947 - val_loss: 0.0931\n",
      "Epoch 15/50\n",
      "235/235 [==============================] - 3s 13ms/step - loss: 0.0944 - val_loss: 0.0930\n",
      "Epoch 16/50\n",
      "235/235 [==============================] - 3s 12ms/step - loss: 0.0941 - val_loss: 0.0926\n",
      "Epoch 17/50\n",
      "235/235 [==============================] - 3s 13ms/step - loss: 0.0940 - val_loss: 0.0927\n",
      "Epoch 18/50\n",
      "235/235 [==============================] - 3s 12ms/step - loss: 0.0938 - val_loss: 0.0925\n",
      "Epoch 19/50\n",
      "235/235 [==============================] - 3s 13ms/step - loss: 0.0937 - val_loss: 0.0924\n",
      "Epoch 20/50\n",
      "235/235 [==============================] - 3s 13ms/step - loss: 0.0936 - val_loss: 0.0922\n",
      "Epoch 21/50\n",
      "235/235 [==============================] - 3s 12ms/step - loss: 0.0935 - val_loss: 0.0921\n",
      "Epoch 22/50\n",
      "235/235 [==============================] - 3s 12ms/step - loss: 0.0934 - val_loss: 0.0921\n",
      "Epoch 23/50\n",
      "235/235 [==============================] - 3s 12ms/step - loss: 0.0933 - val_loss: 0.0920\n",
      "Epoch 24/50\n",
      "235/235 [==============================] - 3s 13ms/step - loss: 0.0933 - val_loss: 0.0920\n",
      "Epoch 25/50\n",
      "235/235 [==============================] - 3s 14ms/step - loss: 0.0932 - val_loss: 0.0920\n",
      "Epoch 26/50\n",
      "235/235 [==============================] - 3s 12ms/step - loss: 0.0932 - val_loss: 0.0920\n",
      "Epoch 27/50\n",
      "235/235 [==============================] - 3s 12ms/step - loss: 0.0932 - val_loss: 0.0919\n",
      "Epoch 28/50\n",
      "235/235 [==============================] - 3s 11ms/step - loss: 0.0931 - val_loss: 0.0919\n",
      "Epoch 29/50\n",
      "235/235 [==============================] - 3s 12ms/step - loss: 0.0931 - val_loss: 0.0919\n",
      "Epoch 30/50\n",
      "235/235 [==============================] - 3s 13ms/step - loss: 0.0931 - val_loss: 0.0918\n",
      "Epoch 31/50\n",
      "235/235 [==============================] - 3s 13ms/step - loss: 0.0930 - val_loss: 0.0918\n",
      "Epoch 32/50\n",
      "235/235 [==============================] - 3s 12ms/step - loss: 0.0930 - val_loss: 0.0918\n",
      "Epoch 33/50\n",
      "235/235 [==============================] - 3s 12ms/step - loss: 0.0930 - val_loss: 0.0918\n",
      "Epoch 34/50\n",
      "235/235 [==============================] - 3s 12ms/step - loss: 0.0929 - val_loss: 0.0918\n",
      "Epoch 35/50\n",
      "235/235 [==============================] - 3s 13ms/step - loss: 0.0929 - val_loss: 0.0918\n",
      "Epoch 36/50\n",
      "235/235 [==============================] - 3s 13ms/step - loss: 0.0929 - val_loss: 0.0917\n",
      "Epoch 37/50\n",
      "235/235 [==============================] - 4s 15ms/step - loss: 0.0929 - val_loss: 0.0917\n",
      "Epoch 38/50\n",
      "235/235 [==============================] - 3s 13ms/step - loss: 0.0929 - val_loss: 0.0917\n",
      "Epoch 39/50\n",
      "235/235 [==============================] - 3s 12ms/step - loss: 0.0928 - val_loss: 0.0917\n",
      "Epoch 40/50\n",
      "235/235 [==============================] - 3s 15ms/step - loss: 0.0928 - val_loss: 0.0918\n",
      "Epoch 41/50\n",
      "235/235 [==============================] - 3s 15ms/step - loss: 0.0928 - val_loss: 0.0917\n",
      "Epoch 42/50\n",
      "235/235 [==============================] - 3s 13ms/step - loss: 0.0928 - val_loss: 0.0917\n",
      "Epoch 43/50\n",
      "235/235 [==============================] - 3s 12ms/step - loss: 0.0928 - val_loss: 0.0917\n",
      "Epoch 44/50\n",
      "235/235 [==============================] - 3s 12ms/step - loss: 0.0928 - val_loss: 0.0917\n",
      "Epoch 45/50\n",
      "235/235 [==============================] - 3s 12ms/step - loss: 0.0927 - val_loss: 0.0917\n",
      "Epoch 46/50\n",
      "235/235 [==============================] - 3s 13ms/step - loss: 0.0927 - val_loss: 0.0917\n",
      "Epoch 47/50\n",
      "235/235 [==============================] - 3s 13ms/step - loss: 0.0927 - val_loss: 0.0916\n",
      "Epoch 48/50\n",
      "235/235 [==============================] - 3s 12ms/step - loss: 0.0927 - val_loss: 0.0917\n",
      "Epoch 49/50\n",
      "235/235 [==============================] - 3s 12ms/step - loss: 0.0927 - val_loss: 0.0917\n",
      "Epoch 50/50\n",
      "235/235 [==============================] - 3s 12ms/step - loss: 0.0927 - val_loss: 0.0916\n"
     ]
    },
    {
     "data": {
      "text/plain": [
       "<keras.callbacks.History at 0x1c089408340>"
      ]
     },
     "execution_count": 42,
     "metadata": {},
     "output_type": "execute_result"
    }
   ],
   "source": [
    "autoencoder.fit(x_train, x_train, epochs =50, batch_size = 256, shuffle = True, validation_data=(x_test, x_test))"
   ]
  },
  {
   "cell_type": "code",
   "execution_count": 43,
   "id": "61fabafd",
   "metadata": {},
   "outputs": [],
   "source": [
    "# Reconstructing the images (Encoding and decodeng the images) Note: taken from test set\n",
    "encoded_imgs = encoder.predict(x_test) # This is a smaller representation of the original images = encoding_dim\n",
    "# Decoding and reconstructing the images\n",
    "decoded_imgs = decoder.predict(encoded_imgs)"
   ]
  },
  {
   "cell_type": "code",
   "execution_count": 44,
   "id": "05493d66",
   "metadata": {},
   "outputs": [],
   "source": [
    "# Visualising the images\n",
    "import matplotlib.pyplot as plt\n",
    "%matplotlib inline"
   ]
  },
  {
   "cell_type": "code",
   "execution_count": 45,
   "id": "035718a1",
   "metadata": {},
   "outputs": [],
   "source": [
    "n = 10   # Number of images you want"
   ]
  },
  {
   "cell_type": "code",
   "execution_count": 46,
   "id": "8c43579a",
   "metadata": {},
   "outputs": [
    {
     "data": {
      "image/png": "[encoded data removed]",
      "text/plain": [
       "<Figure size 1440x288 with 20 Axes>"
      ]
     },
     "metadata": {
      "needs_background": "light"
     },
     "output_type": "display_data"
    }
   ],
   "source": [
    "plt.figure(figsize = (20,4))\n",
    "\n",
    "for i in range(n):\n",
    "    ax = plt.subplot(2, n, i+1)\n",
    "    plt.imshow(x_test[i].reshape(28, 28)) # Images from the x_test (original inmage)\n",
    "    plt.gray()\n",
    "    ax.get_xaxis().set_visible(False)\n",
    "    ax.get_yaxis().set_visible(False)  # This code is the decoded images(input images from the decoding)\n",
    "    \n",
    "    # Plotting the reconstructed images(output images from the input images)\n",
    "    ax  = plt.subplot(2, n, i+1+n)\n",
    "    plt.imshow(decoded_imgs[i].reshape(28,28)) # Output images from the decoding inputs\n",
    "    plt.gray()\n",
    "    ax.get_xaxis().set_visible(False)\n",
    "    ax.get_yaxis().set_visible(False)\n",
    "    \n",
    "plt.show()"
   ]
  },
  {
   "cell_type": "code",
   "execution_count": null,
   "id": "c9a2e8b9",
   "metadata": {},
   "outputs": [],
   "source": []
  }
 ],
 "metadata": {
  "kernelspec": {
   "display_name": "Python 3 (ipykernel)",
   "language": "python",
   "name": "python3"
  },
  "language_info": {
   "codemirror_mode": {
    "name": "ipython",
    "version": 3
   },
   "file_extension": ".py",
   "mimetype": "text/x-python",
   "name": "python",
   "nbconvert_exporter": "python",
   "pygments_lexer": "ipython3",
   "version": "3.9.7"
  }
 },
 "nbformat": 4,
 "nbformat_minor": 5
}
