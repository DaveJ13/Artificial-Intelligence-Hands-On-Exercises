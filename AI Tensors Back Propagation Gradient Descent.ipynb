{
 "cells": [
  {
   "cell_type": "code",
   "execution_count": 1,
   "id": "5c306bd9",
   "metadata": {},
   "outputs": [
    {
     "ename": "NameError",
     "evalue": "name 'python3' is not defined",
     "output_type": "error",
     "traceback": [
      "\u001b[1;31m---------------------------------------------------------------------------\u001b[0m",
      "\u001b[1;31mNameError\u001b[0m                                 Traceback (most recent call last)",
      "\u001b[1;32mC:\\Users\\ADMINI~1\\AppData\\Local\\Temp/ipykernel_20920/2323768189.py\u001b[0m in \u001b[0;36m<module>\u001b[1;34m\u001b[0m\n\u001b[1;32m----> 1\u001b[1;33m \u001b[0mpython3\u001b[0m \u001b[1;33m-\u001b[0m\u001b[1;33m-\u001b[0m\u001b[0mversion\u001b[0m\u001b[1;33m\u001b[0m\u001b[1;33m\u001b[0m\u001b[0m\n\u001b[0m",
      "\u001b[1;31mNameError\u001b[0m: name 'python3' is not defined"
     ]
    }
   ],
   "source": [
    "python3 --version"
   ]
  },
  {
   "cell_type": "code",
   "execution_count": 2,
   "id": "b4b259bf",
   "metadata": {},
   "outputs": [],
   "source": [
    "import tensorflow as tf\n",
    "import numpy as np"
   ]
  },
  {
   "cell_type": "markdown",
   "id": "2c6bad7e",
   "metadata": {},
   "source": [
    "## Types of tensors\n",
    "#### Tensors are multi-dimensional arrays with a uniform type\n",
    "#### All tensors are immutable like Python numbers and strings\n",
    "#### Meaning you can never update the contents of one. You can only create a new one."
   ]
  },
  {
   "cell_type": "code",
   "execution_count": 3,
   "id": "cb08475f",
   "metadata": {},
   "outputs": [],
   "source": [
    "a = np.array([[1,2,3],[4,5,6]])"
   ]
  },
  {
   "cell_type": "code",
   "execution_count": 4,
   "id": "df161271",
   "metadata": {},
   "outputs": [
    {
     "data": {
      "text/plain": [
       "array([[1, 2, 3],\n",
       "       [4, 5, 6]])"
      ]
     },
     "execution_count": 4,
     "metadata": {},
     "output_type": "execute_result"
    }
   ],
   "source": [
    "a"
   ]
  },
  {
   "cell_type": "code",
   "execution_count": 5,
   "id": "8969f7a2",
   "metadata": {},
   "outputs": [
    {
     "data": {
      "text/plain": [
       "(2, 3)"
      ]
     },
     "execution_count": 5,
     "metadata": {},
     "output_type": "execute_result"
    }
   ],
   "source": [
    "a.shape"
   ]
  },
  {
   "cell_type": "code",
   "execution_count": 6,
   "id": "6cab3b42",
   "metadata": {},
   "outputs": [],
   "source": [
    "x = tf.constant(24, name = \"x\")  #this constant is immutable\n",
    "y = tf.Variable(x + 10, name = \"y\")  #the variable, of course, can change"
   ]
  },
  {
   "cell_type": "code",
   "execution_count": 7,
   "id": "be208f5d",
   "metadata": {},
   "outputs": [
    {
     "name": "stdout",
     "output_type": "stream",
     "text": [
      "tf.Tensor(24, shape=(), dtype=int32)\n"
     ]
    }
   ],
   "source": [
    "print(x)"
   ]
  },
  {
   "cell_type": "code",
   "execution_count": 8,
   "id": "ec2ac7ef",
   "metadata": {},
   "outputs": [],
   "source": [
    "import keras"
   ]
  },
  {
   "cell_type": "code",
   "execution_count": 9,
   "id": "66d097db",
   "metadata": {},
   "outputs": [
    {
     "ename": "RuntimeError",
     "evalue": "The Session graph is empty. Add operations to the graph before calling run().",
     "output_type": "error",
     "traceback": [
      "\u001b[1;31m---------------------------------------------------------------------------\u001b[0m",
      "\u001b[1;31mRuntimeError\u001b[0m                              Traceback (most recent call last)",
      "\u001b[1;32mC:\\Users\\ADMINI~1\\AppData\\Local\\Temp/ipykernel_20920/2769552983.py\u001b[0m in \u001b[0;36m<module>\u001b[1;34m\u001b[0m\n\u001b[0;32m      2\u001b[0m \u001b[1;33m\u001b[0m\u001b[0m\n\u001b[0;32m      3\u001b[0m \u001b[1;32mwith\u001b[0m \u001b[0mtf\u001b[0m\u001b[1;33m.\u001b[0m\u001b[0mcompat\u001b[0m\u001b[1;33m.\u001b[0m\u001b[0mv1\u001b[0m\u001b[1;33m.\u001b[0m\u001b[0mSession\u001b[0m\u001b[1;33m(\u001b[0m\u001b[1;33m)\u001b[0m \u001b[1;32mas\u001b[0m \u001b[0msession\u001b[0m\u001b[1;33m:\u001b[0m\u001b[1;33m\u001b[0m\u001b[1;33m\u001b[0m\u001b[0m\n\u001b[1;32m----> 4\u001b[1;33m     \u001b[0msession\u001b[0m\u001b[1;33m.\u001b[0m\u001b[0mrun\u001b[0m\u001b[1;33m(\u001b[0m\u001b[0mmodel\u001b[0m\u001b[1;33m)\u001b[0m\u001b[1;33m\u001b[0m\u001b[1;33m\u001b[0m\u001b[0m\n\u001b[0m\u001b[0;32m      5\u001b[0m     \u001b[0mprint\u001b[0m\u001b[1;33m(\u001b[0m\u001b[0msession\u001b[0m\u001b[1;33m.\u001b[0m\u001b[0mrun\u001b[0m\u001b[1;33m(\u001b[0m\u001b[0my\u001b[0m\u001b[1;33m)\u001b[0m\u001b[1;33m)\u001b[0m\u001b[1;33m\u001b[0m\u001b[1;33m\u001b[0m\u001b[0m\n",
      "\u001b[1;32m~\\anaconda3\\lib\\site-packages\\tensorflow\\python\\client\\session.py\u001b[0m in \u001b[0;36mrun\u001b[1;34m(self, fetches, feed_dict, options, run_metadata)\u001b[0m\n\u001b[0;32m    968\u001b[0m \u001b[1;33m\u001b[0m\u001b[0m\n\u001b[0;32m    969\u001b[0m     \u001b[1;32mtry\u001b[0m\u001b[1;33m:\u001b[0m\u001b[1;33m\u001b[0m\u001b[1;33m\u001b[0m\u001b[0m\n\u001b[1;32m--> 970\u001b[1;33m       result = self._run(None, fetches, feed_dict, options_ptr,\n\u001b[0m\u001b[0;32m    971\u001b[0m                          run_metadata_ptr)\n\u001b[0;32m    972\u001b[0m       \u001b[1;32mif\u001b[0m \u001b[0mrun_metadata\u001b[0m\u001b[1;33m:\u001b[0m\u001b[1;33m\u001b[0m\u001b[1;33m\u001b[0m\u001b[0m\n",
      "\u001b[1;32m~\\anaconda3\\lib\\site-packages\\tensorflow\\python\\client\\session.py\u001b[0m in \u001b[0;36m_run\u001b[1;34m(self, handle, fetches, feed_dict, options, run_metadata)\u001b[0m\n\u001b[0;32m   1118\u001b[0m       \u001b[1;32mraise\u001b[0m \u001b[0mRuntimeError\u001b[0m\u001b[1;33m(\u001b[0m\u001b[1;34m'Attempted to use a closed Session.'\u001b[0m\u001b[1;33m)\u001b[0m\u001b[1;33m\u001b[0m\u001b[1;33m\u001b[0m\u001b[0m\n\u001b[0;32m   1119\u001b[0m     \u001b[1;32mif\u001b[0m \u001b[0mself\u001b[0m\u001b[1;33m.\u001b[0m\u001b[0mgraph\u001b[0m\u001b[1;33m.\u001b[0m\u001b[0mversion\u001b[0m \u001b[1;33m==\u001b[0m \u001b[1;36m0\u001b[0m\u001b[1;33m:\u001b[0m\u001b[1;33m\u001b[0m\u001b[1;33m\u001b[0m\u001b[0m\n\u001b[1;32m-> 1120\u001b[1;33m       raise RuntimeError('The Session graph is empty. Add operations to the '\n\u001b[0m\u001b[0;32m   1121\u001b[0m                          'graph before calling run().')\n\u001b[0;32m   1122\u001b[0m \u001b[1;33m\u001b[0m\u001b[0m\n",
      "\u001b[1;31mRuntimeError\u001b[0m: The Session graph is empty. Add operations to the graph before calling run()."
     ]
    }
   ],
   "source": [
    "model = tf.compat.v1.global_variables_initializer()\n",
    "\n",
    "with tf.compat.v1.Session() as session:\n",
    "    session.run(model)\n",
    "    print(session.run(y))"
   ]
  },
  {
   "cell_type": "code",
   "execution_count": 10,
   "id": "b863ca90",
   "metadata": {},
   "outputs": [],
   "source": [
    "rank_0_tensor = tf.constant(4) #int32 tensor by default. Also known as \"scalar\"."
   ]
  },
  {
   "cell_type": "code",
   "execution_count": 11,
   "id": "20c691a5",
   "metadata": {},
   "outputs": [
    {
     "name": "stdout",
     "output_type": "stream",
     "text": [
      "tf.Tensor(4, shape=(), dtype=int32)\n"
     ]
    }
   ],
   "source": [
    "print(rank_0_tensor) #Data type of integer"
   ]
  },
  {
   "cell_type": "code",
   "execution_count": 12,
   "id": "61213444",
   "metadata": {},
   "outputs": [],
   "source": [
    "rank_1_tensor = tf.constant([2.0,3.0,4.0])\n",
    "#A rank one tensor, or \"vector\", is like a list of values"
   ]
  },
  {
   "cell_type": "code",
   "execution_count": 13,
   "id": "cf8ae9df",
   "metadata": {},
   "outputs": [
    {
     "name": "stdout",
     "output_type": "stream",
     "text": [
      "tf.Tensor([2. 3. 4.], shape=(3,), dtype=float32)\n"
     ]
    }
   ],
   "source": [
    "print(rank_1_tensor) #Data type of float32"
   ]
  },
  {
   "cell_type": "code",
   "execution_count": 14,
   "id": "61361b2a",
   "metadata": {},
   "outputs": [],
   "source": [
    "#A rank-2 tensor has two axes. Also called a matrix. \n",
    "#A scalar shape: []  A vector shape:[3]  A matrix shape:[3,2]"
   ]
  },
  {
   "cell_type": "code",
   "execution_count": 15,
   "id": "963867f4",
   "metadata": {},
   "outputs": [],
   "source": [
    "rank_2_tensor = tf.constant([[1,2],[3,4],[5,6]], dtype = \"float16\") #Change data type"
   ]
  },
  {
   "cell_type": "code",
   "execution_count": 16,
   "id": "25f64756",
   "metadata": {},
   "outputs": [
    {
     "name": "stdout",
     "output_type": "stream",
     "text": [
      "tf.Tensor(\n",
      "[[1. 2.]\n",
      " [3. 4.]\n",
      " [5. 6.]], shape=(3, 2), dtype=float16)\n"
     ]
    }
   ],
   "source": [
    "print(rank_2_tensor) "
   ]
  },
  {
   "cell_type": "code",
   "execution_count": 17,
   "id": "802e4fbe",
   "metadata": {},
   "outputs": [],
   "source": [
    "#A tensor may have more axes."
   ]
  },
  {
   "cell_type": "code",
   "execution_count": 18,
   "id": "e83a692f",
   "metadata": {},
   "outputs": [],
   "source": [
    "rank_3_tensor = tf.constant([\n",
    "    [[0,1,2,3,4],\n",
    "    [5,6,7,8,9]],\n",
    "    [[10,11,12,13,14],\n",
    "    [15,16,17,18,19]],\n",
    "    [[20,21,22,23,24],\n",
    "    [25,26,27,28,29]],])"
   ]
  },
  {
   "cell_type": "code",
   "execution_count": 19,
   "id": "b3c90cb8",
   "metadata": {},
   "outputs": [
    {
     "name": "stdout",
     "output_type": "stream",
     "text": [
      "tf.Tensor(\n",
      "[[[ 0  1  2  3  4]\n",
      "  [ 5  6  7  8  9]]\n",
      "\n",
      " [[10 11 12 13 14]\n",
      "  [15 16 17 18 19]]\n",
      "\n",
      " [[20 21 22 23 24]\n",
      "  [25 26 27 28 29]]], shape=(3, 2, 5), dtype=int32)\n"
     ]
    }
   ],
   "source": [
    "print (rank_3_tensor) #This 3-axis tensor shape is [3,2,5]"
   ]
  },
  {
   "cell_type": "code",
   "execution_count": 20,
   "id": "4ed8752d",
   "metadata": {},
   "outputs": [
    {
     "data": {
      "text/plain": [
       "array([[1., 2.],\n",
       "       [3., 4.],\n",
       "       [5., 6.]], dtype=float16)"
      ]
     },
     "execution_count": 20,
     "metadata": {},
     "output_type": "execute_result"
    }
   ],
   "source": [
    "#You can convert a tensor to a numpy array either using np.array or tensor.numpy method\n",
    "np.array(rank_2_tensor)\n",
    "#    rank_2_tensor.numpy()"
   ]
  },
  {
   "cell_type": "markdown",
   "id": "c6817640",
   "metadata": {},
   "source": [
    "#### Equations for back propagation and gradient descent"
   ]
  },
  {
   "cell_type": "code",
   "execution_count": 21,
   "id": "d91a5889",
   "metadata": {},
   "outputs": [],
   "source": [
    "import numpy as np\n",
    "import pandas as pd"
   ]
  },
  {
   "cell_type": "code",
   "execution_count": 22,
   "id": "0af8e5fc",
   "metadata": {},
   "outputs": [],
   "source": [
    "## Equation y = w1.x1 + w2.x2"
   ]
  },
  {
   "cell_type": "code",
   "execution_count": 23,
   "id": "11cffa69",
   "metadata": {},
   "outputs": [],
   "source": [
    "x1 = 2\n",
    "x2 = 5\n",
    "y = 31"
   ]
  },
  {
   "cell_type": "code",
   "execution_count": 24,
   "id": "ec921a61",
   "metadata": {},
   "outputs": [],
   "source": [
    "lr = 0.01  #lr = learning rate(very important for accuracy) Can't be too large or too small\n",
    "w1 = 3\n",
    "w2 = 7"
   ]
  },
  {
   "cell_type": "code",
   "execution_count": 25,
   "id": "b43cbccc",
   "metadata": {},
   "outputs": [
    {
     "name": "stdout",
     "output_type": "stream",
     "text": [
      "Value of w1 -  2.6 Value of w2 -  6.0 Error is - 100\n",
      "Value of w1 -  2.432 Value of w2 -  5.58 Error is - 17.640000000000025\n",
      "Value of w1 -  2.36144 Value of w2 -  5.403600000000001 Error is - 3.111695999999985\n",
      "Value of w1 -  2.3318048 Value of w2 -  5.329512 Error is - 0.5489031744000062\n",
      "Value of w1 -  2.319358016 Value of w2 -  5.29839504 Error is - 0.09682651996416189\n",
      "Value of w1 -  2.3141303667199997 Value of w2 -  5.285325916800001 Error is - 0.01708019812167695\n",
      "Value of w1 -  2.3119347540223996 Value of w2 -  5.2798368850560005 Error is - 0.0030129469486645474\n",
      "Value of w1 -  2.3110125966894075 Value of w2 -  5.27753149172352 Error is - 0.0005314838417443082\n",
      "Value of w1 -  2.310625290609551 Value of w2 -  5.276563226523878 Error is - 9.375374968372762e-05\n",
      "Value of w1 -  2.3104626220560114 Value of w2 -  5.276156555140029 Error is - 1.6538161444169675e-05\n",
      "Value of w1 -  2.3103943012635244 Value of w2 -  5.275985753158812 Error is - 2.9173316787665796e-06\n",
      "Value of w1 -  2.31036560653068 Value of w2 -  5.275914016326701 Error is - 5.146173081352403e-07\n",
      "Value of w1 -  2.3103535547428855 Value of w2 -  5.275883886857215 Error is - 9.077849315342935e-08\n",
      "Value of w1 -  2.3103484929920115 Value of w2 -  5.27587123248003 Error is - 1.6013326192804426e-08\n",
      "Value of w1 -  2.3103463670566446 Value of w2 -  5.275865917641613 Error is - 2.8247507400859285e-09\n",
      "Value of w1 -  2.3103454741637903 Value of w2 -  5.275863685409477 Error is - 4.982860307510059e-10\n",
      "Value of w1 -  2.3103450991487917 Value of w2 -  5.27586274787198 Error is - 8.78976557392089e-11\n",
      "Value of w1 -  2.310344941642492 Value of w2 -  5.2758623541062315 Error is - 1.550514647239645e-11\n",
      "Value of w1 -  2.3103448754898466 Value of w2 -  5.275862188724617 Error is - 2.735107830915113e-12\n",
      "Value of w1 -  2.3103448477057356 Value of w2 -  5.27586211926434 Error is - 4.82473020386336e-13\n",
      "Value of w1 -  2.3103448360364087 Value of w2 -  5.275862090091023 Error is - 8.51082419984252e-14\n",
      "Value of w1 -  2.3103448311352914 Value of w2 -  5.275862077838229 Error is - 1.5013094289004332e-14\n",
      "Value of w1 -  2.3103448290768225 Value of w2 -  5.275862072692056 Error is - 2.6483095619937496e-15\n",
      "Value of w1 -  2.3103448282122656 Value of w2 -  5.275862070530663 Error is - 4.671617483767498e-16\n",
      "Value of w1 -  2.3103448278491516 Value of w2 -  5.275862069622878 Error is - 8.24073208033004e-17\n",
      "Value of w1 -  2.310344827696644 Value of w2 -  5.275862069241609 Error is - 1.4536636760654957e-17\n",
      "Value of w1 -  2.3103448276325906 Value of w2 -  5.275862069081476 Error is - 2.5642654553350578e-18\n",
      "Value of w1 -  2.310344827605688 Value of w2 -  5.275862069014219 Error is - 4.523378599692717e-19\n",
      "Value of w1 -  2.310344827594389 Value of w2 -  5.275862068985972 Error is - 7.979083296121927e-20\n",
      "Value of w1 -  2.3103448275896437 Value of w2 -  5.275862068974107 Error is - 1.407528839002451e-20\n",
      "Value of w1 -  2.3103448275876506 Value of w2 -  5.275862068969125 Error is - 2.482356901368132e-21\n",
      "Value of w1 -  2.3103448275868135 Value of w2 -  5.275862068967032 Error is - 4.378758625602858e-22\n",
      "Value of w1 -  2.3103448275864618 Value of w2 -  5.275862068966153 Error is - 7.725379215879235e-23\n",
      "Value of w1 -  2.3103448275863143 Value of w2 -  5.275862068965784 Error is - 1.3599255186639165e-23\n",
      "Value of w1 -  2.310344827586252 Value of w2 -  5.275862068965629 Error is - 2.4103676513464225e-24\n",
      "Value of w1 -  2.310344827586226 Value of w2 -  5.275862068965564 Error is - 4.226906056791434e-25\n",
      "Value of w1 -  2.310344827586215 Value of w2 -  5.2758620689655364 Error is - 7.483450091288606e-26\n",
      "Value of w1 -  2.3103448275862104 Value of w2 -  5.275862068965525 Error is - 1.2924697071141057e-26\n",
      "Value of w1 -  2.3103448275862086 Value of w2 -  5.2758620689655205 Error is - 1.8175355256292112e-27\n",
      "Value of w1 -  2.3103448275862077 Value of w2 -  5.275862068965519 Error is - 3.155443620884047e-28\n",
      "Value of w1 -  2.3103448275862073 Value of w2 -  5.275862068965518 Error is - 1.135959703518257e-28\n",
      "Value of w1 -  2.3103448275862073 Value of w2 -  5.275862068965518 Error is - 0.0\n",
      "Value of w1 -  2.3103448275862073 Value of w2 -  5.275862068965518 Error is - 0.0\n",
      "Value of w1 -  2.3103448275862073 Value of w2 -  5.275862068965518 Error is - 0.0\n",
      "Value of w1 -  2.3103448275862073 Value of w2 -  5.275862068965518 Error is - 0.0\n",
      "Value of w1 -  2.3103448275862073 Value of w2 -  5.275862068965518 Error is - 0.0\n",
      "Value of w1 -  2.3103448275862073 Value of w2 -  5.275862068965518 Error is - 0.0\n",
      "Value of w1 -  2.3103448275862073 Value of w2 -  5.275862068965518 Error is - 0.0\n",
      "Value of w1 -  2.3103448275862073 Value of w2 -  5.275862068965518 Error is - 0.0\n",
      "Value of w1 -  2.3103448275862073 Value of w2 -  5.275862068965518 Error is - 0.0\n"
     ]
    }
   ],
   "source": [
    "for epoch in range(50):\n",
    "    y_pred = w1*x1 + w2*x2\n",
    "    error = (y - y_pred)**2\n",
    "    dEw1 = 2*(y - y_pred) * (-x1)\n",
    "    dEw2 = 2*(y - y_pred) * (-x2)\n",
    "    \n",
    "    w1 = w1 - lr*dEw1\n",
    "    w2 = w2 - lr*dEw2\n",
    "    print (\"Value of w1 - \", w1, \"Value of w2 - \", w2, \"Error is -\", error)"
   ]
  },
  {
   "cell_type": "code",
   "execution_count": 26,
   "id": "76745607",
   "metadata": {},
   "outputs": [
    {
     "name": "stdout",
     "output_type": "stream",
     "text": [
      "2.3103448275862073 5.275862068965518\n"
     ]
    }
   ],
   "source": [
    "print (w1, w2)"
   ]
  },
  {
   "cell_type": "code",
   "execution_count": 27,
   "id": "f9b96ad1",
   "metadata": {},
   "outputs": [
    {
     "data": {
      "text/plain": [
       "31.0"
      ]
     },
     "execution_count": 27,
     "metadata": {},
     "output_type": "execute_result"
    }
   ],
   "source": [
    "x1*w1 + x2*w2"
   ]
  },
  {
   "cell_type": "code",
   "execution_count": null,
   "id": "57728b3c",
   "metadata": {},
   "outputs": [],
   "source": []
  }
 ],
 "metadata": {
  "kernelspec": {
   "display_name": "Python 3 (ipykernel)",
   "language": "python",
   "name": "python3"
  },
  "language_info": {
   "codemirror_mode": {
    "name": "ipython",
    "version": 3
   },
   "file_extension": ".py",
   "mimetype": "text/x-python",
   "name": "python",
   "nbconvert_exporter": "python",
   "pygments_lexer": "ipython3",
   "version": "3.9.7"
  }
 },
 "nbformat": 4,
 "nbformat_minor": 5
}
