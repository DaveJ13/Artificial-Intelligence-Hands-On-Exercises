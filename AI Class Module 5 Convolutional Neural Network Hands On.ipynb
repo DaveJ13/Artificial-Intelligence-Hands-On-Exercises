{
 "cells": [
  {
   "cell_type": "markdown",
   "id": "f3f4c81a",
   "metadata": {},
   "source": [
    "### Load Libraries"
   ]
  },
  {
   "cell_type": "code",
   "execution_count": 1,
   "id": "94242cc3",
   "metadata": {},
   "outputs": [],
   "source": [
    "import keras\n",
    "from keras.models import Sequential\n",
    "from keras.utils import np_utils\n",
    "from keras.preprocessing.image import ImageDataGenerator\n",
    "from keras.layers import Dense, Activation, Flatten, Dropout, BatchNormalization\n",
    "from keras.layers import Conv2D, MaxPooling2D\n",
    "from keras import regularizers\n",
    "from keras.callbacks import LearningRateScheduler\n",
    "import numpy as np"
   ]
  },
  {
   "cell_type": "markdown",
   "id": "b22759db",
   "metadata": {},
   "source": [
    "### Load dataset"
   ]
  },
  {
   "cell_type": "code",
   "execution_count": 4,
   "id": "3f6d022f",
   "metadata": {},
   "outputs": [],
   "source": [
    "from keras.datasets import cifar10"
   ]
  },
  {
   "cell_type": "markdown",
   "id": "51cfe200",
   "metadata": {},
   "source": [
    "### Set a variable learning rate"
   ]
  },
  {
   "cell_type": "code",
   "execution_count": 2,
   "id": "1222eeaf",
   "metadata": {},
   "outputs": [],
   "source": [
    "def lr_scheduler(epoch):\n",
    "    lrate = .001\n",
    "    if epoch > 75:\n",
    "        lrate = .0005\n",
    "    if epoch > 100:\n",
    "        lrate = .0003\n",
    "    return lrate"
   ]
  },
  {
   "cell_type": "code",
   "execution_count": 5,
   "id": "942b4ea3",
   "metadata": {},
   "outputs": [],
   "source": [
    "(x_train, y_train), (x_test, y_test) = cifar10.load_data()\n",
    "x_train = x_train.astype(\"float32\")\n",
    "x_test = x_test.astype(\"float32\")"
   ]
  },
  {
   "cell_type": "markdown",
   "id": "af5a85d0",
   "metadata": {},
   "source": [
    "### Z-score normalization of the training data"
   ]
  },
  {
   "cell_type": "code",
   "execution_count": 6,
   "id": "0a1ad463",
   "metadata": {},
   "outputs": [],
   "source": [
    "mean = np.mean(x_train, axis = (0,1,2,3))\n",
    "std = np.std(x_train, axis = (0,1,2,3))\n",
    "x_train = (x_train - mean)/ (std + 1e-7)\n",
    "x_test = (x_test - mean)/ (std + 1e-7)"
   ]
  },
  {
   "cell_type": "markdown",
   "id": "6e425ac1",
   "metadata": {},
   "source": [
    "### OneHot encoding (Setting values of (y) to between 0 and 1)"
   ]
  },
  {
   "cell_type": "code",
   "execution_count": 7,
   "id": "f33f2fd4",
   "metadata": {},
   "outputs": [],
   "source": [
    "num_classes = 10\n",
    "y_train = np_utils.to_categorical(y_train, num_classes)\n",
    "y_test = np_utils.to_categorical(y_test, num_classes)"
   ]
  },
  {
   "cell_type": "markdown",
   "id": "6e2f53d8",
   "metadata": {},
   "source": [
    "### Building the model"
   ]
  },
  {
   "cell_type": "code",
   "execution_count": 9,
   "id": "d9d8a1dc",
   "metadata": {},
   "outputs": [
    {
     "name": "stdout",
     "output_type": "stream",
     "text": [
      "Model: \"sequential\"\n",
      "_________________________________________________________________\n",
      " Layer (type)                Output Shape              Param #   \n",
      "=================================================================\n",
      " conv2d (Conv2D)             (None, 32, 32, 32)        896       \n",
      "                                                                 \n",
      " activation (Activation)     (None, 32, 32, 32)        0         \n",
      "                                                                 \n",
      " batch_normalization (BatchN  (None, 32, 32, 32)       128       \n",
      " ormalization)                                                   \n",
      "                                                                 \n",
      " conv2d_1 (Conv2D)           (None, 32, 32, 32)        9248      \n",
      "                                                                 \n",
      " activation_1 (Activation)   (None, 32, 32, 32)        0         \n",
      "                                                                 \n",
      " batch_normalization_1 (Batc  (None, 32, 32, 32)       128       \n",
      " hNormalization)                                                 \n",
      "                                                                 \n",
      " max_pooling2d (MaxPooling2D  (None, 16, 16, 32)       0         \n",
      " )                                                               \n",
      "                                                                 \n",
      " dropout (Dropout)           (None, 16, 16, 32)        0         \n",
      "                                                                 \n",
      " conv2d_2 (Conv2D)           (None, 16, 16, 64)        18496     \n",
      "                                                                 \n",
      " activation_2 (Activation)   (None, 16, 16, 64)        0         \n",
      "                                                                 \n",
      " batch_normalization_2 (Batc  (None, 16, 16, 64)       256       \n",
      " hNormalization)                                                 \n",
      "                                                                 \n",
      " conv2d_3 (Conv2D)           (None, 16, 16, 64)        36928     \n",
      "                                                                 \n",
      " activation_3 (Activation)   (None, 16, 16, 64)        0         \n",
      "                                                                 \n",
      " batch_normalization_3 (Batc  (None, 16, 16, 64)       256       \n",
      " hNormalization)                                                 \n",
      "                                                                 \n",
      " max_pooling2d_1 (MaxPooling  (None, 8, 8, 64)         0         \n",
      " 2D)                                                             \n",
      "                                                                 \n",
      " dropout_1 (Dropout)         (None, 8, 8, 64)          0         \n",
      "                                                                 \n",
      " conv2d_4 (Conv2D)           (None, 8, 8, 128)         73856     \n",
      "                                                                 \n",
      " activation_4 (Activation)   (None, 8, 8, 128)         0         \n",
      "                                                                 \n",
      " batch_normalization_4 (Batc  (None, 8, 8, 128)        512       \n",
      " hNormalization)                                                 \n",
      "                                                                 \n",
      " conv2d_5 (Conv2D)           (None, 8, 8, 128)         147584    \n",
      "                                                                 \n",
      " activation_5 (Activation)   (None, 8, 8, 128)         0         \n",
      "                                                                 \n",
      " batch_normalization_5 (Batc  (None, 8, 8, 128)        512       \n",
      " hNormalization)                                                 \n",
      "                                                                 \n",
      " max_pooling2d_2 (MaxPooling  (None, 4, 4, 128)        0         \n",
      " 2D)                                                             \n",
      "                                                                 \n",
      " dropout_2 (Dropout)         (None, 4, 4, 128)         0         \n",
      "                                                                 \n",
      " flatten (Flatten)           (None, 2048)              0         \n",
      "                                                                 \n",
      " dense (Dense)               (None, 10)                20490     \n",
      "                                                                 \n",
      "=================================================================\n",
      "Total params: 309,290\n",
      "Trainable params: 308,394\n",
      "Non-trainable params: 896\n",
      "_________________________________________________________________\n"
     ]
    }
   ],
   "source": [
    "weight_decay = 1e-4\n",
    "model = Sequential()\n",
    "model.add(Conv2D(32, (3,3), padding = 'same', kernel_regularizer=regularizers.l2(weight_decay), \n",
    "                 input_shape = x_train.shape[1:]))\n",
    "model.add(Activation('elu'))   # 'elu' stands for exponential linear unit\n",
    "model.add(BatchNormalization())\n",
    "model.add(Conv2D(32, (3,3), padding = 'same', kernel_regularizer=regularizers.l2(weight_decay)))\n",
    "model.add(Activation('elu'))\n",
    "model.add(BatchNormalization())\n",
    "model.add(MaxPooling2D(pool_size = (2,2)))\n",
    "model.add(Dropout(.2))\n",
    "\n",
    "model.add(Conv2D(64, (3,3), padding = 'same', kernel_regularizer=regularizers.l2(weight_decay)))\n",
    "model.add(Activation('elu'))\n",
    "model.add(BatchNormalization())\n",
    "model.add(Conv2D(64, (3,3), padding = 'same', kernel_regularizer=regularizers.l2(weight_decay)))\n",
    "model.add(Activation('elu'))\n",
    "model.add(BatchNormalization())\n",
    "model.add(MaxPooling2D(pool_size = (2,2)))\n",
    "model.add(Dropout(.3))\n",
    "\n",
    "model.add(Conv2D(128, (3,3), padding = 'same', kernel_regularizer=regularizers.l2(weight_decay)))\n",
    "model.add(Activation('elu'))\n",
    "model.add(BatchNormalization())\n",
    "model.add(Conv2D(128, (3,3), padding = 'same', kernel_regularizer=regularizers.l2(weight_decay)))\n",
    "model.add(Activation('elu'))\n",
    "model.add(BatchNormalization())\n",
    "model.add(MaxPooling2D(pool_size = (2,2)))\n",
    "model.add(Dropout(.4))\n",
    "\n",
    "model.add(Flatten())  # Flatten the output to a list for comparison to the actual image\n",
    "model.add(Dense(num_classes, activation = \"softmax\")) # This is the fully connected layer\n",
    "\n",
    "model.summary()"
   ]
  },
  {
   "cell_type": "markdown",
   "id": "faac4c85",
   "metadata": {},
   "source": [
    "### Data augmentation(transform the images a little bit so we can have more data to work with)"
   ]
  },
  {
   "cell_type": "code",
   "execution_count": 10,
   "id": "3ea23a98",
   "metadata": {},
   "outputs": [],
   "source": [
    "datagen = ImageDataGenerator(\n",
    "rotation_range = 15,  # Rotate a bit\n",
    "width_shift_range = .1,  # Widen a bit\n",
    "height_shift_range = .1,  # Make a little bigger\n",
    "horizontal_flip = True)  # Flip the image around\n",
    "\n",
    "datagen.fit(x_train)"
   ]
  },
  {
   "cell_type": "markdown",
   "id": "1ab8b7a3",
   "metadata": {},
   "source": [
    "### Training the data"
   ]
  },
  {
   "cell_type": "code",
   "execution_count": 15,
   "id": "de0a38e1",
   "metadata": {},
   "outputs": [],
   "source": [
    "import tensorflow as tf"
   ]
  },
  {
   "cell_type": "code",
   "execution_count": 17,
   "id": "5e066962",
   "metadata": {},
   "outputs": [
    {
     "name": "stderr",
     "output_type": "stream",
     "text": [
      "C:\\Users\\ADMINI~1\\AppData\\Local\\Temp/ipykernel_3460/1210797900.py:5: UserWarning: `Model.fit_generator` is deprecated and will be removed in a future version. Please use `Model.fit`, which supports generators.\n",
      "  model.fit_generator(datagen.flow(x_train, y_train, batch_size = batch_size),\n"
     ]
    },
    {
     "name": "stdout",
     "output_type": "stream",
     "text": [
      "Epoch 1/30\n",
      "781/781 [==============================] - 664s 847ms/step - loss: 1.9490 - accuracy: 0.3939 - val_loss: 1.7583 - val_accuracy: 0.4715\n",
      "Epoch 2/30\n",
      "781/781 [==============================] - 611s 782ms/step - loss: 1.4299 - accuracy: 0.5239 - val_loss: 1.1643 - val_accuracy: 0.6262\n",
      "Epoch 3/30\n",
      "781/781 [==============================] - 638s 817ms/step - loss: 1.2001 - accuracy: 0.5979 - val_loss: 1.2397 - val_accuracy: 0.6238\n",
      "Epoch 4/30\n",
      "781/781 [==============================] - 677s 867ms/step - loss: 1.0770 - accuracy: 0.6403 - val_loss: 1.0223 - val_accuracy: 0.6795\n",
      "Epoch 5/30\n",
      "781/781 [==============================] - 658s 843ms/step - loss: 0.9961 - accuracy: 0.6700 - val_loss: 1.2359 - val_accuracy: 0.6465\n",
      "Epoch 6/30\n",
      "781/781 [==============================] - 666s 852ms/step - loss: 0.9248 - accuracy: 0.6934 - val_loss: 0.8927 - val_accuracy: 0.7275\n",
      "Epoch 7/30\n",
      "781/781 [==============================] - 640s 820ms/step - loss: 0.8874 - accuracy: 0.7095 - val_loss: 0.8675 - val_accuracy: 0.7272\n",
      "Epoch 8/30\n",
      "781/781 [==============================] - 610s 781ms/step - loss: 0.8517 - accuracy: 0.7170 - val_loss: 0.7709 - val_accuracy: 0.7626\n",
      "Epoch 9/30\n",
      "781/781 [==============================] - 616s 789ms/step - loss: 0.8153 - accuracy: 0.7327 - val_loss: 0.7550 - val_accuracy: 0.7682\n",
      "Epoch 10/30\n",
      "781/781 [==============================] - 986s 1s/step - loss: 0.7922 - accuracy: 0.7403 - val_loss: 0.7751 - val_accuracy: 0.7641\n",
      "Epoch 11/30\n",
      "781/781 [==============================] - 610s 781ms/step - loss: 0.7638 - accuracy: 0.7514 - val_loss: 0.7331 - val_accuracy: 0.7760\n",
      "Epoch 12/30\n",
      "781/781 [==============================] - 674s 863ms/step - loss: 0.7459 - accuracy: 0.7557 - val_loss: 0.7656 - val_accuracy: 0.7700\n",
      "Epoch 13/30\n",
      "781/781 [==============================] - 637s 816ms/step - loss: 0.7277 - accuracy: 0.7651 - val_loss: 0.6893 - val_accuracy: 0.7875\n",
      "Epoch 14/30\n",
      "781/781 [==============================] - 661s 846ms/step - loss: 0.7104 - accuracy: 0.7712 - val_loss: 0.6400 - val_accuracy: 0.8063\n",
      "Epoch 15/30\n",
      "781/781 [==============================] - 831s 1s/step - loss: 0.6990 - accuracy: 0.7758 - val_loss: 0.6448 - val_accuracy: 0.8042\n",
      "Epoch 16/30\n",
      "781/781 [==============================] - 608s 778ms/step - loss: 0.6852 - accuracy: 0.7825 - val_loss: 0.6864 - val_accuracy: 0.7914\n",
      "Epoch 17/30\n",
      "781/781 [==============================] - 607s 777ms/step - loss: 0.6708 - accuracy: 0.7868 - val_loss: 0.6351 - val_accuracy: 0.8115\n",
      "Epoch 18/30\n",
      "781/781 [==============================] - 607s 777ms/step - loss: 0.6562 - accuracy: 0.7927 - val_loss: 0.6370 - val_accuracy: 0.8119\n",
      "Epoch 19/30\n",
      "781/781 [==============================] - 610s 781ms/step - loss: 0.6431 - accuracy: 0.7982 - val_loss: 0.6495 - val_accuracy: 0.8112\n",
      "Epoch 20/30\n",
      "781/781 [==============================] - 613s 785ms/step - loss: 0.6423 - accuracy: 0.7964 - val_loss: 0.5910 - val_accuracy: 0.8226\n",
      "Epoch 21/30\n",
      "781/781 [==============================] - 607s 777ms/step - loss: 0.6261 - accuracy: 0.8044 - val_loss: 0.6018 - val_accuracy: 0.8249\n",
      "Epoch 22/30\n",
      "781/781 [==============================] - 694s 889ms/step - loss: 0.6140 - accuracy: 0.8073 - val_loss: 0.6120 - val_accuracy: 0.8178\n",
      "Epoch 23/30\n",
      "781/781 [==============================] - 678s 868ms/step - loss: 0.6081 - accuracy: 0.8079 - val_loss: 0.6508 - val_accuracy: 0.8095\n",
      "Epoch 24/30\n",
      "781/781 [==============================] - 607s 778ms/step - loss: 0.6053 - accuracy: 0.8115 - val_loss: 0.5410 - val_accuracy: 0.8419\n",
      "Epoch 25/30\n",
      "781/781 [==============================] - 628s 804ms/step - loss: 0.5956 - accuracy: 0.8147 - val_loss: 0.5668 - val_accuracy: 0.8311\n",
      "Epoch 26/30\n",
      "781/781 [==============================] - 611s 783ms/step - loss: 0.5906 - accuracy: 0.8195 - val_loss: 0.6539 - val_accuracy: 0.8157\n",
      "Epoch 27/30\n",
      "781/781 [==============================] - 607s 777ms/step - loss: 0.5868 - accuracy: 0.8187 - val_loss: 0.5281 - val_accuracy: 0.8442\n",
      "Epoch 28/30\n",
      "781/781 [==============================] - 608s 779ms/step - loss: 0.5745 - accuracy: 0.8227 - val_loss: 0.6056 - val_accuracy: 0.8213\n",
      "Epoch 29/30\n",
      "781/781 [==============================] - 613s 785ms/step - loss: 0.5734 - accuracy: 0.8226 - val_loss: 0.5824 - val_accuracy: 0.8347\n",
      "Epoch 30/30\n",
      "781/781 [==============================] - 608s 779ms/step - loss: 0.5607 - accuracy: 0.8281 - val_loss: 0.5376 - val_accuracy: 0.8438\n"
     ]
    },
    {
     "data": {
      "text/plain": [
       "<keras.callbacks.History at 0x153d28ba9a0>"
      ]
     },
     "execution_count": 17,
     "metadata": {},
     "output_type": "execute_result"
    }
   ],
   "source": [
    "batch_size = 64\n",
    "opt_rms = tf.keras.optimizers.RMSprop(lr = .0003, decay = 1e-6)\n",
    "model.compile(loss = \"categorical_crossentropy\", optimizer = opt_rms,\n",
    "             metrics = [\"accuracy\"])\n",
    "model.fit_generator(datagen.flow(x_train, y_train, batch_size = batch_size),\n",
    "                   steps_per_epoch = x_train.shape[0]//batch_size, epochs = 30,\n",
    "                   verbose = 1, validation_data=(x_test, y_test))"
   ]
  },
  {
   "cell_type": "markdown",
   "id": "637ff21a",
   "metadata": {},
   "source": [
    "### Saving the model to compare against the validation(test) set"
   ]
  },
  {
   "cell_type": "code",
   "execution_count": 18,
   "id": "21cc7972",
   "metadata": {},
   "outputs": [],
   "source": [
    "model_json = model.to_json()\n",
    "\n",
    "with open(\"model.json\", \"w\") as json_file:\n",
    "    json_file.write(model_json)\n",
    "model.save_weights(\"model.h5\")"
   ]
  },
  {
   "cell_type": "markdown",
   "id": "d9defa7b",
   "metadata": {},
   "source": [
    "### Testing "
   ]
  },
  {
   "cell_type": "code",
   "execution_count": 19,
   "id": "6b0cf595",
   "metadata": {},
   "outputs": [
    {
     "name": "stdout",
     "output_type": "stream",
     "text": [
      "79/79 [==============================] - 32s 405ms/step - loss: 0.5376 - accuracy: 0.8438\n",
      "\n",
      "Test Results: 84.380 loss: 0.538\n"
     ]
    }
   ],
   "source": [
    "scores = model.evaluate(x_test, y_test, batch_size = 128, verbose = 1)\n",
    "print('\\nTest Results: %.3f loss: %.3f' %(scores[1]*100,scores[0]))"
   ]
  },
  {
   "cell_type": "markdown",
   "id": "63a4799a",
   "metadata": {},
   "source": [
    "### Define a function to show the data"
   ]
  },
  {
   "cell_type": "code",
   "execution_count": 21,
   "id": "86142517",
   "metadata": {},
   "outputs": [],
   "source": [
    "from matplotlib import pyplot\n",
    "# from scipy.misc import toimage\n",
    "# from scipy.misc import imshow\n",
    "from matplotlib.pyplot import imshow\n",
    "from keras.datasets import cifar10\n",
    "def show_images(X):\n",
    "    pyplot.figure(1)\n",
    "    k = 0\n",
    "    for i in range(0,4):\n",
    "        for j in range(0,4):\n",
    "            pyplot.subplot2grid((4,4),(i,j))\n",
    "            pyplot.imshow((X[k]))\n",
    "            k = k + 1\n",
    "    # Show the plot\n",
    "    pyplot.show()    "
   ]
  },
  {
   "cell_type": "code",
   "execution_count": 24,
   "id": "e44083cd",
   "metadata": {},
   "outputs": [
    {
     "name": "stderr",
     "output_type": "stream",
     "text": [
      "Clipping input data to the valid range for imshow with RGB data ([0..1] for floats or [0..255] for integers).\n",
      "Clipping input data to the valid range for imshow with RGB data ([0..1] for floats or [0..255] for integers).\n",
      "Clipping input data to the valid range for imshow with RGB data ([0..1] for floats or [0..255] for integers).\n",
      "Clipping input data to the valid range for imshow with RGB data ([0..1] for floats or [0..255] for integers).\n",
      "Clipping input data to the valid range for imshow with RGB data ([0..1] for floats or [0..255] for integers).\n",
      "Clipping input data to the valid range for imshow with RGB data ([0..1] for floats or [0..255] for integers).\n",
      "Clipping input data to the valid range for imshow with RGB data ([0..1] for floats or [0..255] for integers).\n",
      "Clipping input data to the valid range for imshow with RGB data ([0..1] for floats or [0..255] for integers).\n",
      "Clipping input data to the valid range for imshow with RGB data ([0..1] for floats or [0..255] for integers).\n",
      "Clipping input data to the valid range for imshow with RGB data ([0..1] for floats or [0..255] for integers).\n",
      "Clipping input data to the valid range for imshow with RGB data ([0..1] for floats or [0..255] for integers).\n",
      "Clipping input data to the valid range for imshow with RGB data ([0..1] for floats or [0..255] for integers).\n",
      "Clipping input data to the valid range for imshow with RGB data ([0..1] for floats or [0..255] for integers).\n",
      "Clipping input data to the valid range for imshow with RGB data ([0..1] for floats or [0..255] for integers).\n",
      "Clipping input data to the valid range for imshow with RGB data ([0..1] for floats or [0..255] for integers).\n",
      "Clipping input data to the valid range for imshow with RGB data ([0..1] for floats or [0..255] for integers).\n"
     ]
    },
    {
     "data": {
      "image/png": "[encoded data removed]",
      "text/plain": [
       "<Figure size 432x288 with 16 Axes>"
      ]
     },
     "metadata": {
      "needs_background": "light"
     },
     "output_type": "display_data"
    },
    {
     "name": "stdout",
     "output_type": "stream",
     "text": [
      "['frog', 'automobile', 'ship', 'airplane', 'frog', 'frog', 'automobile', 'frog', 'cat', 'automobile', 'airplane', 'truck', 'dog', 'horse', 'truck', 'ship']\n"
     ]
    }
   ],
   "source": [
    "(x_train, y_train), (x_test, y_test) = cifar10.load_data()\n",
    "\n",
    "x_train = x_train.astype(\"float32\")\n",
    "x_test = x_test.astype(\"float32\")\n",
    "\n",
    "# Normalization\n",
    "\n",
    "mean = np.mean(x_train, axis = (0,1,2,3))\n",
    "std = np.std(x_train, axis = (0,1,2,3))\n",
    "x_train = (x_train - mean)/ (std + 1e-7)\n",
    "x_test = (x_test - mean)/ (std + 1e-7)\n",
    "\n",
    "show_images(x_test[:16])  # Shows the related images from the test set\n",
    "\n",
    "# Loading trained CNN model\n",
    "json_file = open(\"model.json\", \"r\")\n",
    "loaded_model_json = json_file.read()\n",
    "json_file.close()\n",
    "from keras.models import model_from_json\n",
    "model = model_from_json(loaded_model_json)\n",
    "model.load_weights(\"model.h5\")\n",
    "\n",
    "labels = [\"airplane\", \"automobile\",\"bird\",\"cat\",\"deer\",\"dog\",\"frog\",\"horse\",\"ship\",\"truck\"]\n",
    "\n",
    "indices = np.argmax(model.predict(x_test[:16]), 1)\n",
    "print([labels[x] for x in indices]) # prints the labels from highest to lowest count order for the test rows\n",
    "# (or) for x in indices:\n",
    "        #  print(labels[x])"
   ]
  },
  {
   "cell_type": "code",
   "execution_count": 25,
   "id": "8b26ec5d",
   "metadata": {},
   "outputs": [
    {
     "data": {
      "text/plain": [
       "array([3], dtype=uint8)"
      ]
     },
     "execution_count": 25,
     "metadata": {},
     "output_type": "execute_result"
    }
   ],
   "source": [
    "y_test[0]"
   ]
  },
  {
   "cell_type": "code",
   "execution_count": 27,
   "id": "da6032a6",
   "metadata": {},
   "outputs": [
    {
     "data": {
      "text/plain": [
       "array([[8.87580798e-04, 3.57977487e-02, 5.87181002e-03, 3.49847227e-01,\n",
       "        3.95758310e-03, 3.28527726e-02, 5.58015049e-01, 7.53102286e-05,\n",
       "        1.23483967e-02, 3.46594228e-04],\n",
       "       [3.75622130e-06, 8.26516211e-01, 1.25653898e-09, 9.62316338e-10,\n",
       "        1.45453274e-10, 2.39875845e-11, 6.57646049e-10, 1.01387149e-10,\n",
       "        1.73464447e-01, 1.56358838e-05],\n",
       "       [1.84653467e-03, 4.09492344e-01, 7.98903202e-05, 1.14073164e-05,\n",
       "        1.00774678e-05, 1.80773509e-06, 1.18468612e-04, 2.03639866e-06,\n",
       "        5.87853134e-01, 5.84267429e-04],\n",
       "       [9.72975671e-01, 7.29949959e-03, 1.98630639e-03, 7.19816599e-04,\n",
       "        5.27479551e-06, 2.37885183e-06, 1.04627670e-05, 3.69851978e-06,\n",
       "        1.64203029e-02, 5.76609396e-04],\n",
       "       [3.62574362e-08, 4.88893013e-04, 1.68244704e-03, 7.16764116e-05,\n",
       "        1.12315283e-04, 3.00367077e-07, 9.97640014e-01, 1.64925709e-07,\n",
       "        2.76074456e-06, 1.39758083e-06],\n",
       "       [6.22499874e-09, 2.30728947e-08, 9.84629060e-06, 4.07093699e-04,\n",
       "        2.71059253e-04, 5.70214586e-04, 9.98737037e-01, 4.47293041e-06,\n",
       "        1.69902528e-08, 1.92988665e-07],\n",
       "       [4.12246936e-06, 9.98531461e-01, 1.17434666e-08, 1.74841534e-06,\n",
       "        6.20960450e-10, 3.06212598e-07, 1.45376433e-07, 1.88863896e-06,\n",
       "        1.95719334e-08, 1.46012264e-03],\n",
       "       [1.25785067e-03, 1.04216597e-04, 7.74388667e-03, 1.28383446e-03,\n",
       "        1.25038046e-02, 3.40228988e-04, 9.75198328e-01, 1.28166925e-03,\n",
       "        1.08529566e-04, 1.77654816e-04],\n",
       "       [8.25002189e-06, 1.31700008e-05, 2.28243601e-03, 9.55259979e-01,\n",
       "        2.59334520e-02, 3.80010554e-03, 1.21647343e-02, 5.26381424e-04,\n",
       "        7.05752564e-06, 4.39255246e-06],\n",
       "       [6.17584192e-06, 9.94492531e-01, 4.80865651e-07, 2.13829480e-06,\n",
       "        2.83914545e-07, 6.40979323e-08, 3.34305078e-05, 6.11069382e-08,\n",
       "        7.80147675e-05, 5.38662216e-03],\n",
       "       [9.92635548e-01, 2.89478448e-05, 1.74355134e-03, 6.19317754e-04,\n",
       "        1.31900981e-03, 1.08311919e-03, 1.23901173e-05, 6.05804962e-04,\n",
       "        1.78947661e-03, 1.62824726e-04],\n",
       "       [2.48356038e-08, 1.18114019e-03, 6.20817146e-13, 6.41338588e-12,\n",
       "        6.58098928e-14, 6.22448328e-14, 4.14672073e-12, 1.99046959e-11,\n",
       "        1.99047043e-10, 9.98818815e-01],\n",
       "       [1.15713992e-04, 1.46640802e-03, 2.91259922e-02, 8.55368152e-02,\n",
       "        2.18618765e-01, 3.62208188e-01, 1.87538847e-01, 1.15007102e-01,\n",
       "        1.87476951e-04, 1.94777109e-04],\n",
       "       [4.13558246e-06, 3.99841192e-05, 6.96240613e-06, 3.63130239e-05,\n",
       "        6.94421033e-06, 5.87604416e-04, 2.12041891e-06, 9.99297619e-01,\n",
       "        2.59566747e-07, 1.80724946e-05],\n",
       "       [9.86405394e-06, 1.46257109e-03, 7.63785621e-08, 1.46589638e-08,\n",
       "        5.68934500e-09, 2.25777930e-09, 5.16688603e-09, 5.91531489e-06,\n",
       "        4.39880750e-06, 9.98517096e-01],\n",
       "       [8.03339295e-03, 3.99390608e-03, 2.92824028e-04, 6.91670939e-05,\n",
       "        3.35647550e-04, 1.88807953e-05, 1.04203664e-01, 3.14739941e-06,\n",
       "        8.82806540e-01, 2.42807335e-04]], dtype=float32)"
      ]
     },
     "execution_count": 27,
     "metadata": {},
     "output_type": "execute_result"
    }
   ],
   "source": [
    "model.predict(x_test[:16])"
   ]
  },
  {
   "cell_type": "code",
   "execution_count": null,
   "id": "ddeb1dbe",
   "metadata": {},
   "outputs": [],
   "source": []
  }
 ],
 "metadata": {
  "kernelspec": {
   "display_name": "Python 3 (ipykernel)",
   "language": "python",
   "name": "python3"
  },
  "language_info": {
   "codemirror_mode": {
    "name": "ipython",
    "version": 3
   },
   "file_extension": ".py",
   "mimetype": "text/x-python",
   "name": "python",
   "nbconvert_exporter": "python",
   "pygments_lexer": "ipython3",
   "version": "3.9.7"
  }
 },
 "nbformat": 4,
 "nbformat_minor": 5
}
