{
 "cells": [
  {
   "cell_type": "code",
   "execution_count": 1,
   "id": "56cbb65f",
   "metadata": {},
   "outputs": [],
   "source": [
    "import pandas as pd\n",
    "import numpy as np\n",
    "import keras\n",
    "from keras.models import Model\n",
    "from keras.layers import *\n",
    "import tensorflow as tf\n",
    "from keras import optimizers\n",
    "from keras.utils import np_utils\n",
    "import csv\n",
    "import matplotlib.pyplot as plt\n",
    "from sklearn.model_selection import train_test_split"
   ]
  },
  {
   "cell_type": "code",
   "execution_count": 2,
   "id": "409e9068",
   "metadata": {},
   "outputs": [],
   "source": [
    "df_train = pd.read_csv(\"train.csv\")\n",
    "df_test = pd.read_csv(\"test.csv\")"
   ]
  },
  {
   "cell_type": "code",
   "execution_count": 3,
   "id": "ce161d87",
   "metadata": {},
   "outputs": [
    {
     "data": {
      "text/html": [
       "<div>\n",
       "<style scoped>\n",
       "    .dataframe tbody tr th:only-of-type {\n",
       "        vertical-align: middle;\n",
       "    }\n",
       "\n",
       "    .dataframe tbody tr th {\n",
       "        vertical-align: top;\n",
       "    }\n",
       "\n",
       "    .dataframe thead th {\n",
       "        text-align: right;\n",
       "    }\n",
       "</style>\n",
       "<table border=\"1\" class=\"dataframe\">\n",
       "  <thead>\n",
       "    <tr style=\"text-align: right;\">\n",
       "      <th></th>\n",
       "      <th>label</th>\n",
       "      <th>pixel0</th>\n",
       "      <th>pixel1</th>\n",
       "      <th>pixel2</th>\n",
       "      <th>pixel3</th>\n",
       "      <th>pixel4</th>\n",
       "      <th>pixel5</th>\n",
       "      <th>pixel6</th>\n",
       "      <th>pixel7</th>\n",
       "      <th>pixel8</th>\n",
       "      <th>...</th>\n",
       "      <th>pixel774</th>\n",
       "      <th>pixel775</th>\n",
       "      <th>pixel776</th>\n",
       "      <th>pixel777</th>\n",
       "      <th>pixel778</th>\n",
       "      <th>pixel779</th>\n",
       "      <th>pixel780</th>\n",
       "      <th>pixel781</th>\n",
       "      <th>pixel782</th>\n",
       "      <th>pixel783</th>\n",
       "    </tr>\n",
       "  </thead>\n",
       "  <tbody>\n",
       "    <tr>\n",
       "      <th>0</th>\n",
       "      <td>1</td>\n",
       "      <td>0</td>\n",
       "      <td>0</td>\n",
       "      <td>0</td>\n",
       "      <td>0</td>\n",
       "      <td>0</td>\n",
       "      <td>0</td>\n",
       "      <td>0</td>\n",
       "      <td>0</td>\n",
       "      <td>0</td>\n",
       "      <td>...</td>\n",
       "      <td>0</td>\n",
       "      <td>0</td>\n",
       "      <td>0</td>\n",
       "      <td>0</td>\n",
       "      <td>0</td>\n",
       "      <td>0</td>\n",
       "      <td>0</td>\n",
       "      <td>0</td>\n",
       "      <td>0</td>\n",
       "      <td>0</td>\n",
       "    </tr>\n",
       "    <tr>\n",
       "      <th>1</th>\n",
       "      <td>0</td>\n",
       "      <td>0</td>\n",
       "      <td>0</td>\n",
       "      <td>0</td>\n",
       "      <td>0</td>\n",
       "      <td>0</td>\n",
       "      <td>0</td>\n",
       "      <td>0</td>\n",
       "      <td>0</td>\n",
       "      <td>0</td>\n",
       "      <td>...</td>\n",
       "      <td>0</td>\n",
       "      <td>0</td>\n",
       "      <td>0</td>\n",
       "      <td>0</td>\n",
       "      <td>0</td>\n",
       "      <td>0</td>\n",
       "      <td>0</td>\n",
       "      <td>0</td>\n",
       "      <td>0</td>\n",
       "      <td>0</td>\n",
       "    </tr>\n",
       "    <tr>\n",
       "      <th>2</th>\n",
       "      <td>1</td>\n",
       "      <td>0</td>\n",
       "      <td>0</td>\n",
       "      <td>0</td>\n",
       "      <td>0</td>\n",
       "      <td>0</td>\n",
       "      <td>0</td>\n",
       "      <td>0</td>\n",
       "      <td>0</td>\n",
       "      <td>0</td>\n",
       "      <td>...</td>\n",
       "      <td>0</td>\n",
       "      <td>0</td>\n",
       "      <td>0</td>\n",
       "      <td>0</td>\n",
       "      <td>0</td>\n",
       "      <td>0</td>\n",
       "      <td>0</td>\n",
       "      <td>0</td>\n",
       "      <td>0</td>\n",
       "      <td>0</td>\n",
       "    </tr>\n",
       "    <tr>\n",
       "      <th>3</th>\n",
       "      <td>4</td>\n",
       "      <td>0</td>\n",
       "      <td>0</td>\n",
       "      <td>0</td>\n",
       "      <td>0</td>\n",
       "      <td>0</td>\n",
       "      <td>0</td>\n",
       "      <td>0</td>\n",
       "      <td>0</td>\n",
       "      <td>0</td>\n",
       "      <td>...</td>\n",
       "      <td>0</td>\n",
       "      <td>0</td>\n",
       "      <td>0</td>\n",
       "      <td>0</td>\n",
       "      <td>0</td>\n",
       "      <td>0</td>\n",
       "      <td>0</td>\n",
       "      <td>0</td>\n",
       "      <td>0</td>\n",
       "      <td>0</td>\n",
       "    </tr>\n",
       "    <tr>\n",
       "      <th>4</th>\n",
       "      <td>0</td>\n",
       "      <td>0</td>\n",
       "      <td>0</td>\n",
       "      <td>0</td>\n",
       "      <td>0</td>\n",
       "      <td>0</td>\n",
       "      <td>0</td>\n",
       "      <td>0</td>\n",
       "      <td>0</td>\n",
       "      <td>0</td>\n",
       "      <td>...</td>\n",
       "      <td>0</td>\n",
       "      <td>0</td>\n",
       "      <td>0</td>\n",
       "      <td>0</td>\n",
       "      <td>0</td>\n",
       "      <td>0</td>\n",
       "      <td>0</td>\n",
       "      <td>0</td>\n",
       "      <td>0</td>\n",
       "      <td>0</td>\n",
       "    </tr>\n",
       "  </tbody>\n",
       "</table>\n",
       "<p>5 rows × 785 columns</p>\n",
       "</div>"
      ],
      "text/plain": [
       "   label  pixel0  pixel1  pixel2  pixel3  pixel4  pixel5  pixel6  pixel7  \\\n",
       "0      1       0       0       0       0       0       0       0       0   \n",
       "1      0       0       0       0       0       0       0       0       0   \n",
       "2      1       0       0       0       0       0       0       0       0   \n",
       "3      4       0       0       0       0       0       0       0       0   \n",
       "4      0       0       0       0       0       0       0       0       0   \n",
       "\n",
       "   pixel8  ...  pixel774  pixel775  pixel776  pixel777  pixel778  pixel779  \\\n",
       "0       0  ...         0         0         0         0         0         0   \n",
       "1       0  ...         0         0         0         0         0         0   \n",
       "2       0  ...         0         0         0         0         0         0   \n",
       "3       0  ...         0         0         0         0         0         0   \n",
       "4       0  ...         0         0         0         0         0         0   \n",
       "\n",
       "   pixel780  pixel781  pixel782  pixel783  \n",
       "0         0         0         0         0  \n",
       "1         0         0         0         0  \n",
       "2         0         0         0         0  \n",
       "3         0         0         0         0  \n",
       "4         0         0         0         0  \n",
       "\n",
       "[5 rows x 785 columns]"
      ]
     },
     "execution_count": 3,
     "metadata": {},
     "output_type": "execute_result"
    }
   ],
   "source": [
    "df_train.head()"
   ]
  },
  {
   "cell_type": "code",
   "execution_count": 4,
   "id": "61bd561a",
   "metadata": {},
   "outputs": [],
   "source": [
    "data = np.matrix(df_train)"
   ]
  },
  {
   "cell_type": "code",
   "execution_count": 5,
   "id": "48382c7c",
   "metadata": {},
   "outputs": [],
   "source": [
    "# The first column contains the label, so we'll store it in a separate array.\n",
    "output = data[:,0]"
   ]
  },
  {
   "cell_type": "code",
   "execution_count": 6,
   "id": "a983be2b",
   "metadata": {},
   "outputs": [],
   "source": [
    "data = np.delete(data, 0, 1)"
   ]
  },
  {
   "cell_type": "code",
   "execution_count": 7,
   "id": "91b86a08",
   "metadata": {},
   "outputs": [
    {
     "data": {
      "text/plain": [
       "<matplotlib.image.AxesImage at 0x1ed27c1a5b0>"
      ]
     },
     "execution_count": 7,
     "metadata": {},
     "output_type": "execute_result"
    },
    {
     "data": {
      "image/png": "[encoded data removed]",
      "text/plain": [
       "<Figure size 432x288 with 1 Axes>"
      ]
     },
     "metadata": {
      "needs_background": "light"
     },
     "output_type": "display_data"
    }
   ],
   "source": [
    "# Visualising what the image looks like\n",
    "img = data[1].reshape(28,28)\n",
    "plt.imshow(img, cmap=\"gray\")"
   ]
  },
  {
   "cell_type": "code",
   "execution_count": 8,
   "id": "6282b506",
   "metadata": {},
   "outputs": [
    {
     "data": {
      "text/plain": [
       "<matplotlib.image.AxesImage at 0x1ed27b3d6d0>"
      ]
     },
     "execution_count": 8,
     "metadata": {},
     "output_type": "execute_result"
    },
    {
     "data": {
      "image/png": "[encoded data removed]",
      "text/plain": [
       "<Figure size 432x288 with 1 Axes>"
      ]
     },
     "metadata": {
      "needs_background": "light"
     },
     "output_type": "display_data"
    }
   ],
   "source": [
    "img = data[100].reshape(28,28)\n",
    "plt.imshow(img, cmap=\"gray\")"
   ]
  },
  {
   "cell_type": "code",
   "execution_count": 9,
   "id": "5a7f6763",
   "metadata": {},
   "outputs": [
    {
     "data": {
      "text/plain": [
       "<matplotlib.image.AxesImage at 0x1ed27b46490>"
      ]
     },
     "execution_count": 9,
     "metadata": {},
     "output_type": "execute_result"
    },
    {
     "data": {
      "image/png": "[encoded data removed]",
      "text/plain": [
       "<Figure size 432x288 with 1 Axes>"
      ]
     },
     "metadata": {
      "needs_background": "light"
     },
     "output_type": "display_data"
    }
   ],
   "source": [
    "img = data[0].reshape(28,28)\n",
    "plt.imshow(img, cmap=\"gray\")"
   ]
  },
  {
   "cell_type": "code",
   "execution_count": 10,
   "id": "2897b839",
   "metadata": {},
   "outputs": [
    {
     "data": {
      "text/plain": [
       "<matplotlib.image.AxesImage at 0x1ed27bdadc0>"
      ]
     },
     "execution_count": 10,
     "metadata": {},
     "output_type": "execute_result"
    },
    {
     "data": {
      "image/png": "[encoded data removed]",
      "text/plain": [
       "<Figure size 432x288 with 1 Axes>"
      ]
     },
     "metadata": {
      "needs_background": "light"
     },
     "output_type": "display_data"
    }
   ],
   "source": [
    "img = data[8].reshape(28,28)\n",
    "plt.imshow(img, cmap=\"gray\")"
   ]
  },
  {
   "cell_type": "code",
   "execution_count": 11,
   "id": "aa2a15f7",
   "metadata": {},
   "outputs": [],
   "source": [
    "df_features = df_train.iloc[:, 1:785]\n",
    "df_label = df_train.iloc[:, 0]"
   ]
  },
  {
   "cell_type": "code",
   "execution_count": 12,
   "id": "9ae1a0c1",
   "metadata": {},
   "outputs": [],
   "source": [
    "X_test = df_test.iloc[:, 0:784]"
   ]
  },
  {
   "cell_type": "code",
   "execution_count": 13,
   "id": "4f32b45c",
   "metadata": {},
   "outputs": [
    {
     "data": {
      "text/html": [
       "<div>\n",
       "<style scoped>\n",
       "    .dataframe tbody tr th:only-of-type {\n",
       "        vertical-align: middle;\n",
       "    }\n",
       "\n",
       "    .dataframe tbody tr th {\n",
       "        vertical-align: top;\n",
       "    }\n",
       "\n",
       "    .dataframe thead th {\n",
       "        text-align: right;\n",
       "    }\n",
       "</style>\n",
       "<table border=\"1\" class=\"dataframe\">\n",
       "  <thead>\n",
       "    <tr style=\"text-align: right;\">\n",
       "      <th></th>\n",
       "      <th>pixel0</th>\n",
       "      <th>pixel1</th>\n",
       "      <th>pixel2</th>\n",
       "      <th>pixel3</th>\n",
       "      <th>pixel4</th>\n",
       "      <th>pixel5</th>\n",
       "      <th>pixel6</th>\n",
       "      <th>pixel7</th>\n",
       "      <th>pixel8</th>\n",
       "      <th>pixel9</th>\n",
       "      <th>...</th>\n",
       "      <th>pixel774</th>\n",
       "      <th>pixel775</th>\n",
       "      <th>pixel776</th>\n",
       "      <th>pixel777</th>\n",
       "      <th>pixel778</th>\n",
       "      <th>pixel779</th>\n",
       "      <th>pixel780</th>\n",
       "      <th>pixel781</th>\n",
       "      <th>pixel782</th>\n",
       "      <th>pixel783</th>\n",
       "    </tr>\n",
       "  </thead>\n",
       "  <tbody>\n",
       "    <tr>\n",
       "      <th>0</th>\n",
       "      <td>0</td>\n",
       "      <td>0</td>\n",
       "      <td>0</td>\n",
       "      <td>0</td>\n",
       "      <td>0</td>\n",
       "      <td>0</td>\n",
       "      <td>0</td>\n",
       "      <td>0</td>\n",
       "      <td>0</td>\n",
       "      <td>0</td>\n",
       "      <td>...</td>\n",
       "      <td>0</td>\n",
       "      <td>0</td>\n",
       "      <td>0</td>\n",
       "      <td>0</td>\n",
       "      <td>0</td>\n",
       "      <td>0</td>\n",
       "      <td>0</td>\n",
       "      <td>0</td>\n",
       "      <td>0</td>\n",
       "      <td>0</td>\n",
       "    </tr>\n",
       "    <tr>\n",
       "      <th>1</th>\n",
       "      <td>0</td>\n",
       "      <td>0</td>\n",
       "      <td>0</td>\n",
       "      <td>0</td>\n",
       "      <td>0</td>\n",
       "      <td>0</td>\n",
       "      <td>0</td>\n",
       "      <td>0</td>\n",
       "      <td>0</td>\n",
       "      <td>0</td>\n",
       "      <td>...</td>\n",
       "      <td>0</td>\n",
       "      <td>0</td>\n",
       "      <td>0</td>\n",
       "      <td>0</td>\n",
       "      <td>0</td>\n",
       "      <td>0</td>\n",
       "      <td>0</td>\n",
       "      <td>0</td>\n",
       "      <td>0</td>\n",
       "      <td>0</td>\n",
       "    </tr>\n",
       "    <tr>\n",
       "      <th>2</th>\n",
       "      <td>0</td>\n",
       "      <td>0</td>\n",
       "      <td>0</td>\n",
       "      <td>0</td>\n",
       "      <td>0</td>\n",
       "      <td>0</td>\n",
       "      <td>0</td>\n",
       "      <td>0</td>\n",
       "      <td>0</td>\n",
       "      <td>0</td>\n",
       "      <td>...</td>\n",
       "      <td>0</td>\n",
       "      <td>0</td>\n",
       "      <td>0</td>\n",
       "      <td>0</td>\n",
       "      <td>0</td>\n",
       "      <td>0</td>\n",
       "      <td>0</td>\n",
       "      <td>0</td>\n",
       "      <td>0</td>\n",
       "      <td>0</td>\n",
       "    </tr>\n",
       "    <tr>\n",
       "      <th>3</th>\n",
       "      <td>0</td>\n",
       "      <td>0</td>\n",
       "      <td>0</td>\n",
       "      <td>0</td>\n",
       "      <td>0</td>\n",
       "      <td>0</td>\n",
       "      <td>0</td>\n",
       "      <td>0</td>\n",
       "      <td>0</td>\n",
       "      <td>0</td>\n",
       "      <td>...</td>\n",
       "      <td>0</td>\n",
       "      <td>0</td>\n",
       "      <td>0</td>\n",
       "      <td>0</td>\n",
       "      <td>0</td>\n",
       "      <td>0</td>\n",
       "      <td>0</td>\n",
       "      <td>0</td>\n",
       "      <td>0</td>\n",
       "      <td>0</td>\n",
       "    </tr>\n",
       "    <tr>\n",
       "      <th>4</th>\n",
       "      <td>0</td>\n",
       "      <td>0</td>\n",
       "      <td>0</td>\n",
       "      <td>0</td>\n",
       "      <td>0</td>\n",
       "      <td>0</td>\n",
       "      <td>0</td>\n",
       "      <td>0</td>\n",
       "      <td>0</td>\n",
       "      <td>0</td>\n",
       "      <td>...</td>\n",
       "      <td>0</td>\n",
       "      <td>0</td>\n",
       "      <td>0</td>\n",
       "      <td>0</td>\n",
       "      <td>0</td>\n",
       "      <td>0</td>\n",
       "      <td>0</td>\n",
       "      <td>0</td>\n",
       "      <td>0</td>\n",
       "      <td>0</td>\n",
       "    </tr>\n",
       "  </tbody>\n",
       "</table>\n",
       "<p>5 rows × 784 columns</p>\n",
       "</div>"
      ],
      "text/plain": [
       "   pixel0  pixel1  pixel2  pixel3  pixel4  pixel5  pixel6  pixel7  pixel8  \\\n",
       "0       0       0       0       0       0       0       0       0       0   \n",
       "1       0       0       0       0       0       0       0       0       0   \n",
       "2       0       0       0       0       0       0       0       0       0   \n",
       "3       0       0       0       0       0       0       0       0       0   \n",
       "4       0       0       0       0       0       0       0       0       0   \n",
       "\n",
       "   pixel9  ...  pixel774  pixel775  pixel776  pixel777  pixel778  pixel779  \\\n",
       "0       0  ...         0         0         0         0         0         0   \n",
       "1       0  ...         0         0         0         0         0         0   \n",
       "2       0  ...         0         0         0         0         0         0   \n",
       "3       0  ...         0         0         0         0         0         0   \n",
       "4       0  ...         0         0         0         0         0         0   \n",
       "\n",
       "   pixel780  pixel781  pixel782  pixel783  \n",
       "0         0         0         0         0  \n",
       "1         0         0         0         0  \n",
       "2         0         0         0         0  \n",
       "3         0         0         0         0  \n",
       "4         0         0         0         0  \n",
       "\n",
       "[5 rows x 784 columns]"
      ]
     },
     "execution_count": 13,
     "metadata": {},
     "output_type": "execute_result"
    }
   ],
   "source": [
    "X_test.head()"
   ]
  },
  {
   "cell_type": "code",
   "execution_count": 14,
   "id": "371a3cd7",
   "metadata": {},
   "outputs": [
    {
     "data": {
      "text/plain": [
       "(28000, 784)"
      ]
     },
     "execution_count": 14,
     "metadata": {},
     "output_type": "execute_result"
    }
   ],
   "source": [
    "X_test.shape"
   ]
  },
  {
   "cell_type": "code",
   "execution_count": 15,
   "id": "4db79c9b",
   "metadata": {},
   "outputs": [],
   "source": [
    "X_train, X_cv, y_train, y_cv = train_test_split(df_features, df_label, test_size=.2, random_state = 1904)"
   ]
  },
  {
   "cell_type": "code",
   "execution_count": 16,
   "id": "5237f436",
   "metadata": {},
   "outputs": [
    {
     "data": {
      "text/plain": [
       "(33600, 784)"
      ]
     },
     "execution_count": 16,
     "metadata": {},
     "output_type": "execute_result"
    }
   ],
   "source": [
    "X_train.shape"
   ]
  },
  {
   "cell_type": "code",
   "execution_count": 17,
   "id": "c1238883",
   "metadata": {},
   "outputs": [],
   "source": [
    "X_train = X_train.values.reshape(33600, 784)"
   ]
  },
  {
   "cell_type": "code",
   "execution_count": 18,
   "id": "e2b0e4d7",
   "metadata": {},
   "outputs": [
    {
     "data": {
      "text/plain": [
       "(8400, 784)"
      ]
     },
     "execution_count": 18,
     "metadata": {},
     "output_type": "execute_result"
    }
   ],
   "source": [
    "X_cv.shape"
   ]
  },
  {
   "cell_type": "code",
   "execution_count": 19,
   "id": "c84a4474",
   "metadata": {},
   "outputs": [],
   "source": [
    "X_cv = X_cv.values.reshape(8400, 784)"
   ]
  },
  {
   "cell_type": "code",
   "execution_count": 20,
   "id": "ba9661a8",
   "metadata": {},
   "outputs": [],
   "source": [
    "X_test = X_test.values.reshape(28000, 784)"
   ]
  },
  {
   "cell_type": "code",
   "execution_count": 21,
   "id": "5d844eac",
   "metadata": {},
   "outputs": [
    {
     "name": "stdout",
     "output_type": "stream",
     "text": [
      "(0, 255)\n"
     ]
    }
   ],
   "source": [
    "print((min(X_train[1]), max(X_train[1])))"
   ]
  },
  {
   "cell_type": "code",
   "execution_count": 22,
   "id": "27612b57",
   "metadata": {},
   "outputs": [],
   "source": [
    "# Normalize the dataset(Feature Normalization)\n",
    "X_train = X_train.astype(\"float32\")\n",
    "X_cv = X_cv.astype(\"float32\")\n",
    "X_test = X_test.astype(\"float32\")\n",
    "\n",
    "X_train /= 255\n",
    "X_cv /= 255\n",
    "X_test /= 255"
   ]
  },
  {
   "cell_type": "code",
   "execution_count": 23,
   "id": "5e3c48e3",
   "metadata": {},
   "outputs": [],
   "source": [
    "num_digits = 10\n",
    "y_train = keras.utils.np_utils.to_categorical(y_train, num_digits)\n",
    "y_cv = keras.utils.np_utils.to_categorical(y_cv, num_digits)"
   ]
  },
  {
   "cell_type": "code",
   "execution_count": 24,
   "id": "56042fce",
   "metadata": {},
   "outputs": [
    {
     "data": {
      "text/plain": [
       "array([[0., 0., 0., ..., 0., 0., 1.],\n",
       "       [0., 1., 0., ..., 0., 0., 0.],\n",
       "       [0., 1., 0., ..., 0., 0., 0.],\n",
       "       ...,\n",
       "       [0., 0., 0., ..., 1., 0., 0.],\n",
       "       [0., 0., 0., ..., 0., 0., 1.],\n",
       "       [0., 0., 0., ..., 0., 1., 0.]], dtype=float32)"
      ]
     },
     "execution_count": 24,
     "metadata": {},
     "output_type": "execute_result"
    }
   ],
   "source": [
    "y_train"
   ]
  },
  {
   "cell_type": "code",
   "execution_count": 25,
   "id": "5a7d6c26",
   "metadata": {},
   "outputs": [
    {
     "name": "stdout",
     "output_type": "stream",
     "text": [
      "(33600, 784)\n",
      "(28000, 784)\n",
      "(8400, 784)\n",
      "(33600, 10)\n",
      "(8400, 10)\n"
     ]
    }
   ],
   "source": [
    "print(X_train.shape)\n",
    "print(X_test.shape)\n",
    "print(X_cv.shape)\n",
    "print(y_train.shape)\n",
    "print(y_cv.shape)"
   ]
  },
  {
   "cell_type": "code",
   "execution_count": 26,
   "id": "02445af9",
   "metadata": {},
   "outputs": [],
   "source": [
    "# Modeling the network\n",
    "# Input parameters\n",
    "n_input = 784   # Number of input features\n",
    "n_hidden_1 = 300\n",
    "n_hidden_2 = 100\n",
    "n_hidden_3 = 100\n",
    "n_hidden_4 = 200\n",
    "num_digits = 10   # Output layer"
   ]
  },
  {
   "cell_type": "code",
   "execution_count": 27,
   "id": "810e332d",
   "metadata": {},
   "outputs": [],
   "source": [
    "Inp = Input(shape = (784,))\n",
    "x = Dense(n_hidden_1, activation = \"relu\", name = \"Hidden_Layer_1\")(Inp)   # First input layer\n",
    "x = Dense(n_hidden_2, activation = \"relu\", name = \"Hidden_Layer_2\")(x)    #Second input\n",
    "x = Dense(n_hidden_3, activation = \"relu\", name = \"Hidden_Layer_3\")(x)    #Third input\n",
    "x = Dense(n_hidden_4, activation = \"relu\", name = \"Hidden_Layer_4\")(x)    #Fourth input\n",
    "output = Dense(num_digits, activation = \"softmax\", name = \"Output_Layer\")(x)  #Output layer"
   ]
  },
  {
   "cell_type": "code",
   "execution_count": 28,
   "id": "193e20ff",
   "metadata": {},
   "outputs": [],
   "source": [
    "model = Model(Inp, output)"
   ]
  },
  {
   "cell_type": "code",
   "execution_count": 29,
   "id": "13c38668",
   "metadata": {},
   "outputs": [
    {
     "name": "stdout",
     "output_type": "stream",
     "text": [
      "Model: \"model\"\n",
      "_________________________________________________________________\n",
      " Layer (type)                Output Shape              Param #   \n",
      "=================================================================\n",
      " input_1 (InputLayer)        [(None, 784)]             0         \n",
      "                                                                 \n",
      " Hidden_Layer_1 (Dense)      (None, 300)               235500    \n",
      "                                                                 \n",
      " Hidden_Layer_2 (Dense)      (None, 100)               30100     \n",
      "                                                                 \n",
      " Hidden_Layer_3 (Dense)      (None, 100)               10100     \n",
      "                                                                 \n",
      " Hidden_Layer_4 (Dense)      (None, 200)               20200     \n",
      "                                                                 \n",
      " Output_Layer (Dense)        (None, 10)                2010      \n",
      "                                                                 \n",
      "=================================================================\n",
      "Total params: 297,910\n",
      "Trainable params: 297,910\n",
      "Non-trainable params: 0\n",
      "_________________________________________________________________\n"
     ]
    }
   ],
   "source": [
    "model.summary()"
   ]
  },
  {
   "cell_type": "code",
   "execution_count": 30,
   "id": "83fa06b1",
   "metadata": {},
   "outputs": [],
   "source": [
    "model.compile(loss = \"categorical_crossentropy\",\n",
    "             optimizer = \"sgd\",\n",
    "             metrics = [\"accuracy\"])"
   ]
  },
  {
   "cell_type": "code",
   "execution_count": 31,
   "id": "c5f84ceb",
   "metadata": {},
   "outputs": [
    {
     "name": "stdout",
     "output_type": "stream",
     "text": [
      "Epoch 1/7\n",
      "336/336 [==============================] - 6s 11ms/step - loss: 1.9053 - accuracy: 0.4220 - val_loss: 1.1389 - val_accuracy: 0.7344\n",
      "Epoch 2/7\n",
      "336/336 [==============================] - 3s 9ms/step - loss: 0.6968 - accuracy: 0.8156 - val_loss: 0.4834 - val_accuracy: 0.8646\n",
      "Epoch 3/7\n",
      "336/336 [==============================] - 3s 9ms/step - loss: 0.4091 - accuracy: 0.8832 - val_loss: 0.3647 - val_accuracy: 0.8955\n",
      "Epoch 4/7\n",
      "336/336 [==============================] - 3s 9ms/step - loss: 0.3315 - accuracy: 0.9026 - val_loss: 0.3257 - val_accuracy: 0.9037\n",
      "Epoch 5/7\n",
      "336/336 [==============================] - 3s 9ms/step - loss: 0.2931 - accuracy: 0.9128 - val_loss: 0.2910 - val_accuracy: 0.9133\n",
      "Epoch 6/7\n",
      "336/336 [==============================] - 3s 9ms/step - loss: 0.2663 - accuracy: 0.9224 - val_loss: 0.2718 - val_accuracy: 0.9189\n",
      "Epoch 7/7\n",
      "336/336 [==============================] - 3s 10ms/step - loss: 0.2452 - accuracy: 0.9293 - val_loss: 0.2526 - val_accuracy: 0.9245\n"
     ]
    }
   ],
   "source": [
    "history1 = model.fit(X_train, y_train,\n",
    "                    batch_size = 100,\n",
    "                    epochs = 7,\n",
    "                    validation_data=(X_cv, y_cv))"
   ]
  },
  {
   "cell_type": "code",
   "execution_count": 32,
   "id": "69ce15f2",
   "metadata": {},
   "outputs": [],
   "source": [
    "## Optimization algorithm\n",
    "## ADAGRAD\n",
    "## RMSPROP\n",
    "## ADAM"
   ]
  },
  {
   "cell_type": "code",
   "execution_count": 33,
   "id": "6838d569",
   "metadata": {},
   "outputs": [
    {
     "name": "stderr",
     "output_type": "stream",
     "text": [
      "C:\\Users\\Administrator\\anaconda3\\lib\\site-packages\\keras\\optimizer_v2\\adam.py:105: UserWarning: The `lr` argument is deprecated, use `learning_rate` instead.\n",
      "  super(Adam, self).__init__(name, **kwargs)\n"
     ]
    }
   ],
   "source": [
    "## Using ADAM as our optimization algorithm\n",
    "adam = tf.keras.optimizers.Adam(lr = 0.1)"
   ]
  },
  {
   "cell_type": "code",
   "execution_count": 34,
   "id": "7fa197c0",
   "metadata": {},
   "outputs": [],
   "source": [
    "model2 = Model(Inp, output)"
   ]
  },
  {
   "cell_type": "code",
   "execution_count": 35,
   "id": "9d2cae04",
   "metadata": {},
   "outputs": [],
   "source": [
    "model2.compile(loss = \"categorical_crossentropy\",\n",
    "              optimizer =  adam,\n",
    "              metrics = [\"accuracy\"])"
   ]
  },
  {
   "cell_type": "code",
   "execution_count": 36,
   "id": "c4f4caf6",
   "metadata": {},
   "outputs": [
    {
     "name": "stdout",
     "output_type": "stream",
     "text": [
      "Epoch 1/7\n",
      "336/336 [==============================] - 5s 11ms/step - loss: 34.5173 - accuracy: 0.2670 - val_loss: 1.8145 - val_accuracy: 0.3067\n",
      "Epoch 2/7\n",
      "336/336 [==============================] - 3s 10ms/step - loss: 1.3171 - accuracy: 0.4709 - val_loss: 1.1582 - val_accuracy: 0.5610\n",
      "Epoch 3/7\n",
      "336/336 [==============================] - 3s 10ms/step - loss: 1.1817 - accuracy: 0.5481 - val_loss: 1.2539 - val_accuracy: 0.5361\n",
      "Epoch 4/7\n",
      "336/336 [==============================] - 3s 10ms/step - loss: 1.2162 - accuracy: 0.5532 - val_loss: 1.1769 - val_accuracy: 0.5449\n",
      "Epoch 5/7\n",
      "336/336 [==============================] - 3s 10ms/step - loss: 1.1078 - accuracy: 0.5587 - val_loss: 1.0546 - val_accuracy: 0.5814\n",
      "Epoch 6/7\n",
      "336/336 [==============================] - 3s 10ms/step - loss: 1.0366 - accuracy: 0.5809 - val_loss: 1.0765 - val_accuracy: 0.5574\n",
      "Epoch 7/7\n",
      "336/336 [==============================] - 3s 10ms/step - loss: 1.0354 - accuracy: 0.5776 - val_loss: 1.0374 - val_accuracy: 0.5813\n"
     ]
    }
   ],
   "source": [
    "history2 = model2.fit(X_train, y_train,\n",
    "                    batch_size = 100,\n",
    "                    epochs = 7,\n",
    "                    validation_data=(X_cv, y_cv))"
   ]
  },
  {
   "cell_type": "code",
   "execution_count": 37,
   "id": "f37b725a",
   "metadata": {},
   "outputs": [
    {
     "name": "stdout",
     "output_type": "stream",
     "text": [
      "Epoch 1/15\n",
      "336/336 [==============================] - 4s 11ms/step - loss: 1.1022 - accuracy: 0.5601 - val_loss: 1.3528 - val_accuracy: 0.4924\n",
      "Epoch 2/15\n",
      "336/336 [==============================] - 3s 10ms/step - loss: 1.0497 - accuracy: 0.5699 - val_loss: 1.0855 - val_accuracy: 0.5643\n",
      "Epoch 3/15\n",
      "336/336 [==============================] - 3s 10ms/step - loss: 1.2430 - accuracy: 0.5148 - val_loss: 1.5583 - val_accuracy: 0.4039\n",
      "Epoch 4/15\n",
      "336/336 [==============================] - 3s 10ms/step - loss: 1.3431 - accuracy: 0.4160 - val_loss: 1.2588 - val_accuracy: 0.4356\n",
      "Epoch 5/15\n",
      "336/336 [==============================] - 3s 10ms/step - loss: 1.6276 - accuracy: 0.3698 - val_loss: 2.0905 - val_accuracy: 0.2400\n",
      "Epoch 6/15\n",
      "336/336 [==============================] - 3s 10ms/step - loss: 1.8746 - accuracy: 0.2735 - val_loss: 1.8306 - val_accuracy: 0.2998\n",
      "Epoch 7/15\n",
      "336/336 [==============================] - 3s 10ms/step - loss: 1.8673 - accuracy: 0.2714 - val_loss: 1.7313 - val_accuracy: 0.2875\n",
      "Epoch 8/15\n",
      "336/336 [==============================] - 3s 10ms/step - loss: 1.6846 - accuracy: 0.2893 - val_loss: 1.6427 - val_accuracy: 0.2943\n",
      "Epoch 9/15\n",
      "336/336 [==============================] - 3s 10ms/step - loss: 1.6110 - accuracy: 0.2898 - val_loss: 1.6017 - val_accuracy: 0.2854\n",
      "Epoch 10/15\n",
      "336/336 [==============================] - 3s 10ms/step - loss: 1.6752 - accuracy: 0.2804 - val_loss: 1.6404 - val_accuracy: 0.2895\n",
      "Epoch 11/15\n",
      "336/336 [==============================] - 3s 10ms/step - loss: 1.7928 - accuracy: 0.2614 - val_loss: 1.8457 - val_accuracy: 0.2799\n",
      "Epoch 12/15\n",
      "336/336 [==============================] - 4s 10ms/step - loss: 1.9948 - accuracy: 0.1996 - val_loss: 2.0147 - val_accuracy: 0.1729\n",
      "Epoch 13/15\n",
      "336/336 [==============================] - 4s 11ms/step - loss: 1.9926 - accuracy: 0.1910 - val_loss: 1.9521 - val_accuracy: 0.1893\n",
      "Epoch 14/15\n",
      "336/336 [==============================] - 4s 11ms/step - loss: 1.9459 - accuracy: 0.1879 - val_loss: 1.9569 - val_accuracy: 0.1902\n",
      "Epoch 15/15\n",
      "336/336 [==============================] - 4s 11ms/step - loss: 2.0080 - accuracy: 0.1819 - val_loss: 1.9944 - val_accuracy: 0.2005\n"
     ]
    }
   ],
   "source": [
    "adam = tf.keras.optimizers.Adam(lr = 0.01)\n",
    "model3 = Model(Inp, output)\n",
    "model3.compile(loss = \"categorical_crossentropy\",\n",
    "              optimizer =  adam,\n",
    "              metrics = [\"accuracy\"])\n",
    "history3 = model2.fit(X_train, y_train,\n",
    "                    batch_size = 100,\n",
    "                    epochs = 15,\n",
    "                    validation_data=(X_cv, y_cv))"
   ]
  },
  {
   "cell_type": "code",
   "execution_count": 38,
   "id": "f9751e17",
   "metadata": {},
   "outputs": [
    {
     "name": "stdout",
     "output_type": "stream",
     "text": [
      "Epoch 1/10\n",
      "336/336 [==============================] - 5s 11ms/step - loss: 1.9676 - accuracy: 0.1978 - val_loss: 1.9784 - val_accuracy: 0.2004\n",
      "Epoch 2/10\n",
      "336/336 [==============================] - 3s 9ms/step - loss: 1.9596 - accuracy: 0.1979 - val_loss: 1.9753 - val_accuracy: 0.2004\n",
      "Epoch 3/10\n",
      "336/336 [==============================] - 3s 10ms/step - loss: 1.9565 - accuracy: 0.1979 - val_loss: 1.9742 - val_accuracy: 0.2005\n",
      "Epoch 4/10\n",
      "336/336 [==============================] - 3s 9ms/step - loss: 1.9551 - accuracy: 0.1979 - val_loss: 1.9734 - val_accuracy: 0.2005\n",
      "Epoch 5/10\n",
      "336/336 [==============================] - 3s 10ms/step - loss: 1.9539 - accuracy: 0.1979 - val_loss: 1.9718 - val_accuracy: 0.2005\n",
      "Epoch 6/10\n",
      "336/336 [==============================] - 3s 10ms/step - loss: 1.9533 - accuracy: 0.1979 - val_loss: 1.9721 - val_accuracy: 0.2004\n",
      "Epoch 7/10\n",
      "336/336 [==============================] - 3s 10ms/step - loss: 1.9527 - accuracy: 0.1979 - val_loss: 1.9696 - val_accuracy: 0.2006\n",
      "Epoch 8/10\n",
      "336/336 [==============================] - 3s 10ms/step - loss: 1.9495 - accuracy: 0.1982 - val_loss: 1.9674 - val_accuracy: 0.2010\n",
      "Epoch 9/10\n",
      "336/336 [==============================] - 3s 10ms/step - loss: 1.9489 - accuracy: 0.1982 - val_loss: 1.9682 - val_accuracy: 0.2007\n",
      "Epoch 10/10\n",
      "336/336 [==============================] - 3s 10ms/step - loss: 1.9467 - accuracy: 0.1983 - val_loss: 1.9645 - val_accuracy: 0.2007\n"
     ]
    }
   ],
   "source": [
    "adam = tf.keras.optimizers.Adam(lr = 0.001)\n",
    "model4 = Model(Inp, output)\n",
    "model4.compile(loss = \"categorical_crossentropy\",\n",
    "              optimizer =  adam,\n",
    "              metrics = [\"accuracy\"])\n",
    "history4 = model4.fit(X_train, y_train,\n",
    "                    batch_size = 100,\n",
    "                    epochs = 10,\n",
    "                    validation_data=(X_cv, y_cv))"
   ]
  },
  {
   "cell_type": "code",
   "execution_count": 39,
   "id": "70eafccc",
   "metadata": {},
   "outputs": [],
   "source": [
    "## Inference\n",
    "test_pred = pd.DataFrame(model.predict(X_test, batch_size = 100))\n",
    "test_pred = pd.DataFrame(test_pred.idxmax(axis=1))\n",
    "test_pred.index.name = \"ImageId\"\n",
    "test_pred = test_pred.rename(columns={0:\"label\"}).reset_index()\n",
    "test_pred[\"ImageId\"] = test_pred[\"ImageId\"] + 1"
   ]
  },
  {
   "cell_type": "code",
   "execution_count": 40,
   "id": "cc66aa60",
   "metadata": {},
   "outputs": [],
   "source": [
    "test_pred = pd.DataFrame(model.predict(X_test, batch_size = 200))"
   ]
  },
  {
   "cell_type": "code",
   "execution_count": 41,
   "id": "47546236",
   "metadata": {},
   "outputs": [
    {
     "data": {
      "text/html": [
       "<div>\n",
       "<style scoped>\n",
       "    .dataframe tbody tr th:only-of-type {\n",
       "        vertical-align: middle;\n",
       "    }\n",
       "\n",
       "    .dataframe tbody tr th {\n",
       "        vertical-align: top;\n",
       "    }\n",
       "\n",
       "    .dataframe thead th {\n",
       "        text-align: right;\n",
       "    }\n",
       "</style>\n",
       "<table border=\"1\" class=\"dataframe\">\n",
       "  <thead>\n",
       "    <tr style=\"text-align: right;\">\n",
       "      <th></th>\n",
       "      <th>0</th>\n",
       "      <th>1</th>\n",
       "      <th>2</th>\n",
       "      <th>3</th>\n",
       "      <th>4</th>\n",
       "      <th>5</th>\n",
       "      <th>6</th>\n",
       "      <th>7</th>\n",
       "      <th>8</th>\n",
       "      <th>9</th>\n",
       "    </tr>\n",
       "  </thead>\n",
       "  <tbody>\n",
       "    <tr>\n",
       "      <th>0</th>\n",
       "      <td>0.007866</td>\n",
       "      <td>0.170956</td>\n",
       "      <td>0.148620</td>\n",
       "      <td>0.046493</td>\n",
       "      <td>0.168555</td>\n",
       "      <td>0.022460</td>\n",
       "      <td>0.048926</td>\n",
       "      <td>0.182508</td>\n",
       "      <td>0.035774</td>\n",
       "      <td>0.167844</td>\n",
       "    </tr>\n",
       "    <tr>\n",
       "      <th>1</th>\n",
       "      <td>0.212981</td>\n",
       "      <td>0.035850</td>\n",
       "      <td>0.034740</td>\n",
       "      <td>0.177933</td>\n",
       "      <td>0.003896</td>\n",
       "      <td>0.181743</td>\n",
       "      <td>0.164797</td>\n",
       "      <td>0.001639</td>\n",
       "      <td>0.179473</td>\n",
       "      <td>0.006949</td>\n",
       "    </tr>\n",
       "    <tr>\n",
       "      <th>2</th>\n",
       "      <td>0.007866</td>\n",
       "      <td>0.170956</td>\n",
       "      <td>0.148620</td>\n",
       "      <td>0.046493</td>\n",
       "      <td>0.168555</td>\n",
       "      <td>0.022460</td>\n",
       "      <td>0.048926</td>\n",
       "      <td>0.182508</td>\n",
       "      <td>0.035774</td>\n",
       "      <td>0.167844</td>\n",
       "    </tr>\n",
       "    <tr>\n",
       "      <th>3</th>\n",
       "      <td>0.007866</td>\n",
       "      <td>0.170956</td>\n",
       "      <td>0.148620</td>\n",
       "      <td>0.046493</td>\n",
       "      <td>0.168555</td>\n",
       "      <td>0.022460</td>\n",
       "      <td>0.048926</td>\n",
       "      <td>0.182508</td>\n",
       "      <td>0.035774</td>\n",
       "      <td>0.167844</td>\n",
       "    </tr>\n",
       "    <tr>\n",
       "      <th>4</th>\n",
       "      <td>0.066055</td>\n",
       "      <td>0.135279</td>\n",
       "      <td>0.123974</td>\n",
       "      <td>0.150881</td>\n",
       "      <td>0.045677</td>\n",
       "      <td>0.104875</td>\n",
       "      <td>0.149223</td>\n",
       "      <td>0.031243</td>\n",
       "      <td>0.132416</td>\n",
       "      <td>0.060377</td>\n",
       "    </tr>\n",
       "  </tbody>\n",
       "</table>\n",
       "</div>"
      ],
      "text/plain": [
       "          0         1         2         3         4         5         6  \\\n",
       "0  0.007866  0.170956  0.148620  0.046493  0.168555  0.022460  0.048926   \n",
       "1  0.212981  0.035850  0.034740  0.177933  0.003896  0.181743  0.164797   \n",
       "2  0.007866  0.170956  0.148620  0.046493  0.168555  0.022460  0.048926   \n",
       "3  0.007866  0.170956  0.148620  0.046493  0.168555  0.022460  0.048926   \n",
       "4  0.066055  0.135279  0.123974  0.150881  0.045677  0.104875  0.149223   \n",
       "\n",
       "          7         8         9  \n",
       "0  0.182508  0.035774  0.167844  \n",
       "1  0.001639  0.179473  0.006949  \n",
       "2  0.182508  0.035774  0.167844  \n",
       "3  0.182508  0.035774  0.167844  \n",
       "4  0.031243  0.132416  0.060377  "
      ]
     },
     "execution_count": 41,
     "metadata": {},
     "output_type": "execute_result"
    }
   ],
   "source": [
    "test_pred.head()"
   ]
  },
  {
   "cell_type": "code",
   "execution_count": null,
   "id": "176191eb",
   "metadata": {},
   "outputs": [],
   "source": []
  }
 ],
 "metadata": {
  "kernelspec": {
   "display_name": "Python 3 (ipykernel)",
   "language": "python",
   "name": "python3"
  },
  "language_info": {
   "codemirror_mode": {
    "name": "ipython",
    "version": 3
   },
   "file_extension": ".py",
   "mimetype": "text/x-python",
   "name": "python",
   "nbconvert_exporter": "python",
   "pygments_lexer": "ipython3",
   "version": "3.9.7"
  }
 },
 "nbformat": 4,
 "nbformat_minor": 5
}
