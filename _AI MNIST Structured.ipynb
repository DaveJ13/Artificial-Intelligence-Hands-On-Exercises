{
 "cells": [
  {
   "cell_type": "code",
   "execution_count": 2,
   "id": "e7d47378",
   "metadata": {},
   "outputs": [],
   "source": [
    "from  tensorflow.keras.datasets import mnist\n",
    "from matplotlib import pyplot as plt\n",
    "import keras\n",
    "import tensorflow as tf\n",
    "from tensorflow.keras.layers import BatchNormalization\n",
    "from numpy import mean\n",
    "from numpy import std\n",
    "from sklearn.model_selection import KFold\n",
    "from keras.utils.np_utils import to_categorical\n",
    "from tensorflow.keras.models import Sequential\n",
    "from tensorflow.keras.layers import Conv2D\n",
    "from tensorflow.keras.layers import MaxPooling2D\n",
    "from tensorflow.keras.layers import Dense\n",
    "from tensorflow.keras.layers import Flatten\n",
    "from tensorflow.keras.optimizers import SGD"
   ]
  },
  {
   "cell_type": "code",
   "execution_count": 3,
   "id": "51ba0bff",
   "metadata": {},
   "outputs": [],
   "source": [
    "# A method to download and train dataset\n",
    "\n",
    "def load_dataset():\n",
    "    (trainX, trainY),(testX, testY)= mnist.load_data()\n",
    "    trainX = trainX.reshape((trainX.shape[0],28,28,1))\n",
    "    testX = testX.reshape((testX.shape[0], 28,28,1))\n",
    "    trainY = to_categorical(trainY)\n",
    "    testY = to_categorical(testY)\n",
    "    return trainX, trainY, testX, testY"
   ]
  },
  {
   "cell_type": "code",
   "execution_count": 4,
   "id": "fed4b43c",
   "metadata": {},
   "outputs": [],
   "source": [
    "# Normalization\n",
    "def prep_pixels(train, test):\n",
    "    train_norm = train.astype(\"float32\")\n",
    "    test_norm = test.astype(\"float32\")\n",
    "    train_norm = train_norm/255.0\n",
    "    test_norm = test_nmorm/255.0\n",
    "    \n",
    "    return test_norm ,train_norm"
   ]
  },
  {
   "cell_type": "code",
   "execution_count": 8,
   "id": "9a460964",
   "metadata": {},
   "outputs": [],
   "source": [
    "# Define CNN model\n",
    "def define_model():\n",
    "    model = Sequential()\n",
    "    model.add(Conv2D(32, (3,3), activation = \"relu\", kernel_initializer = \"he_uniform\",\n",
    "                    input_shape = (28,28,1)))\n",
    "    model.add(MaxPooling2D(2,2))\n",
    "    model.add(Flatten())\n",
    "    model.add(Dense(100, activation = \"relu\", kernel_initializer = \"he_uniform\"))\n",
    "    model.add(Dense(10, activation = \"softmax\"))\n",
    "    opt = SGD(learning_rate = .001, momentum = .9)\n",
    "    model.compile(optimizer = opt, loss = \"categorical_crossentropy\", metrics = [\"accuracy\"])\n",
    "    return model"
   ]
  },
  {
   "cell_type": "code",
   "execution_count": 9,
   "id": "8dbd32a6",
   "metadata": {},
   "outputs": [],
   "source": [
    "# Evaluation of the model\n",
    "def evaluate_model(dataX, dataY, n_folds=5):\n",
    "    scores, histories = [], []\n",
    "    kfolds = KFold(n_folds, shuffle=True, random_state=1904)\n",
    "    \n",
    "    for train_ix, test_ix in kfolds.split(dataX):\n",
    "        model = define_model()\n",
    "        trainX, trainY, testX, testY = dataX[train_ix], dataY[train_ix], dataX[test_ix], dataY[test_ix]\n",
    "        history = model.fit(trainX, trainY, epochs=10, batch_size=32, \n",
    "                            validation_data=(testX, testY), verbose=1)\n",
    "        _, acc = model.evaluate(testX, testY, verbose=1)\n",
    "        print(\"> %.3f\" %(acc*100.0))\n",
    "        scores.append(acc)\n",
    "        histories.append(history)\n",
    "    return scores, histories\n",
    "        "
   ]
  },
  {
   "cell_type": "code",
   "execution_count": 12,
   "id": "ef29497d",
   "metadata": {},
   "outputs": [],
   "source": [
    "# Visualisation - Learning Curves\n",
    "\n",
    "def summarize_diagnostics(histories):\n",
    "    for i in range(len(histories)):\n",
    "        plt.subplot(2, 1, 1)\n",
    "        plt.title('Cross Entropy Loss')\n",
    "        plt.plot(histories[i].history['loss'], color='blue', label='train')\n",
    "        plt.plot(histories[i].history['val_loss'], color='orange', label='test')\n",
    "        \n",
    "        plt.subplot(2, 1, 2)\n",
    "        plt.title(\"Classification Accuracy\")\n",
    "        plt.plot(histories[i].history['accuracy'], color='blue', label='train')\n",
    "        plt.plot(histories[i].history['val_accuracy'], color='orange', label='test')\n",
    "    plt.show()     "
   ]
  },
  {
   "cell_type": "code",
   "execution_count": 13,
   "id": "36a5a79a",
   "metadata": {},
   "outputs": [],
   "source": [
    "## summarize Model Performance\n",
    "def summarize_performance(scores):\n",
    "    print(\"Accuracy: mean=%.3f std=%.3f, n=%d\" %(mean(scores)*100, std(scores)*100, len(scores)))\n",
    "    plt.boxplot(scores)\n",
    "    plt.show()"
   ]
  },
  {
   "cell_type": "code",
   "execution_count": 14,
   "id": "e1b033d3",
   "metadata": {},
   "outputs": [],
   "source": [
    "## Final method to train, evaluate and summarize the performance\n",
    "def run_test_harness():\n",
    "    trainX, trainY, testX, testY = load_dataset()\n",
    "    trainX, testX = prep_pixels(trainX, testX)\n",
    "    scores, histories = evaluate_model(trainX, trainY)\n",
    "    summarize_diagnostics(histories)\n",
    "    summarize_diagnostics(scores)"
   ]
  },
  {
   "cell_type": "code",
   "execution_count": null,
   "id": "e16aa949",
   "metadata": {},
   "outputs": [],
   "source": []
  }
 ],
 "metadata": {
  "kernelspec": {
   "display_name": "Python 3 (ipykernel)",
   "language": "python",
   "name": "python3"
  },
  "language_info": {
   "codemirror_mode": {
    "name": "ipython",
    "version": 3
   },
   "file_extension": ".py",
   "mimetype": "text/x-python",
   "name": "python",
   "nbconvert_exporter": "python",
   "pygments_lexer": "ipython3",
   "version": "3.9.7"
  }
 },
 "nbformat": 4,
 "nbformat_minor": 5
}
