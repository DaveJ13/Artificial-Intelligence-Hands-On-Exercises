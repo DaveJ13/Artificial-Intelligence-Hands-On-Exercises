{
 "cells": [
  {
   "cell_type": "code",
   "execution_count": 1,
   "id": "37cc315e",
   "metadata": {},
   "outputs": [],
   "source": [
    "import tensorflow as tf"
   ]
  },
  {
   "cell_type": "code",
   "execution_count": 2,
   "id": "37171453",
   "metadata": {},
   "outputs": [
    {
     "name": "stdout",
     "output_type": "stream",
     "text": [
      "2.8.0\n"
     ]
    }
   ],
   "source": [
    "print(tf.__version__)"
   ]
  },
  {
   "cell_type": "code",
   "execution_count": 6,
   "id": "a649e1f1",
   "metadata": {},
   "outputs": [],
   "source": [
    "# Building Tensors"
   ]
  },
  {
   "cell_type": "code",
   "execution_count": 3,
   "id": "de42f9f2",
   "metadata": {},
   "outputs": [],
   "source": [
    "hello = tf.constant(\"Hello \")"
   ]
  },
  {
   "cell_type": "code",
   "execution_count": 4,
   "id": "e56e118e",
   "metadata": {},
   "outputs": [
    {
     "data": {
      "text/plain": [
       "tensorflow.python.framework.ops.EagerTensor"
      ]
     },
     "execution_count": 4,
     "metadata": {},
     "output_type": "execute_result"
    }
   ],
   "source": [
    "type(hello)"
   ]
  },
  {
   "cell_type": "code",
   "execution_count": 5,
   "id": "743f2e77",
   "metadata": {},
   "outputs": [
    {
     "name": "stdout",
     "output_type": "stream",
     "text": [
      "Hello \r\n"
     ]
    }
   ],
   "source": [
    "tf.print(hello)"
   ]
  },
  {
   "cell_type": "code",
   "execution_count": 7,
   "id": "6bd0ba28",
   "metadata": {},
   "outputs": [],
   "source": [
    "world = tf.constant(\"World \")"
   ]
  },
  {
   "cell_type": "code",
   "execution_count": 8,
   "id": "949ec81f",
   "metadata": {},
   "outputs": [
    {
     "data": {
      "text/plain": [
       "tensorflow.python.framework.ops.EagerTensor"
      ]
     },
     "execution_count": 8,
     "metadata": {},
     "output_type": "execute_result"
    }
   ],
   "source": [
    "type(world)"
   ]
  },
  {
   "cell_type": "code",
   "execution_count": 9,
   "id": "4f7b1927",
   "metadata": {},
   "outputs": [
    {
     "name": "stdout",
     "output_type": "stream",
     "text": [
      "World \r\n"
     ]
    }
   ],
   "source": [
    "tf.print(world)"
   ]
  },
  {
   "cell_type": "code",
   "execution_count": 11,
   "id": "c0b64baa",
   "metadata": {},
   "outputs": [
    {
     "name": "stdout",
     "output_type": "stream",
     "text": [
      "Hello World \r\n"
     ]
    }
   ],
   "source": [
    "result = hello + world\n",
    "\n",
    "tf.print(result)"
   ]
  },
  {
   "cell_type": "code",
   "execution_count": 12,
   "id": "0bcdfcc1",
   "metadata": {},
   "outputs": [],
   "source": [
    "a = tf.constant(10)"
   ]
  },
  {
   "cell_type": "code",
   "execution_count": 13,
   "id": "0a3b45bf",
   "metadata": {},
   "outputs": [],
   "source": [
    "b = tf.constant(20)"
   ]
  },
  {
   "cell_type": "code",
   "execution_count": 14,
   "id": "8e958560",
   "metadata": {},
   "outputs": [
    {
     "data": {
      "text/plain": [
       "<tf.Tensor: shape=(), dtype=int32, numpy=30>"
      ]
     },
     "execution_count": 14,
     "metadata": {},
     "output_type": "execute_result"
    }
   ],
   "source": [
    "a + b"
   ]
  },
  {
   "cell_type": "code",
   "execution_count": 16,
   "id": "76027b74",
   "metadata": {},
   "outputs": [
    {
     "name": "stdout",
     "output_type": "stream",
     "text": [
      "30\r\n"
     ]
    }
   ],
   "source": [
    "tf.print(a + b)"
   ]
  },
  {
   "cell_type": "code",
   "execution_count": 17,
   "id": "0cbecf11",
   "metadata": {},
   "outputs": [],
   "source": [
    "# Array Tensors\n",
    "myarr = tf.fill((5,5),5)"
   ]
  },
  {
   "cell_type": "code",
   "execution_count": 18,
   "id": "fa157c10",
   "metadata": {},
   "outputs": [
    {
     "name": "stdout",
     "output_type": "stream",
     "text": [
      "[[5 5 5 5 5]\n",
      " [5 5 5 5 5]\n",
      " [5 5 5 5 5]\n",
      " [5 5 5 5 5]\n",
      " [5 5 5 5 5]]\r\n"
     ]
    }
   ],
   "source": [
    "tf.print(myarr) # Prints a tensor array"
   ]
  },
  {
   "cell_type": "code",
   "execution_count": 19,
   "id": "863c79d6",
   "metadata": {},
   "outputs": [
    {
     "data": {
      "text/plain": [
       "array([[5, 5, 5, 5, 5],\n",
       "       [5, 5, 5, 5, 5],\n",
       "       [5, 5, 5, 5, 5],\n",
       "       [5, 5, 5, 5, 5],\n",
       "       [5, 5, 5, 5, 5]])"
      ]
     },
     "execution_count": 19,
     "metadata": {},
     "output_type": "execute_result"
    }
   ],
   "source": [
    "myarr.numpy()   # Creates a numpy array"
   ]
  },
  {
   "cell_type": "code",
   "execution_count": 20,
   "id": "861404bf",
   "metadata": {},
   "outputs": [
    {
     "data": {
      "text/plain": [
       "TensorShape([2, 2])"
      ]
     },
     "execution_count": 20,
     "metadata": {},
     "output_type": "execute_result"
    }
   ],
   "source": [
    "a = tf.constant([[4,5],[6,6]])\n",
    "a.get_shape()"
   ]
  },
  {
   "cell_type": "code",
   "execution_count": 21,
   "id": "32af4cda",
   "metadata": {},
   "outputs": [
    {
     "data": {
      "text/plain": [
       "TensorShape([2, 1])"
      ]
     },
     "execution_count": 21,
     "metadata": {},
     "output_type": "execute_result"
    }
   ],
   "source": [
    "b = tf.constant([[8],[9]])\n",
    "b.get_shape()"
   ]
  },
  {
   "cell_type": "code",
   "execution_count": 22,
   "id": "67da8cbf",
   "metadata": {},
   "outputs": [
    {
     "name": "stdout",
     "output_type": "stream",
     "text": [
      "[[0.989362657 0.318722427 1.11826897 -0.690536082]\n",
      " [0.394115359 -1.08045769 1.16807353 -0.0661730543]\n",
      " [0.245779321 -1.46778047 -1.72705638 -0.833461702]\n",
      " [0.434653044 -1.13978362 1.72019637 1.39230311]]\r\n"
     ]
    }
   ],
   "source": [
    "# Creating tensor with normal distribution of random numbers\n",
    "mytensor = tf.random.normal((4,4),0,1) # First, pass the size of the distribution(4,4), then the mean of the distribution(0),\n",
    "# then the standard deviation(1). These values are set by the user. Mean(0) and sd(1) are standard, normal distributions.\n",
    "tf.print(mytensor)"
   ]
  },
  {
   "cell_type": "code",
   "execution_count": 23,
   "id": "f78d9816",
   "metadata": {},
   "outputs": [],
   "source": [
    "# Eager execution\n",
    "# TensorFlow 1.X required users to manually stitch together an absract syntax tree(a graph, if you will) by\n",
    "# making tf.*API calls. It then required users to manually compile the abstract syntax tree by passing a set \n",
    "# of input and output tensors to a sess.run() call.\n",
    "# TensorFlow 2.X executes eagerly(like Python normally does) and in 2.X, graphs and sessions fell like implementation\n",
    "# details. "
   ]
  },
  {
   "cell_type": "code",
   "execution_count": 24,
   "id": "b5165cfc",
   "metadata": {},
   "outputs": [
    {
     "name": "stdout",
     "output_type": "stream",
     "text": [
      "Eager Execution is enabled(running operations immediately)\n",
      "\n"
     ]
    }
   ],
   "source": [
    "# Eager execution verification\n",
    "if(tf.executing_eagerly()):\n",
    "    print(\"Eager Execution is enabled(running operations immediately)\\n\")\n",
    "else:\n",
    "    print(\"You are not runnung eager execution. Tensorflow version >= 2.0.0\" \\\n",
    "         \"has eager execution enabled by default.\")"
   ]
  },
  {
   "cell_type": "code",
   "execution_count": 27,
   "id": "f8b9c59f",
   "metadata": {},
   "outputs": [
    {
     "name": "stdout",
     "output_type": "stream",
     "text": [
      "Turn off eager execution by running: \n",
      "from tensorflow.python.framework.ops import disable_eager_execution\n",
      "disable_eager_execution()\n"
     ]
    }
   ],
   "source": [
    "# Disabling eager execution\n",
    "print((\"Turn off eager execution by running: \\n{0}\\n{1}\").format('' \\\n",
    "        \"from tensorflow.python.framework.ops import disable_eager_execution\", \\\n",
    "        \"disable_eager_execution()\"))"
   ]
  },
  {
   "cell_type": "code",
   "execution_count": 28,
   "id": "96067f66",
   "metadata": {},
   "outputs": [
    {
     "name": "stdout",
     "output_type": "stream",
     "text": [
      "Turn on eager execution by running: \n",
      "\n",
      "tf.compat.v1.enable_eager_execution()\n",
      "\n",
      "Or upgrade your tensorflow version by running: \n",
      "\n",
      "!pip install --upgrade tensorflow\n",
      "!pip install --upgrade tensorflow-gpu\n"
     ]
    }
   ],
   "source": [
    "# Enabling eager execution\n",
    "print((\"Turn on eager execution by running: \\n\\n{0}\\n\\nOr upgrade \" \\\n",
    "      \"your tensorflow version by running: \\n\\n{1}\").format(\n",
    "      \"tf.compat.v1.enable_eager_execution()\",\n",
    "      \"!pip install --upgrade tensorflow\\n\" \\\n",
    "      \"!pip install --upgrade tensorflow-gpu\"))"
   ]
  },
  {
   "cell_type": "code",
   "execution_count": 29,
   "id": "d7e15fea",
   "metadata": {},
   "outputs": [],
   "source": [
    "# Simple operations in tensorflow\n",
    "# Common functions from tensorflow\n",
    "# 1. Making tensors tf.constant() and tf.Variable()\n",
    "# 2. Concatenation of two tensors using tf.concat()\n",
    "# 3. Making tensors with tf.zeros() or tf.ones()\n",
    "# 4. Reshaping data by tf.reshape()\n",
    "# 5. Casting tensors to other data types with tf.cast()"
   ]
  },
  {
   "cell_type": "code",
   "execution_count": 31,
   "id": "f634d772",
   "metadata": {},
   "outputs": [],
   "source": [
    "# Making a constant tensor (A), that does not change:\n",
    "A = tf.constant([[4,3],[6,3],[9,8]])"
   ]
  },
  {
   "cell_type": "code",
   "execution_count": 32,
   "id": "9fcc3cc8",
   "metadata": {},
   "outputs": [
    {
     "name": "stdout",
     "output_type": "stream",
     "text": [
      "[[4 3]\n",
      " [6 3]\n",
      " [9 8]]\r\n"
     ]
    }
   ],
   "source": [
    "tf.print(A)"
   ]
  },
  {
   "cell_type": "code",
   "execution_count": 33,
   "id": "054796c8",
   "metadata": {},
   "outputs": [
    {
     "data": {
      "text/plain": [
       "array([[4, 3],\n",
       "       [6, 3],\n",
       "       [9, 8]])"
      ]
     },
     "execution_count": 33,
     "metadata": {},
     "output_type": "execute_result"
    }
   ],
   "source": [
    "A.numpy()"
   ]
  },
  {
   "cell_type": "code",
   "execution_count": 39,
   "id": "d021b224",
   "metadata": {},
   "outputs": [],
   "source": [
    "# Making a variable tensor VA, which can change. Variable is uppercase, in this instance.\n",
    "VA = tf.constant([[1,0],[4,7]])\n",
    "\n",
    "# Making another tensor(b)\n",
    "B = tf.constant([[4,4],[7,8],[9,9]])\n"
   ]
  },
  {
   "cell_type": "code",
   "execution_count": 40,
   "id": "abef0a64",
   "metadata": {},
   "outputs": [
    {
     "name": "stdout",
     "output_type": "stream",
     "text": [
      "[[1 0]\n",
      " [4 7]]\r\n"
     ]
    }
   ],
   "source": [
    "tf.print(VA)"
   ]
  },
  {
   "cell_type": "code",
   "execution_count": 41,
   "id": "a461b70c",
   "metadata": {},
   "outputs": [
    {
     "name": "stdout",
     "output_type": "stream",
     "text": [
      "[[4 4]\n",
      " [7 8]\n",
      " [9 9]]\r\n"
     ]
    }
   ],
   "source": [
    "tf.print(B)"
   ]
  },
  {
   "cell_type": "code",
   "execution_count": 43,
   "id": "d51f07e6",
   "metadata": {},
   "outputs": [
    {
     "name": "stdout",
     "output_type": "stream",
     "text": [
      "adding B\"s columns to A: \n",
      "[[4 3 4 4]\n",
      " [6 3 7 8]\n",
      " [9 8 9 9]]\n"
     ]
    }
   ],
   "source": [
    "# Concatenation by tf.concat\n",
    "\n",
    "# Concatenating columns\n",
    "AB_concatenated = tf.concat(values= [A,B], axis = 1)\n",
    "print(f\"adding B\\\"s columns to A: \\n{AB_concatenated.numpy()}\" )"
   ]
  },
  {
   "cell_type": "code",
   "execution_count": 45,
   "id": "9ce2d560",
   "metadata": {},
   "outputs": [
    {
     "name": "stdout",
     "output_type": "stream",
     "text": [
      "adding B's rows to A: \n",
      "[[4 3]\n",
      " [6 3]\n",
      " [9 8]\n",
      " [4 4]\n",
      " [7 8]\n",
      " [9 9]]\n"
     ]
    }
   ],
   "source": [
    "# Concatenating rows\n",
    "AB_concatenated = tf.concat(values = [A,B], axis = 0)\n",
    "print(f\"adding B\\'s rows to A: \\n{AB_concatenated.numpy()}\" )"
   ]
  },
  {
   "cell_type": "code",
   "execution_count": 47,
   "id": "944f9b6a",
   "metadata": {},
   "outputs": [
    {
     "name": "stdout",
     "output_type": "stream",
     "text": [
      "Tensor full of zeros as int32, 2 rows and 4 columns:\n",
      "[[0 0 0 0]\n",
      " [0 0 0 0]]\n"
     ]
    }
   ],
   "source": [
    "# Making tensors with tf.zeros() and tf.ones()\n",
    "\n",
    "# Making a tensor filled with zeros. shape = [rows, columns]\n",
    "tensor = tf.zeros(shape = [2,4], dtype = tf.int32) # tf.zeros will always be integer type\n",
    "print(f\"Tensor full of zeros as int32, 2 rows and 4 columns:\\n{tensor.numpy()}\")"
   ]
  },
  {
   "cell_type": "code",
   "execution_count": 48,
   "id": "a6ac00a0",
   "metadata": {},
   "outputs": [
    {
     "name": "stdout",
     "output_type": "stream",
     "text": [
      "Tensor filled with ones as float32, 4 rows and 5 columns:\n",
      "[[1. 1. 1. 1. 1.]\n",
      " [1. 1. 1. 1. 1.]\n",
      " [1. 1. 1. 1. 1.]\n",
      " [1. 1. 1. 1. 1.]]\n"
     ]
    }
   ],
   "source": [
    "# Making a tensor filled with ones as type float32\n",
    "tensor = tf.ones(shape = [4,5], dtype = tf.float32)\n",
    "print(f\"Tensor filled with ones as float32, 4 rows and 5 columns:\\n{tensor.numpy()}\")"
   ]
  },
  {
   "cell_type": "code",
   "execution_count": 49,
   "id": "cd0c99d2",
   "metadata": {},
   "outputs": [],
   "source": [
    "# Reshaping data using tf.reshape()\n",
    "\n",
    "# Make a tensor\n",
    "tensor = tf.constant([[5,2,8],[2,2,7],[5,5,6],[1,3,3]])"
   ]
  },
  {
   "cell_type": "code",
   "execution_count": 50,
   "id": "99c2a340",
   "metadata": {},
   "outputs": [],
   "source": [
    "# Reshaping the tensor into a shape of: shape = [row, columns]\n",
    "reshaped_tensor = tf.reshape(tensor = tensor, shape = [1,12])"
   ]
  },
  {
   "cell_type": "code",
   "execution_count": 51,
   "id": "60c9d3c5",
   "metadata": {},
   "outputs": [
    {
     "name": "stdout",
     "output_type": "stream",
     "text": [
      "Tensor before reshape:\n",
      "[[5 2 8]\n",
      " [2 2 7]\n",
      " [5 5 6]\n",
      " [1 3 3]]\n",
      "Tensor after reshape:\n",
      "[[5 2 8 2 2 7 5 5 6 1 3 3]]\n"
     ]
    }
   ],
   "source": [
    "# Showing the difference\n",
    "print(f\"Tensor before reshape:\\n{tensor.numpy()}\")\n",
    "print(f\"Tensor after reshape:\\n{reshaped_tensor.numpy()}\")"
   ]
  },
  {
   "cell_type": "code",
   "execution_count": 53,
   "id": "cbd3e7b3",
   "metadata": {},
   "outputs": [],
   "source": [
    "# Casting tensors to other data types with tf.cast()\n",
    "\n",
    "# Make a tensor\n",
    "tensor = tf.constant([[1.3,7.5,4.6],[7.2,1.3,8.88],[1.4,7.5,9.34],[8.1,5.4,4.66]], dtype = tf.float32)\n",
    "tensor_as_int = tf.cast(tensor, tf.int32)"
   ]
  },
  {
   "cell_type": "code",
   "execution_count": 54,
   "id": "443ac648",
   "metadata": {},
   "outputs": [
    {
     "name": "stdout",
     "output_type": "stream",
     "text": [
      "Tensor with floats:\n",
      "[[1.3  7.5  4.6 ]\n",
      " [7.2  1.3  8.88]\n",
      " [1.4  7.5  9.34]\n",
      " [8.1  5.4  4.66]]\n",
      "Tensor cast from float to integer (just remove decimal, no rounding):\n",
      "[[1 7 4]\n",
      " [7 1 8]\n",
      " [1 7 9]\n",
      " [8 5 4]]\n"
     ]
    }
   ],
   "source": [
    "print(f\"Tensor with floats:\\n{ tensor.numpy()}\")\n",
    "print(f\"Tensor cast from float to integer (just remove decimal, no rounding):\\n{ tensor_as_int.numpy()}\")"
   ]
  },
  {
   "cell_type": "code",
   "execution_count": 55,
   "id": "d64098df",
   "metadata": {},
   "outputs": [],
   "source": [
    "# Linear algebra operations\n",
    "# 1. Transpose tensors\n",
    "# 2. Matrix multiplication\n",
    "# 3. Element-wise multiplication\n",
    "# 4. Identity matrix"
   ]
  },
  {
   "cell_type": "code",
   "execution_count": 56,
   "id": "524ce481",
   "metadata": {},
   "outputs": [
    {
     "name": "stdout",
     "output_type": "stream",
     "text": [
      "The transposed matrix:\n",
      "[[9 1]\n",
      " [7 5]\n",
      " [6 7]]\n"
     ]
    }
   ],
   "source": [
    "# Transpose tensor\n",
    "A = tf.constant([[9,7,6],[1,5,7]])\n",
    "A = tf.transpose(A)\n",
    "print(f\"The transposed matrix:\\n{A}\")"
   ]
  },
  {
   "cell_type": "code",
   "execution_count": 58,
   "id": "c0a565ff",
   "metadata": {},
   "outputs": [
    {
     "name": "stdout",
     "output_type": "stream",
     "text": [
      "Matrix multiplication of A and v results in a new tensor:\n",
      "[[49]\n",
      " [43]]\n"
     ]
    }
   ],
   "source": [
    "# Matrix multiplication: All elements of first row matrix are multilpied with element of first row vector, and so on. \n",
    "# Some matrix(A)\n",
    "A = tf.constant([[3,7],[1,9]])  #2x2 matrix\n",
    "# Some vector v\n",
    "v = tf.constant([[7],[4]])  # 2x1 vector\n",
    "# Matrix multiplication of A * v^T\n",
    "Av = tf.matmul(A,v)\n",
    "print(f\"Matrix multiplication of A and v results in a new tensor:\\n{Av}\")"
   ]
  },
  {
   "cell_type": "code",
   "execution_count": 59,
   "id": "93b12c85",
   "metadata": {},
   "outputs": [
    {
     "name": "stdout",
     "output_type": "stream",
     "text": [
      "Element-wise multiplication of A and v results in a new tensor:\n",
      "[[21 49]\n",
      " [ 4 36]]\n"
     ]
    }
   ],
   "source": [
    "# Element-wise multiplication\n",
    "Av = tf.multiply(A, v)\n",
    "print(f\"Element-wise multiplication of A and v results in a new tensor:\\n{Av}\")\n",
    "# Comparing matrix and element-wise multiplication, we can see they are different."
   ]
  },
  {
   "cell_type": "code",
   "execution_count": 60,
   "id": "0efa0e43",
   "metadata": {},
   "outputs": [],
   "source": [
    "# Identity matrix\n",
    "A = tf.constant([[3,7],[1,9]])\n",
    "v = tf.constant([[7],[4]])"
   ]
  },
  {
   "cell_type": "code",
   "execution_count": 61,
   "id": "ac894789",
   "metadata": {},
   "outputs": [
    {
     "name": "stdout",
     "output_type": "stream",
     "text": [
      "Get rows and columns in tensor A:\n",
      "2 rows\n",
      "2 columns\n"
     ]
    }
   ],
   "source": [
    "# Get number of dimensions\n",
    "rows, columns = A.shape\n",
    "print(f\"Get rows and columns in tensor A:\\n{rows} rows\\n{columns} columns\")"
   ]
  },
  {
   "cell_type": "code",
   "execution_count": 63,
   "id": "0adc38ca",
   "metadata": {},
   "outputs": [
    {
     "name": "stdout",
     "output_type": "stream",
     "text": [
      "\n",
      "The identity matrix of A:\n",
      "[[1 0]\n",
      " [0 1]]\n"
     ]
    }
   ],
   "source": [
    "# Making identity matrix\n",
    "A_identity = tf.eye(num_rows = rows, num_columns = columns, dtype = tf.int32)\n",
    "print(f\"\\nThe identity matrix of A:\\n{A_identity.numpy()}\")"
   ]
  },
  {
   "cell_type": "code",
   "execution_count": 64,
   "id": "f0c68a42",
   "metadata": {},
   "outputs": [
    {
     "name": "stdout",
     "output_type": "stream",
     "text": [
      "Matrix multiplication of A and v results in a new tensor:\n",
      "[[3 7]\n",
      " [1 9]]\n"
     ]
    }
   ],
   "source": [
    "# Matrix multiplication of A.A_identity\n",
    "AAt = tf.matmul(A,A_identity)\n",
    "print(f\"Matrix multiplication of A and v results in a new tensor:\\n{AAt}\")"
   ]
  },
  {
   "cell_type": "code",
   "execution_count": 67,
   "id": "7bfe34c5",
   "metadata": {},
   "outputs": [],
   "source": [
    "# Creating a variable in TensorFlow\n",
    "# To use the value of a tf.Variable in a TensorFlow graph, simply treat it like a tf.Tensor\n",
    "my_variable = tf.Variable(tf.zeros([2, 3, 4]))  # Two tensors with three rows and four columns"
   ]
  },
  {
   "cell_type": "code",
   "execution_count": 69,
   "id": "98d084e0",
   "metadata": {},
   "outputs": [
    {
     "name": "stdout",
     "output_type": "stream",
     "text": [
      "[[[0 0 0 0]\n",
      "  [0 0 0 0]\n",
      "  [0 0 0 0]]\n",
      "\n",
      " [[0 0 0 0]\n",
      "  [0 0 0 0]\n",
      "  [0 0 0 0]]]\r\n"
     ]
    }
   ],
   "source": [
    "tf.print(my_variable)"
   ]
  },
  {
   "cell_type": "code",
   "execution_count": 73,
   "id": "777b7b84",
   "metadata": {},
   "outputs": [
    {
     "name": "stdout",
     "output_type": "stream",
     "text": [
      "0\n",
      "1\n"
     ]
    }
   ],
   "source": [
    "v = tf.Variable(0.0)\n",
    "w = v + 1  # w is a tf.Tensor which is computed on the value of y\n",
    "           # Anytime a variable is used in an expression, it get automatically converted to a tf.Tensor\n",
    "           # representng it's value.\n",
    "tf.print(v)\n",
    "tf.print(w)"
   ]
  },
  {
   "cell_type": "code",
   "execution_count": 76,
   "id": "ef8abf53",
   "metadata": {},
   "outputs": [
    {
     "data": {
      "text/plain": [
       "<tf.Variable 'UnreadVariable' shape=() dtype=float32, numpy=2.0>"
      ]
     },
     "execution_count": 76,
     "metadata": {},
     "output_type": "execute_result"
    }
   ],
   "source": [
    "v = tf.Variable(0.0)\n",
    "v.assign(2)   # Using assign method to change value of (v) to 2. Also, you can add .numpy() to get a numpy array"
   ]
  },
  {
   "cell_type": "code",
   "execution_count": 77,
   "id": "d49876fa",
   "metadata": {},
   "outputs": [
    {
     "name": "stdout",
     "output_type": "stream",
     "text": [
      "2\r\n"
     ]
    }
   ],
   "source": [
    "tf.print(v)"
   ]
  },
  {
   "cell_type": "code",
   "execution_count": 78,
   "id": "73230256",
   "metadata": {},
   "outputs": [
    {
     "data": {
      "text/plain": [
       "<tf.Variable 'UnreadVariable' shape=() dtype=float32, numpy=1.0>"
      ]
     },
     "execution_count": 78,
     "metadata": {},
     "output_type": "execute_result"
    }
   ],
   "source": [
    "v = tf.Variable(0.0)\n",
    "v.assign_add(1)"
   ]
  },
  {
   "cell_type": "code",
   "execution_count": 79,
   "id": "c00a1fc0",
   "metadata": {},
   "outputs": [
    {
     "name": "stdout",
     "output_type": "stream",
     "text": [
      "1\r\n"
     ]
    }
   ],
   "source": [
    "tf.print(v)"
   ]
  },
  {
   "cell_type": "code",
   "execution_count": 80,
   "id": "79d95ae3",
   "metadata": {},
   "outputs": [],
   "source": [
    "# Operations in Tensorflow 2.0\n",
    "# Functions, not sessions!!\n",
    "# TensorFlow 1.0: \n",
    "# outputs = session.run(f(placeholder), feed_dict = {placeholder.input})\n",
    "\n",
    "# TensorFlow 2.0:\n",
    "# outputs = f(input)"
   ]
  },
  {
   "cell_type": "code",
   "execution_count": 81,
   "id": "f518dd3c",
   "metadata": {},
   "outputs": [],
   "source": [
    "def add_op(a,b):\n",
    "    return a + b"
   ]
  },
  {
   "cell_type": "code",
   "execution_count": 82,
   "id": "cb843c89",
   "metadata": {},
   "outputs": [
    {
     "name": "stdout",
     "output_type": "stream",
     "text": [
      "30\n"
     ]
    }
   ],
   "source": [
    "print(add_op(10,20))"
   ]
  },
  {
   "cell_type": "code",
   "execution_count": 84,
   "id": "f6d0cd65",
   "metadata": {},
   "outputs": [],
   "source": [
    "# Linear model\n",
    "W = tf.Variable([10], tf.int32)\n",
    "b = tf.Variable([5], tf.int32)"
   ]
  },
  {
   "cell_type": "code",
   "execution_count": 85,
   "id": "96eef452",
   "metadata": {},
   "outputs": [],
   "source": [
    "# Build the model\n",
    "def linear_model(x):\n",
    "    return W*x + b"
   ]
  },
  {
   "cell_type": "code",
   "execution_count": 86,
   "id": "dba76684",
   "metadata": {},
   "outputs": [
    {
     "data": {
      "text/plain": [
       "<tf.Tensor: shape=(4,), dtype=int32, numpy=array([ 55, 105, 155, 205])>"
      ]
     },
     "execution_count": 86,
     "metadata": {},
     "output_type": "execute_result"
    }
   ],
   "source": [
    "linear_model(x = [5,10,15,20])"
   ]
  },
  {
   "cell_type": "code",
   "execution_count": 87,
   "id": "b3613997",
   "metadata": {},
   "outputs": [
    {
     "data": {
      "text/plain": [
       "array([ 55, 105, 155, 205])"
      ]
     },
     "execution_count": 87,
     "metadata": {},
     "output_type": "execute_result"
    }
   ],
   "source": [
    "linear_model(x = [5,10,15,20]).numpy()  # Add numpy() to return a numpy array"
   ]
  },
  {
   "cell_type": "code",
   "execution_count": null,
   "id": "9619739d",
   "metadata": {},
   "outputs": [],
   "source": []
  }
 ],
 "metadata": {
  "kernelspec": {
   "display_name": "Python 3 (ipykernel)",
   "language": "python",
   "name": "python3"
  },
  "language_info": {
   "codemirror_mode": {
    "name": "ipython",
    "version": 3
   },
   "file_extension": ".py",
   "mimetype": "text/x-python",
   "name": "python",
   "nbconvert_exporter": "python",
   "pygments_lexer": "ipython3",
   "version": "3.9.7"
  }
 },
 "nbformat": 4,
 "nbformat_minor": 5
}
